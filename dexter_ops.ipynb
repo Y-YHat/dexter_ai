{
  "nbformat": 4,
  "nbformat_minor": 0,
  "metadata": {
    "colab": {
      "provenance": [],
      "authorship_tag": "ABX9TyN3+FGBGTMJXQgcy2d+vXiB",
      "include_colab_link": true
    },
    "kernelspec": {
      "name": "python3",
      "display_name": "Python 3"
    },
    "language_info": {
      "name": "python"
    }
  },
  "cells": [
    {
      "cell_type": "markdown",
      "metadata": {
        "id": "view-in-github",
        "colab_type": "text"
      },
      "source": [
        "<a href=\"https://colab.research.google.com/github/Y-YHat/dexter_ai/blob/main/dexter_ops.ipynb\" target=\"_parent\"><img src=\"https://colab.research.google.com/assets/colab-badge.svg\" alt=\"Open In Colab\"/></a>"
      ]
    },
    {
      "cell_type": "code",
      "source": [
        "! pip install -q crewai"
      ],
      "metadata": {
        "id": "xolTc6rsb2Tw"
      },
      "execution_count": null,
      "outputs": []
    },
    {
      "cell_type": "code",
      "source": [
        "\n",
        "# Import necessary modules\n",
        "import os\n",
        "from crewai import Agent, Task, Crew\n"
      ],
      "metadata": {
        "id": "OK5mQAjFMy0D"
      },
      "execution_count": 2,
      "outputs": []
    },
    {
      "cell_type": "code",
      "source": [
        "# Set up your OpenAI API key\n",
        "\n",
        "from google.colab import userdata\n",
        "os.environ[\"OPENAI_API_KEY\"] = userdata.get('OPENAI_API_KEY')\n",
        "os.environ[\"OPENAI_MODEL_NAME\"] = \"gpt-4\""
      ],
      "metadata": {
        "id": "Kn02f1oLM2nN"
      },
      "execution_count": 9,
      "outputs": []
    },
    {
      "cell_type": "markdown",
      "source": [
        "# *hello  world \\# crew ai*"
      ],
      "metadata": {
        "id": "G40MNgZe6j2F"
      }
    },
    {
      "cell_type": "code",
      "source": [
        "# Create agents\n",
        "\n",
        "planner = Agent(\n",
        "    role='Travel Planner',\n",
        "    goal='Create a detailed itinerary based on research',\n",
        "    backstory='You are a skilled travel planner who can create exciting and efficient travel plans'\n",
        "    )\n",
        "\n",
        "planning_task = Task(\n",
        "    description='Create a 3-day itinerary for Bangkok based on the research',\n",
        "    agent=planner,\n",
        "    expected_output='A list of top 5 attractions and activities in Bangkok suitable for a 3-day trip'\n",
        ")\n",
        "\n",
        "# Create the crew\n",
        "crew = Crew(\n",
        "    agents=[planner],\n",
        "    tasks=[planning_task],\n",
        ")\n",
        "\n",
        "# Start the crew\n",
        "result = crew.kickoff()\n",
        "\n",
        "print(\"Final Result:\")\n",
        "print(result)"
      ],
      "metadata": {
        "id": "sst1KW5HgOCS",
        "colab": {
          "base_uri": "https://localhost:8080/"
        },
        "outputId": "5bc291f8-153f-4a76-990e-fbdc9ffd9d87"
      },
      "execution_count": 10,
      "outputs": [
        {
          "output_type": "stream",
          "name": "stderr",
          "text": [
            "WARNING:opentelemetry.trace:Overriding of current TracerProvider is not allowed\n"
          ]
        },
        {
          "output_type": "stream",
          "name": "stdout",
          "text": [
            "Final Result:\n",
            "Here is a detailed 3-day itinerary for Bangkok:\n",
            "\n",
            "### Day 1: Cultural and Historical Exploration\n",
            "\n",
            "**Morning:**\n",
            "1. **The Grand Palace and Wat Phra Kaew (Temple of the Emerald Buddha)** \n",
            "   - **Time:** 3-4 hours\n",
            "   - **Description:** Begin your day at Bangkok's most famous landmark. The Grand Palace complex includes the Temple of the Emerald Buddha, which holds the highly revered Emerald Buddha statue. The architecture and intricate details are stunning and offer a glimpse into Thailand's rich history.\n",
            "\n",
            "**Afternoon:**\n",
            "2. **Wat Pho (Temple of the Reclining Buddha)**\n",
            "   - **Time:** 2 hours\n",
            "   - **Description:** Just a short walk from the Grand Palace, Wat Pho is home to the giant reclining Buddha statue and is one of the oldest and largest temples in Bangkok. It's also considered the birthplace of traditional Thai massage.\n",
            "\n",
            "**Evening:**\n",
            "3. **Asiatique The Riverfront**\n",
            "   - **Time:** 3-4 hours\n",
            "   - **Description:** Head to this bustling open-air mall set along the riverfront. It combines shopping, dining, and entertainment, with over 1,500 boutiques and 40 restaurants offering various cuisines. The nightly Calypso Cabaret Show is a popular attraction.\n",
            "\n",
            "### Day 2: Modern Bangkok and Unique Experiences\n",
            "\n",
            "**Morning:**\n",
            "4. **Jim Thompson House**\n",
            "   - **Time:** 2-3 hours\n",
            "   - **Description:** Explore the beautifully preserved traditional Thai house of Jim Thompson—an American businessman largely credited with reviving the Thai silk industry. The house-turned-museum is surrounded by lovely gardens.\n",
            "\n",
            "**Afternoon:**\n",
            "5. **Siam Paragon & MBK Center**\n",
            "   - **Time:** 3-4 hours\n",
            "   - **Description:** Experience modern Bangkok at these two iconic shopping centers. Siam Paragon offers luxury brands and a myriad of dining options, while MBK Center is known for its affordable fashion finds, electronics, and local goods.\n",
            "\n",
            "**Evening:**\n",
            "6. **Chao Phraya River Dinner Cruise**\n",
            "   - **Time:** 2-3 hours\n",
            "   - **Description:** Spend the evening on a luxurious dinner cruise along the Chao Phraya River. Enjoy delectable Thai cuisine while taking in views of illuminated landmarks such as the Grand Palace and Wat Arun.\n",
            "\n",
            "### Day 3: Markets and Local Living\n",
            "\n",
            "**Morning:**\n",
            "7. **Chatuchak Weekend Market (if your visit includes a weekend) **\n",
            "   - **Time:** 3-4 hours\n",
            "   - **Description:** One of the world's largest markets, where you can find nearly anything—from clothes and accessories to home décor, plants, and even pets. Sampling the street food here is a must.\n",
            "\n",
            "   OR \n",
            "\n",
            "**If not a weekend:**\n",
            "\n",
            "7. **Damnoen Saduak Floating Market**\n",
            "   - **Time:** 4-5 hours (including travel)\n",
            "   - **Description:** If your trip doesn't cover a weekend, visit this iconic floating market a little outside the city. Arrive early to see the bustling marketplace, and take a boat tour to experience traditional Thai market life.\n",
            "\n",
            "**Afternoon:**\n",
            "8. **Wat Arun (Temple of Dawn)**\n",
            "   - **Time:** 2 hours\n",
            "   - **Description:** Known for its ornate spires and riverside location, Wat Arun is especially stunning at sunset. Climb up the central spire for a panoramic view of the Chao Phraya River.\n",
            "\n",
            "**Evening:**\n",
            "9. **Khao San Road**\n",
            "   - **Time:** 3-4 hours\n",
            "   - **Description:** End your trip with a vibrant nightlife experience on Khao San Road. Known as the backpacker's hub, it offers a mix of street food, bars, clubs, and live music. It’s a great place to meet other travelers and soak in the energetic atmosphere of Bangkok.\n",
            "\n",
            "This itinerary balances cultural landmarks, market experiences, and modern attractions for a well-rounded visit to Bangkok.\n"
          ]
        }
      ]
    },
    {
      "cell_type": "code",
      "source": [],
      "metadata": {
        "id": "yw67hiTjikzW"
      },
      "execution_count": null,
      "outputs": []
    }
  ]
}