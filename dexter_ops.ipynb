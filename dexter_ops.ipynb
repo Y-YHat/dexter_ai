{
  "nbformat": 4,
  "nbformat_minor": 0,
  "metadata": {
    "colab": {
      "provenance": [],
      "include_colab_link": true
    },
    "kernelspec": {
      "name": "python3",
      "display_name": "Python 3"
    },
    "language_info": {
      "name": "python"
    }
  },
  "cells": [
    {
      "cell_type": "markdown",
      "metadata": {
        "id": "view-in-github",
        "colab_type": "text"
      },
      "source": [
        "<a href=\"https://colab.research.google.com/github/Y-YHat/dexter_ai/blob/main/dexter_ops.ipynb\" target=\"_parent\"><img src=\"https://colab.research.google.com/assets/colab-badge.svg\" alt=\"Open In Colab\"/></a>"
      ]
    },
    {
      "cell_type": "code",
      "source": [
        "! pip install -q crewai"
      ],
      "metadata": {
        "id": "xolTc6rsb2Tw",
        "outputId": "6a6e871f-627e-4bff-d421-8ccc26cb332e",
        "colab": {
          "base_uri": "https://localhost:8080/"
        }
      },
      "execution_count": 1,
      "outputs": [
        {
          "output_type": "stream",
          "name": "stdout",
          "text": [
            "\u001b[?25l     \u001b[90m━━━━━━━━━━━━━━━━━━━━━━━━━━━━━━━━━━━━━━━━\u001b[0m \u001b[32m0.0/67.3 kB\u001b[0m \u001b[31m?\u001b[0m eta \u001b[36m-:--:--\u001b[0m\r\u001b[2K     \u001b[90m━━━━━━━━━━━━━━━━━━━━━━━━━━━━━━━━━━━━━━━━\u001b[0m \u001b[32m67.3/67.3 kB\u001b[0m \u001b[31m3.3 MB/s\u001b[0m eta \u001b[36m0:00:00\u001b[0m\n",
            "\u001b[?25h  Installing build dependencies ... \u001b[?25l\u001b[?25hdone\n",
            "  Getting requirements to build wheel ... \u001b[?25l\u001b[?25hdone\n",
            "  Preparing metadata (pyproject.toml) ... \u001b[?25l\u001b[?25hdone\n",
            "\u001b[2K     \u001b[90m━━━━━━━━━━━━━━━━━━━━━━━━━━━━━━━━━━━━━━━━\u001b[0m \u001b[32m50.6/50.6 kB\u001b[0m \u001b[31m623.3 kB/s\u001b[0m eta \u001b[36m0:00:00\u001b[0m\n",
            "\u001b[?25h  Preparing metadata (setup.py) ... \u001b[?25l\u001b[?25hdone\n",
            "\u001b[2K   \u001b[90m━━━━━━━━━━━━━━━━━━━━━━━━━━━━━━━━━━━━━━━━\u001b[0m \u001b[32m191.2/191.2 kB\u001b[0m \u001b[31m7.3 MB/s\u001b[0m eta \u001b[36m0:00:00\u001b[0m\n",
            "\u001b[2K   \u001b[90m━━━━━━━━━━━━━━━━━━━━━━━━━━━━━━━━━━━━━━━━\u001b[0m \u001b[32m131.8/131.8 kB\u001b[0m \u001b[31m8.7 MB/s\u001b[0m eta \u001b[36m0:00:00\u001b[0m\n",
            "\u001b[2K   \u001b[90m━━━━━━━━━━━━━━━━━━━━━━━━━━━━━━━━━━━━━━━━\u001b[0m \u001b[32m463.7/463.7 kB\u001b[0m \u001b[31m19.8 MB/s\u001b[0m eta \u001b[36m0:00:00\u001b[0m\n",
            "\u001b[2K   \u001b[90m━━━━━━━━━━━━━━━━━━━━━━━━━━━━━━━━━━━━━━━━\u001b[0m \u001b[32m69.4/69.4 kB\u001b[0m \u001b[31m4.9 MB/s\u001b[0m eta \u001b[36m0:00:00\u001b[0m\n",
            "\u001b[2K   \u001b[90m━━━━━━━━━━━━━━━━━━━━━━━━━━━━━━━━━━━━━━━━\u001b[0m \u001b[32m1.0/1.0 MB\u001b[0m \u001b[31m36.1 MB/s\u001b[0m eta \u001b[36m0:00:00\u001b[0m\n",
            "\u001b[2K   \u001b[90m━━━━━━━━━━━━━━━━━━━━━━━━━━━━━━━━━━━━━━━━\u001b[0m \u001b[32m6.3/6.3 MB\u001b[0m \u001b[31m16.5 MB/s\u001b[0m eta \u001b[36m0:00:00\u001b[0m\n",
            "\u001b[2K   \u001b[90m━━━━━━━━━━━━━━━━━━━━━━━━━━━━━━━━━━━━━━━━\u001b[0m \u001b[32m386.9/386.9 kB\u001b[0m \u001b[31m18.6 MB/s\u001b[0m eta \u001b[36m0:00:00\u001b[0m\n",
            "\u001b[2K   \u001b[90m━━━━━━━━━━━━━━━━━━━━━━━━━━━━━━━━━━━━━━━━\u001b[0m \u001b[32m64.0/64.0 kB\u001b[0m \u001b[31m4.7 MB/s\u001b[0m eta \u001b[36m0:00:00\u001b[0m\n",
            "\u001b[2K   \u001b[90m━━━━━━━━━━━━━━━━━━━━━━━━━━━━━━━━━━━━━━━━\u001b[0m \u001b[32m52.5/52.5 kB\u001b[0m \u001b[31m2.7 MB/s\u001b[0m eta \u001b[36m0:00:00\u001b[0m\n",
            "\u001b[2K   \u001b[90m━━━━━━━━━━━━━━━━━━━━━━━━━━━━━━━━━━━━━━━━\u001b[0m \u001b[32m110.5/110.5 kB\u001b[0m \u001b[31m7.5 MB/s\u001b[0m eta \u001b[36m0:00:00\u001b[0m\n",
            "\u001b[2K   \u001b[90m━━━━━━━━━━━━━━━━━━━━━━━━━━━━━━━━━━━━━━━━\u001b[0m \u001b[32m149.7/149.7 kB\u001b[0m \u001b[31m7.7 MB/s\u001b[0m eta \u001b[36m0:00:00\u001b[0m\n",
            "\u001b[2K   \u001b[90m━━━━━━━━━━━━━━━━━━━━━━━━━━━━━━━━━━━━━━━━\u001b[0m \u001b[32m756.0/756.0 kB\u001b[0m \u001b[31m31.0 MB/s\u001b[0m eta \u001b[36m0:00:00\u001b[0m\n",
            "\u001b[2K   \u001b[90m━━━━━━━━━━━━━━━━━━━━━━━━━━━━━━━━━━━━━━━━\u001b[0m \u001b[32m13.8/13.8 MB\u001b[0m \u001b[31m49.0 MB/s\u001b[0m eta \u001b[36m0:00:00\u001b[0m\n",
            "\u001b[2K   \u001b[90m━━━━━━━━━━━━━━━━━━━━━━━━━━━━━━━━━━━━━━━━\u001b[0m \u001b[32m273.8/273.8 kB\u001b[0m \u001b[31m14.9 MB/s\u001b[0m eta \u001b[36m0:00:00\u001b[0m\n",
            "\u001b[2K   \u001b[90m━━━━━━━━━━━━━━━━━━━━━━━━━━━━━━━━━━━━━━━━\u001b[0m \u001b[32m147.8/147.8 kB\u001b[0m \u001b[31m9.5 MB/s\u001b[0m eta \u001b[36m0:00:00\u001b[0m\n",
            "\u001b[2K   \u001b[90m━━━━━━━━━━━━━━━━━━━━━━━━━━━━━━━━━━━━━━━━\u001b[0m \u001b[32m211.4/211.4 kB\u001b[0m \u001b[31m10.7 MB/s\u001b[0m eta \u001b[36m0:00:00\u001b[0m\n",
            "\u001b[2K   \u001b[90m━━━━━━━━━━━━━━━━━━━━━━━━━━━━━━━━━━━━━━━━\u001b[0m \u001b[32m525.5/525.5 kB\u001b[0m \u001b[31m25.4 MB/s\u001b[0m eta \u001b[36m0:00:00\u001b[0m\n",
            "\u001b[2K   \u001b[90m━━━━━━━━━━━━━━━━━━━━━━━━━━━━━━━━━━━━━━━━\u001b[0m \u001b[32m2.4/2.4 MB\u001b[0m \u001b[31m47.8 MB/s\u001b[0m eta \u001b[36m0:00:00\u001b[0m\n",
            "\u001b[2K   \u001b[90m━━━━━━━━━━━━━━━━━━━━━━━━━━━━━━━━━━━━━━━━\u001b[0m \u001b[32m94.7/94.7 kB\u001b[0m \u001b[31m6.8 MB/s\u001b[0m eta \u001b[36m0:00:00\u001b[0m\n",
            "\u001b[2K   \u001b[90m━━━━━━━━━━━━━━━━━━━━━━━━━━━━━━━━━━━━━━━━\u001b[0m \u001b[32m76.4/76.4 kB\u001b[0m \u001b[31m6.2 MB/s\u001b[0m eta \u001b[36m0:00:00\u001b[0m\n",
            "\u001b[2K   \u001b[90m━━━━━━━━━━━━━━━━━━━━━━━━━━━━━━━━━━━━━━━━\u001b[0m \u001b[32m78.0/78.0 kB\u001b[0m \u001b[31m5.8 MB/s\u001b[0m eta \u001b[36m0:00:00\u001b[0m\n",
            "\u001b[2K   \u001b[90m━━━━━━━━━━━━━━━━━━━━━━━━━━━━━━━━━━━━━━━━\u001b[0m \u001b[32m318.9/318.9 kB\u001b[0m \u001b[31m22.0 MB/s\u001b[0m eta \u001b[36m0:00:00\u001b[0m\n",
            "\u001b[2K   \u001b[90m━━━━━━━━━━━━━━━━━━━━━━━━━━━━━━━━━━━━━━━━\u001b[0m \u001b[32m1.9/1.9 MB\u001b[0m \u001b[31m44.1 MB/s\u001b[0m eta \u001b[36m0:00:00\u001b[0m\n",
            "\u001b[2K   \u001b[90m━━━━━━━━━━━━━━━━━━━━━━━━━━━━━━━━━━━━━━━━\u001b[0m \u001b[32m27.1/27.1 MB\u001b[0m \u001b[31m13.9 MB/s\u001b[0m eta \u001b[36m0:00:00\u001b[0m\n",
            "\u001b[2K   \u001b[90m━━━━━━━━━━━━━━━━━━━━━━━━━━━━━━━━━━━━━━━━\u001b[0m \u001b[32m30.4/30.4 MB\u001b[0m \u001b[31m14.2 MB/s\u001b[0m eta \u001b[36m0:00:00\u001b[0m\n",
            "\u001b[2K   \u001b[90m━━━━━━━━━━━━━━━━━━━━━━━━━━━━━━━━━━━━━━━━\u001b[0m \u001b[32m408.0/408.0 kB\u001b[0m \u001b[31m11.5 MB/s\u001b[0m eta \u001b[36m0:00:00\u001b[0m\n",
            "\u001b[2K   \u001b[90m━━━━━━━━━━━━━━━━━━━━━━━━━━━━━━━━━━━━━━━━\u001b[0m \u001b[32m296.9/296.9 kB\u001b[0m \u001b[31m12.2 MB/s\u001b[0m eta \u001b[36m0:00:00\u001b[0m\n",
            "\u001b[2K   \u001b[90m━━━━━━━━━━━━━━━━━━━━━━━━━━━━━━━━━━━━━━━━\u001b[0m \u001b[32m93.2/93.2 kB\u001b[0m \u001b[31m5.1 MB/s\u001b[0m eta \u001b[36m0:00:00\u001b[0m\n",
            "\u001b[2K   \u001b[90m━━━━━━━━━━━━━━━━━━━━━━━━━━━━━━━━━━━━━━━━\u001b[0m \u001b[32m13.2/13.2 MB\u001b[0m \u001b[31m52.5 MB/s\u001b[0m eta \u001b[36m0:00:00\u001b[0m\n",
            "\u001b[2K   \u001b[90m━━━━━━━━━━━━━━━━━━━━━━━━━━━━━━━━━━━━━━━━\u001b[0m \u001b[32m144.5/144.5 kB\u001b[0m \u001b[31m9.7 MB/s\u001b[0m eta \u001b[36m0:00:00\u001b[0m\n",
            "\u001b[2K   \u001b[90m━━━━━━━━━━━━━━━━━━━━━━━━━━━━━━━━━━━━━━━━\u001b[0m \u001b[32m54.4/54.4 kB\u001b[0m \u001b[31m3.2 MB/s\u001b[0m eta \u001b[36m0:00:00\u001b[0m\n",
            "\u001b[2K   \u001b[90m━━━━━━━━━━━━━━━━━━━━━━━━━━━━━━━━━━━━━━━━\u001b[0m \u001b[32m5.4/5.4 MB\u001b[0m \u001b[31m44.9 MB/s\u001b[0m eta \u001b[36m0:00:00\u001b[0m\n",
            "\u001b[2K   \u001b[90m━━━━━━━━━━━━━━━━━━━━━━━━━━━━━━━━━━━━━━━━\u001b[0m \u001b[32m342.3/342.3 kB\u001b[0m \u001b[31m16.9 MB/s\u001b[0m eta \u001b[36m0:00:00\u001b[0m\n",
            "\u001b[2K   \u001b[90m━━━━━━━━━━━━━━━━━━━━━━━━━━━━━━━━━━━━━━━━\u001b[0m \u001b[32m57.6/57.6 kB\u001b[0m \u001b[31m3.7 MB/s\u001b[0m eta \u001b[36m0:00:00\u001b[0m\n",
            "\u001b[2K   \u001b[90m━━━━━━━━━━━━━━━━━━━━━━━━━━━━━━━━━━━━━━━━\u001b[0m \u001b[32m9.7/9.7 MB\u001b[0m \u001b[31m47.7 MB/s\u001b[0m eta \u001b[36m0:00:00\u001b[0m\n",
            "\u001b[2K   \u001b[90m━━━━━━━━━━━━━━━━━━━━━━━━━━━━━━━━━━━━━━━━\u001b[0m \u001b[32m1.1/1.1 MB\u001b[0m \u001b[31m35.7 MB/s\u001b[0m eta \u001b[36m0:00:00\u001b[0m\n",
            "\u001b[2K   \u001b[90m━━━━━━━━━━━━━━━━━━━━━━━━━━━━━━━━━━━━━━━━\u001b[0m \u001b[32m63.7/63.7 kB\u001b[0m \u001b[31m4.3 MB/s\u001b[0m eta \u001b[36m0:00:00\u001b[0m\n",
            "\u001b[2K   \u001b[90m━━━━━━━━━━━━━━━━━━━━━━━━━━━━━━━━━━━━━━━━\u001b[0m \u001b[32m233.2/233.2 kB\u001b[0m \u001b[31m14.2 MB/s\u001b[0m eta \u001b[36m0:00:00\u001b[0m\n",
            "\u001b[2K   \u001b[90m━━━━━━━━━━━━━━━━━━━━━━━━━━━━━━━━━━━━━━━━\u001b[0m \u001b[32m248.1/248.1 kB\u001b[0m \u001b[31m9.5 MB/s\u001b[0m eta \u001b[36m0:00:00\u001b[0m\n",
            "\u001b[2K   \u001b[90m━━━━━━━━━━━━━━━━━━━━━━━━━━━━━━━━━━━━━━━━\u001b[0m \u001b[32m131.6/131.6 kB\u001b[0m \u001b[31m347.4 kB/s\u001b[0m eta \u001b[36m0:00:00\u001b[0m\n",
            "\u001b[2K   \u001b[90m━━━━━━━━━━━━━━━━━━━━━━━━━━━━━━━━━━━━━━━━\u001b[0m \u001b[32m58.3/58.3 kB\u001b[0m \u001b[31m1.3 MB/s\u001b[0m eta \u001b[36m0:00:00\u001b[0m\n",
            "\u001b[2K   \u001b[90m━━━━━━━━━━━━━━━━━━━━━━━━━━━━━━━━━━━━━━━━\u001b[0m \u001b[32m442.1/442.1 kB\u001b[0m \u001b[31m23.9 MB/s\u001b[0m eta \u001b[36m0:00:00\u001b[0m\n",
            "\u001b[2K   \u001b[90m━━━━━━━━━━━━━━━━━━━━━━━━━━━━━━━━━━━━━━━━\u001b[0m \u001b[32m1.6/1.6 MB\u001b[0m \u001b[31m39.9 MB/s\u001b[0m eta \u001b[36m0:00:00\u001b[0m\n",
            "\u001b[2K   \u001b[90m━━━━━━━━━━━━━━━━━━━━━━━━━━━━━━━━━━━━━━━━\u001b[0m \u001b[32m44.0/44.0 kB\u001b[0m \u001b[31m2.2 MB/s\u001b[0m eta \u001b[36m0:00:00\u001b[0m\n",
            "\u001b[2K   \u001b[90m━━━━━━━━━━━━━━━━━━━━━━━━━━━━━━━━━━━━━━━━\u001b[0m \u001b[32m2.4/2.4 MB\u001b[0m \u001b[31m46.3 MB/s\u001b[0m eta \u001b[36m0:00:00\u001b[0m\n",
            "\u001b[2K   \u001b[90m━━━━━━━━━━━━━━━━━━━━━━━━━━━━━━━━━━━━━━━━\u001b[0m \u001b[32m50.4/50.4 kB\u001b[0m \u001b[31m3.4 MB/s\u001b[0m eta \u001b[36m0:00:00\u001b[0m\n",
            "\u001b[2K   \u001b[90m━━━━━━━━━━━━━━━━━━━━━━━━━━━━━━━━━━━━━━━━\u001b[0m \u001b[32m78.8/78.8 kB\u001b[0m \u001b[31m5.8 MB/s\u001b[0m eta \u001b[36m0:00:00\u001b[0m\n",
            "\u001b[2K   \u001b[90m━━━━━━━━━━━━━━━━━━━━━━━━━━━━━━━━━━━━━━━━\u001b[0m \u001b[32m298.0/298.0 kB\u001b[0m \u001b[31m19.6 MB/s\u001b[0m eta \u001b[36m0:00:00\u001b[0m\n",
            "\u001b[2K   \u001b[90m━━━━━━━━━━━━━━━━━━━━━━━━━━━━━━━━━━━━━━━━\u001b[0m \u001b[32m71.1/71.1 kB\u001b[0m \u001b[31m5.1 MB/s\u001b[0m eta \u001b[36m0:00:00\u001b[0m\n",
            "\u001b[2K   \u001b[90m━━━━━━━━━━━━━━━━━━━━━━━━━━━━━━━━━━━━━━━━\u001b[0m \u001b[32m54.5/54.5 kB\u001b[0m \u001b[31m4.1 MB/s\u001b[0m eta \u001b[36m0:00:00\u001b[0m\n",
            "\u001b[2K   \u001b[90m━━━━━━━━━━━━━━━━━━━━━━━━━━━━━━━━━━━━━━━━\u001b[0m \u001b[32m73.3/73.3 kB\u001b[0m \u001b[31m4.3 MB/s\u001b[0m eta \u001b[36m0:00:00\u001b[0m\n",
            "\u001b[2K   \u001b[90m━━━━━━━━━━━━━━━━━━━━━━━━━━━━━━━━━━━━━━━━\u001b[0m \u001b[32m481.7/481.7 kB\u001b[0m \u001b[31m16.4 MB/s\u001b[0m eta \u001b[36m0:00:00\u001b[0m\n",
            "\u001b[2K   \u001b[90m━━━━━━━━━━━━━━━━━━━━━━━━━━━━━━━━━━━━━━━━\u001b[0m \u001b[32m3.8/3.8 MB\u001b[0m \u001b[31m51.3 MB/s\u001b[0m eta \u001b[36m0:00:00\u001b[0m\n",
            "\u001b[2K   \u001b[90m━━━━━━━━━━━━━━━━━━━━━━━━━━━━━━━━━━━━━━━━\u001b[0m \u001b[32m425.7/425.7 kB\u001b[0m \u001b[31m15.3 MB/s\u001b[0m eta \u001b[36m0:00:00\u001b[0m\n",
            "\u001b[2K   \u001b[90m━━━━━━━━━━━━━━━━━━━━━━━━━━━━━━━━━━━━━━━━\u001b[0m \u001b[32m164.1/164.1 kB\u001b[0m \u001b[31m9.0 MB/s\u001b[0m eta \u001b[36m0:00:00\u001b[0m\n",
            "\u001b[2K   \u001b[90m━━━━━━━━━━━━━━━━━━━━━━━━━━━━━━━━━━━━━━━━\u001b[0m \u001b[32m46.0/46.0 kB\u001b[0m \u001b[31m2.2 MB/s\u001b[0m eta \u001b[36m0:00:00\u001b[0m\n",
            "\u001b[2K   \u001b[90m━━━━━━━━━━━━━━━━━━━━━━━━━━━━━━━━━━━━━━━━\u001b[0m \u001b[32m3.1/3.1 MB\u001b[0m \u001b[31m36.6 MB/s\u001b[0m eta \u001b[36m0:00:00\u001b[0m\n",
            "\u001b[2K   \u001b[90m━━━━━━━━━━━━━━━━━━━━━━━━━━━━━━━━━━━━━━━━\u001b[0m \u001b[32m86.8/86.8 kB\u001b[0m \u001b[31m5.2 MB/s\u001b[0m eta \u001b[36m0:00:00\u001b[0m\n",
            "\u001b[2K   \u001b[90m━━━━━━━━━━━━━━━━━━━━━━━━━━━━━━━━━━━━━━━━\u001b[0m \u001b[32m208.1/208.1 kB\u001b[0m \u001b[31m12.0 MB/s\u001b[0m eta \u001b[36m0:00:00\u001b[0m\n",
            "\u001b[2K   \u001b[90m━━━━━━━━━━━━━━━━━━━━━━━━━━━━━━━━━━━━━━━━\u001b[0m \u001b[32m267.2/267.2 kB\u001b[0m \u001b[31m13.5 MB/s\u001b[0m eta \u001b[36m0:00:00\u001b[0m\n",
            "\u001b[2K   \u001b[90m━━━━━━━━━━━━━━━━━━━━━━━━━━━━━━━━━━━━━━━━\u001b[0m \u001b[32m78.6/78.6 kB\u001b[0m \u001b[31m5.0 MB/s\u001b[0m eta \u001b[36m0:00:00\u001b[0m\n",
            "\u001b[2K   \u001b[90m━━━━━━━━━━━━━━━━━━━━━━━━━━━━━━━━━━━━━━━━\u001b[0m \u001b[32m2.8/2.8 MB\u001b[0m \u001b[31m44.4 MB/s\u001b[0m eta \u001b[36m0:00:00\u001b[0m\n",
            "\u001b[2K   \u001b[90m━━━━━━━━━━━━━━━━━━━━━━━━━━━━━━━━━━━━━━━━\u001b[0m \u001b[32m294.6/294.6 kB\u001b[0m \u001b[31m15.7 MB/s\u001b[0m eta \u001b[36m0:00:00\u001b[0m\n",
            "\u001b[2K   \u001b[90m━━━━━━━━━━━━━━━━━━━━━━━━━━━━━━━━━━━━━━━━\u001b[0m \u001b[32m49.5/49.5 kB\u001b[0m \u001b[31m3.2 MB/s\u001b[0m eta \u001b[36m0:00:00\u001b[0m\n",
            "\u001b[2K   \u001b[90m━━━━━━━━━━━━━━━━━━━━━━━━━━━━━━━━━━━━━━━━\u001b[0m \u001b[32m57.5/57.5 kB\u001b[0m \u001b[31m2.5 MB/s\u001b[0m eta \u001b[36m0:00:00\u001b[0m\n",
            "\u001b[?25h  Building wheel for docx2txt (setup.py) ... \u001b[?25l\u001b[?25hdone\n",
            "  Building wheel for pypika (pyproject.toml) ... \u001b[?25l\u001b[?25hdone\n",
            "\u001b[31mERROR: pip's dependency resolver does not currently take into account all the packages that are installed. This behaviour is the source of the following dependency conflicts.\n",
            "tensorflow-metadata 1.16.1 requires protobuf<4.21,>=3.20.3; python_version < \"3.11\", but you have protobuf 4.25.5 which is incompatible.\u001b[0m\u001b[31m\n",
            "\u001b[0m"
          ]
        }
      ]
    },
    {
      "cell_type": "code",
      "source": [
        "! pip install -q 'crewai[tools]'"
      ],
      "metadata": {
        "id": "v8VG757ZH78n"
      },
      "execution_count": 2,
      "outputs": []
    },
    {
      "cell_type": "code",
      "source": [
        "\n",
        "# Import necessary modules\n",
        "import os\n",
        "from crewai import Agent, Task, Crew\n"
      ],
      "metadata": {
        "id": "OK5mQAjFMy0D"
      },
      "execution_count": 3,
      "outputs": []
    },
    {
      "cell_type": "code",
      "source": [
        "# Set up your OpenAI API key\n",
        "\n",
        "from google.colab import userdata\n",
        "os.environ[\"OPENAI_API_KEY\"] = userdata.get('OPENAI_API_KEY')\n",
        "os.environ[\"OPENAI_MODEL_NAME\"] = \"gpt-4\"\n",
        "os.environ[\"SERPER_API_KEY\"] = userdata.get('SERPER_API_KEY')"
      ],
      "metadata": {
        "id": "Kn02f1oLM2nN"
      },
      "execution_count": 4,
      "outputs": []
    },
    {
      "cell_type": "markdown",
      "source": [
        "\n",
        "\n",
        "# *hello  world \\# crew ai*"
      ],
      "metadata": {
        "id": "G40MNgZe6j2F"
      }
    },
    {
      "cell_type": "code",
      "source": [
        "# Create agents\n",
        "\n",
        "planner = Agent(\n",
        "    role='Travel Planner',\n",
        "    goal='Create a detailed itinerary based on research',\n",
        "    backstory='You are a skilled travel planner who can create exciting and efficient travel plans'\n",
        "    )\n",
        "\n",
        "planning_task = Task(\n",
        "    description='Create a 3-day itinerary for Bangkok based on the research',\n",
        "    agent=planner,\n",
        "    expected_output='A list of top 5 attractions and activities in Bangkok suitable for a 3-day trip'\n",
        ")\n",
        "\n",
        "# Create the crew\n",
        "crew = Crew(\n",
        "    agents=[planner],\n",
        "    tasks=[planning_task],\n",
        ")\n",
        "\n",
        "# Start the crew\n",
        "result = crew.kickoff()\n",
        "\n",
        "print(\"Final Result:\")\n",
        "print(result)"
      ],
      "metadata": {
        "id": "sst1KW5HgOCS",
        "colab": {
          "base_uri": "https://localhost:8080/"
        },
        "outputId": "5bc291f8-153f-4a76-990e-fbdc9ffd9d87"
      },
      "execution_count": null,
      "outputs": [
        {
          "output_type": "stream",
          "name": "stderr",
          "text": [
            "WARNING:opentelemetry.trace:Overriding of current TracerProvider is not allowed\n"
          ]
        },
        {
          "output_type": "stream",
          "name": "stdout",
          "text": [
            "Final Result:\n",
            "Here is a detailed 3-day itinerary for Bangkok:\n",
            "\n",
            "### Day 1: Cultural and Historical Exploration\n",
            "\n",
            "**Morning:**\n",
            "1. **The Grand Palace and Wat Phra Kaew (Temple of the Emerald Buddha)** \n",
            "   - **Time:** 3-4 hours\n",
            "   - **Description:** Begin your day at Bangkok's most famous landmark. The Grand Palace complex includes the Temple of the Emerald Buddha, which holds the highly revered Emerald Buddha statue. The architecture and intricate details are stunning and offer a glimpse into Thailand's rich history.\n",
            "\n",
            "**Afternoon:**\n",
            "2. **Wat Pho (Temple of the Reclining Buddha)**\n",
            "   - **Time:** 2 hours\n",
            "   - **Description:** Just a short walk from the Grand Palace, Wat Pho is home to the giant reclining Buddha statue and is one of the oldest and largest temples in Bangkok. It's also considered the birthplace of traditional Thai massage.\n",
            "\n",
            "**Evening:**\n",
            "3. **Asiatique The Riverfront**\n",
            "   - **Time:** 3-4 hours\n",
            "   - **Description:** Head to this bustling open-air mall set along the riverfront. It combines shopping, dining, and entertainment, with over 1,500 boutiques and 40 restaurants offering various cuisines. The nightly Calypso Cabaret Show is a popular attraction.\n",
            "\n",
            "### Day 2: Modern Bangkok and Unique Experiences\n",
            "\n",
            "**Morning:**\n",
            "4. **Jim Thompson House**\n",
            "   - **Time:** 2-3 hours\n",
            "   - **Description:** Explore the beautifully preserved traditional Thai house of Jim Thompson—an American businessman largely credited with reviving the Thai silk industry. The house-turned-museum is surrounded by lovely gardens.\n",
            "\n",
            "**Afternoon:**\n",
            "5. **Siam Paragon & MBK Center**\n",
            "   - **Time:** 3-4 hours\n",
            "   - **Description:** Experience modern Bangkok at these two iconic shopping centers. Siam Paragon offers luxury brands and a myriad of dining options, while MBK Center is known for its affordable fashion finds, electronics, and local goods.\n",
            "\n",
            "**Evening:**\n",
            "6. **Chao Phraya River Dinner Cruise**\n",
            "   - **Time:** 2-3 hours\n",
            "   - **Description:** Spend the evening on a luxurious dinner cruise along the Chao Phraya River. Enjoy delectable Thai cuisine while taking in views of illuminated landmarks such as the Grand Palace and Wat Arun.\n",
            "\n",
            "### Day 3: Markets and Local Living\n",
            "\n",
            "**Morning:**\n",
            "7. **Chatuchak Weekend Market (if your visit includes a weekend) **\n",
            "   - **Time:** 3-4 hours\n",
            "   - **Description:** One of the world's largest markets, where you can find nearly anything—from clothes and accessories to home décor, plants, and even pets. Sampling the street food here is a must.\n",
            "\n",
            "   OR \n",
            "\n",
            "**If not a weekend:**\n",
            "\n",
            "7. **Damnoen Saduak Floating Market**\n",
            "   - **Time:** 4-5 hours (including travel)\n",
            "   - **Description:** If your trip doesn't cover a weekend, visit this iconic floating market a little outside the city. Arrive early to see the bustling marketplace, and take a boat tour to experience traditional Thai market life.\n",
            "\n",
            "**Afternoon:**\n",
            "8. **Wat Arun (Temple of Dawn)**\n",
            "   - **Time:** 2 hours\n",
            "   - **Description:** Known for its ornate spires and riverside location, Wat Arun is especially stunning at sunset. Climb up the central spire for a panoramic view of the Chao Phraya River.\n",
            "\n",
            "**Evening:**\n",
            "9. **Khao San Road**\n",
            "   - **Time:** 3-4 hours\n",
            "   - **Description:** End your trip with a vibrant nightlife experience on Khao San Road. Known as the backpacker's hub, it offers a mix of street food, bars, clubs, and live music. It’s a great place to meet other travelers and soak in the energetic atmosphere of Bangkok.\n",
            "\n",
            "This itinerary balances cultural landmarks, market experiences, and modern attractions for a well-rounded visit to Bangkok.\n"
          ]
        }
      ]
    },
    {
      "cell_type": "markdown",
      "source": [
        "# ***Agent SOC Basic***"
      ],
      "metadata": {
        "id": "03RHZi8FP9gY"
      }
    },
    {
      "cell_type": "code",
      "source": [],
      "metadata": {
        "id": "dCZAVVV-FD75"
      },
      "execution_count": 11,
      "outputs": []
    },
    {
      "cell_type": "code",
      "source": [
        "from crewai import Agent, Task, Crew\n",
        "from crewai_tools import SerperDevTool\n",
        "import os\n",
        "from google.colab import userdata"
      ],
      "metadata": {
        "id": "vN43MoaaFH1w"
      },
      "execution_count": null,
      "outputs": []
    },
    {
      "cell_type": "code",
      "source": [
        "# Create tools\n",
        "search_tool = SerperDevTool()\n",
        "\n",
        "# Create agents\n",
        "alert_analyst = Agent(\n",
        "    role='Alert Analyst - Level one',\n",
        "    goal='Analyze security alerts and determine if escalation is necessary',\n",
        "    backstory='You are an experienced security analyst with a keen eye for threat detection',\n",
        "    verbose=True\n",
        ")\n",
        "\n",
        "intelligence_gatherer = Agent(\n",
        "    role='Intelligence Gatherer - threat intelligence',\n",
        "    goal='Search for and analyze threat intelligence related to escalated alerts',\n",
        "    backstory='You are a skilled threat intelligence analyst with access to various online resources',\n",
        "    verbose=True,\n",
        "    tools=[search_tool]\n",
        ")\n",
        "\n",
        "user_support = Agent(\n",
        "    role='Alert Analyst - Level two',\n",
        "    goal='Reach out to affected users and guide them in securing their machines',\n",
        "    backstory='You are a patient and knowledgeable cyber specialist with excellent communication skills',\n",
        "    verbose=True\n",
        ")\n",
        "\n",
        "# Create tasks\n",
        "analyze_alert_task = Task(\n",
        "    description='Analyze the following security alert and determine if it needs escalation: \"Unusual login activity detected from IP 192.168.1.100 for user jsmith\"',\n",
        "    agent=alert_analyst,\n",
        "    expected_output='Analysis result and escalation decision'\n",
        ")\n",
        "\n",
        "gather_intelligence_task = Task(\n",
        "    description='Search for recent threat intelligence related to unusual login activities and the IP 192.168.1.100',\n",
        "    agent=intelligence_gatherer,\n",
        "    expected_output='Summary of relevant threat intelligence findings'\n",
        ")\n",
        "\n",
        "user_support_task = Task(\n",
        "    description='Contact user jsmith, inform them about the unusual login activity, and guide them through securing their account',\n",
        "    agent=user_support,\n",
        "    expected_output='Summary of actions taken and user response'\n",
        ")\n",
        "\n",
        "# Create the crew\n",
        "soc_crew = Crew(\n",
        "    agents=[alert_analyst, intelligence_gatherer, user_support],\n",
        "    tasks=[analyze_alert_task, gather_intelligence_task, user_support_task],\n",
        "    verbose=True\n",
        ")\n",
        "\n",
        "# Run the simulation\n",
        "result = soc_crew.kickoff()\n",
        "\n",
        "print(\"SOC Simulation Result:\")\n",
        "print(result)"
      ],
      "metadata": {
        "id": "yw67hiTjikzW",
        "colab": {
          "base_uri": "https://localhost:8080/"
        },
        "outputId": "ac9206e3-c0b8-44b9-fd63-83e4a3a12237"
      },
      "execution_count": null,
      "outputs": [
        {
          "output_type": "stream",
          "name": "stdout",
          "text": [
            "\u001b[1m\u001b[95m# Agent:\u001b[00m \u001b[1m\u001b[92mAlert Analyst - Level one\u001b[00m\n",
            "\u001b[95m## Task:\u001b[00m \u001b[92mAnalyze the following security alert and determine if it needs escalation: \"Unusual login activity detected from IP 192.168.1.100 for user jsmith\"\u001b[00m\n",
            "\n",
            "\n",
            "\u001b[1m\u001b[95m# Agent:\u001b[00m \u001b[1m\u001b[92mAlert Analyst - Level one\u001b[00m\n",
            "\u001b[95m## Final Answer:\u001b[00m \u001b[92m\n",
            "The task requires complete analysis of the alert, so the following steps will be followed:\n",
            "\n",
            "1. Review of the system logs to understand the unusual behavior specifics - time, multiple attempts, or different device usage.\n",
            "2. IP Address analysis which would provide information if it's from a regular or unusual location.\n",
            "3. Cross-validation with historical data to understand if this followed or veered from usual patterns.\n",
            "\n",
            "Based on the obtained information and its analysis, an escalation decision will be made. If this activity points to a potential security threat, it will be urgently escalated to the Level two Analyst for further investigation. If it doesn't represent a threat, while it's unusual, the activity will be just closely monitored for any escalations in future.\u001b[00m\n",
            "\u001b[1m\u001b[95m# Agent:\u001b[00m \u001b[1m\u001b[92mIntelligence Gatherer - threat intelligence\u001b[00m\n",
            "\u001b[95m## Task:\u001b[00m \u001b[92mSearch for recent threat intelligence related to unusual login activities and the IP 192.168.1.100\u001b[00m\n",
            "\n",
            "\n",
            "\u001b[1m\u001b[95m# Agent:\u001b[00m \u001b[1m\u001b[92mIntelligence Gatherer - threat intelligence\u001b[00m\n",
            "\u001b[95m## Using tool:\u001b[00m \u001b[92mSearch the internet\u001b[00m\n",
            "\u001b[95m## Tool Input:\u001b[00m \u001b[92m\n",
            "\"{\\\"search_query\\\": \\\"threat intelligence 192.168.1.100 unusual login activities\\\"}\"\u001b[00m\n",
            "\u001b[95m## Tool Output:\u001b[00m \u001b[92m\n",
            "\n",
            "Search results: Title: Threat Hunting for Unusual Logon Activity - Infosec\n",
            "Link: https://www.infosecinstitute.com/resources/threat-hunting/threat-hunting-for-unusual-logon-activity/\n",
            "Snippet: This article will examine threat hunting for unusual login activity and will detail what you should be looking for in your threat investigation.\n",
            "---\n",
            "Title: Proxy Detection Test for 192.168.1.100 - IP Address Lookup - IPQS\n",
            "Link: https://www.ipqualityscore.com/free-ip-lookup-proxy-vpn-test/lookup/192.168.1.100\n",
            "Snippet: This IP address (192.168.1.100) is a proxy connection and is associated with recent SPAM blacklist activity or abusive behavior.\n",
            "---\n",
            "Title: Unusual Login Activity | Elastic Security Solution [8.15]\n",
            "Link: https://www.elastic.co/guide/en/security/current/unusual-login-activity.html\n",
            "Snippet: Identifies an unusually high number of authentication attempts. Rule type: machine_learning Rule indices: None Severity: low Risk score: 21 Runs every: 15m\n",
            "---\n",
            "Title: What are risks in Microsoft Entra ID Protection\n",
            "Link: https://learn.microsoft.com/en-us/entra/id-protection/concept-identity-protection-risks\n",
            "Snippet: Risk detections are a powerful resource that can include any suspicious or anomalous activity related to a user account in the directory.\n",
            "---\n",
            "Title: Microsoft account unusual sign-in activity‏ IP is Miscrosoft IP?????\n",
            "Link: https://answers.microsoft.com/en-us/outlook_com/forum/all/microsoft-account-unusual-sign-in-activity-ip-is/893dd29e-ff5c-48b5-a7d6-4588d5e83fc6\n",
            "Snippet: Got an email saying there was an unusual sign in activity in my account. IP that MS sent with the email is registered in the IP ranges of ...\n",
            "---\n",
            "Title: Threat intelligence concepts - ExtraHop Documentation\n",
            "Link: https://docs.extrahop.com/9.6/threat-intelligence/\n",
            "Snippet: Threat intelligence provides known data about suspicious IP addresses, domains, hostnames, and URIs that can help identify risks to your organization.\n",
            "---\n",
            "Title: Try Hack Me — Threat Intelligence for SOC — Walkthrough - Medium\n",
            "Link: https://medium.com/@0x4C1D/try-hack-me-threat-intelligence-for-soc-walkthrough-1584f09e144\n",
            "Snippet: This room helps you to understand and learn how to utilise Threat Intelligence to improve the Security Ops pipelining.\n",
            "---\n",
            "Title: Threat Intelligence Feed Dashboard : r/cybersecurity - Reddit\n",
            "Link: https://www.reddit.com/r/cybersecurity/comments/162mx8j/threat_intelligence_feed_dashboard/\n",
            "Snippet: An application that can provide a seamless dashboard to visualize and analyze the indicators of potential cyber threats obtained from various threat ...\n",
            "---\n",
            "Title: Threat intelligence concepts - ExtraHop Documentation\n",
            "Link: https://docs.extrahop.com/8.7/threat-intelligence/\n",
            "Snippet: Threat intelligence provides known data about suspicious IP addresses, domains, hostnames, and URIs that can help identify risks to your organization.\n",
            "---\n",
            "\u001b[00m\n",
            "\n",
            "\n",
            "\u001b[1m\u001b[95m# Agent:\u001b[00m \u001b[1m\u001b[92mIntelligence Gatherer - threat intelligence\u001b[00m\n",
            "\u001b[95m## Thought:\u001b[00m \u001b[92mThought: The search results contain a mix of less relevant and significant information pertaining to unusual login activity and the IP address in question. The most relevant observation relates to the IP address 192.168.1.100 being identified as connected to SPAM blacklist activity or abusive behavior. I will now refine my search to focus more on recent threat intelligence relating to the specific IP address 192.168.1.100.\u001b[00m\n",
            "\u001b[95m## Using tool:\u001b[00m \u001b[92mSearch the internet\u001b[00m\n",
            "\u001b[95m## Tool Input:\u001b[00m \u001b[92m\n",
            "\"{\\\"search_query\\\": \\\"recent threat intelligence IP 192.168.1.100\\\"}\"\u001b[00m\n",
            "\u001b[95m## Tool Output:\u001b[00m \u001b[92m\n",
            "\n",
            "Search results: Title: 192.168.1.100 | Private IP Address LAN - AbuseIPDB\n",
            "Link: https://www.abuseipdb.com/check/192.168.1.100\n",
            "Snippet: 192.168.1.100 is a private IP address, and is only used in internal network environments. Any abusive activity you see coming from an internal IP is either ...\n",
            "---\n",
            "Title: Practical Threat Hunting Using Known IOC IPs | by Paritosh - Medium\n",
            "Link: https://medium.com/@paritoshblogs/practical-threat-hunting-using-known-ioc-ips-26a4eab0b616\n",
            "Snippet: This practical guide demonstrates how to conduct threat hunting using known malicious IP addresses.\n",
            "---\n",
            "Title: How to search on IP range and not IP subnet? - Splunk Community\n",
            "Link: https://community.splunk.com/t5/Splunk-Search/How-to-search-on-IP-range-and-not-IP-subnet/m-p/244802\n",
            "Snippet: Assuming your threat ip fields are ip range: \"192.168.1.1-192.168.1.100\" means ALL IP addresses between the range: 192.168.1.1,2,3,...100.\n",
            "---\n",
            "Title: [PDF] Processing threat reports at scale using AI and ML - FIRST.org\n",
            "Link: https://www.first.org/resources/papers/firstcti24/Sergeev-Processing-Threat-Reports-at-Scale-Using-AI-and-ML.pdf\n",
            "Snippet: Regular security audits and penetration testing can help identify and remediate potential vulnerabilities in the network. Indicators of ...\n",
            "---\n",
            "Title: CrowdSec Cyber Threat Intelligence\n",
            "Link: https://www.crowdsec.net/cyber-threat-intelligence\n",
            "Snippet: The CrowdSec CTI distributes IP reputation intelligence and aids threat hunters in detecting, investigating, and responding to cyber threats more effectively ...\n",
            "---\n",
            "Title: Configure Commonly Used IP ACLs - Cisco\n",
            "Link: https://www.cisco.com/c/en/us/support/docs/ip/access-lists/26448-ACLsamples.html\n",
            "Snippet: This document describes sample configurations for commonly used IP Access Control Lists (ACLs), which filter IP packets.\n",
            "---\n",
            "Title: Incorporating Threat Intelligence into Incident Response\n",
            "Link: https://www.coursehero.com/file/223460333/To-be-Rewrite-Advanced-Cyber-Threat-Intelligence-Reportdocx/\n",
            "Snippet: In this section, you will describe the importance of incorporating threat intelligence into the phases of incident response.\n",
            "---\n",
            "Title: [PDF] REMOTELY TRIGGERED BLACK HOLE FILTERING - Cisco\n",
            "Link: https://www.cisco.com/c/dam/en_us/about/security/intelligence/blackhole.pdf\n",
            "Snippet: Remotely triggered black hole (RTBH) filtering is a technique that provides the ability to drop undesirable traffic before it enters a protected network.\n",
            "---\n",
            "Title: Setting up Mosquitto on home server - Stack Overflow\n",
            "Link: https://stackoverflow.com/questions/45260068/setting-up-mosquitto-on-home-server\n",
            "Snippet: On the router I port forwarded 1883 as both internal/external ports to my home server, say 192.168.1.100. In the mosquitto.conf file, I have ...\n",
            "---\n",
            "\u001b[00m\n",
            "\n",
            "\n",
            "\u001b[1m\u001b[95m# Agent:\u001b[00m \u001b[1m\u001b[92mIntelligence Gatherer - threat intelligence\u001b[00m\n",
            "\u001b[95m## Final Answer:\u001b[00m \u001b[92m\n",
            "Based on the available threat intelligence, the IP address 192.168.1.100 is known to be a private IP address and is typically used internally within a network environment. Unusual login activities from this IP indicate the possibility of internal system compromise or potential insider abuse. The activities associated with the IP address have also been linked to SPAM activities and abusive behavior. Given the information available, it is strongly recommended to conduct an internal investigation and ensure the security of the systems associated with this IP. Furthermore, regular monitoring and analysis of login activities is warranted to early detect and manage such issues.\u001b[00m\n",
            "\u001b[1m\u001b[95m# Agent:\u001b[00m \u001b[1m\u001b[92mAlert Analyst - Level two\u001b[00m\n",
            "\u001b[95m## Task:\u001b[00m \u001b[92mContact user jsmith, inform them about the unusual login activity, and guide them through securing their account\u001b[00m\n",
            "\n",
            "\n",
            "\u001b[1m\u001b[95m# Agent:\u001b[00m \u001b[1m\u001b[92mAlert Analyst - Level two\u001b[00m\n",
            "\u001b[95m## Final Answer:\u001b[00m \u001b[92m\n",
            "Dear jsmith,\n",
            "\n",
            "I am writing to alert you to unusual login activity associated with your account, originating from your IP address 192.168.1.100. This IP address has been linked to potential security breaches and SPAM activities, raising significant concern about your account's safety.\n",
            "\n",
            "As a precaution, it is very important to guard against such likely breaches by taking the following steps: update your passwords regularly, use unique ones composed of a mix of letters, numbers and symbols, and avoid clicking on any suspicious links. \n",
            "\n",
            "In order to guide you through these steps and any other measures required, I propose setting a call at your earliest convenience. Your security is of utmost importance and I'll help ensure that your account is well-secured moving forward. Also, it would help if any anomalous activity you observe on your account is reported immediately.\n",
            "\n",
            "Looking forward to our interaction.\n",
            "\n",
            "Sincerely,\n",
            "[Your Name]\n",
            "[Your Position]\n",
            "[Your Contact Information]\n",
            "\n",
            "Follow-up Actions:\n",
            "Schedule a call with user jsmith and note down his response and any actions taken during the call to ensure system security. Continue to monitor any unusual activity associated with IP address 192.168.1.100.\u001b[00m\n",
            "SOC Simulation Result:\n",
            "Dear jsmith,\n",
            "\n",
            "I am writing to alert you to unusual login activity associated with your account, originating from your IP address 192.168.1.100. This IP address has been linked to potential security breaches and SPAM activities, raising significant concern about your account's safety.\n",
            "\n",
            "As a precaution, it is very important to guard against such likely breaches by taking the following steps: update your passwords regularly, use unique ones composed of a mix of letters, numbers and symbols, and avoid clicking on any suspicious links. \n",
            "\n",
            "In order to guide you through these steps and any other measures required, I propose setting a call at your earliest convenience. Your security is of utmost importance and I'll help ensure that your account is well-secured moving forward. Also, it would help if any anomalous activity you observe on your account is reported immediately.\n",
            "\n",
            "Looking forward to our interaction.\n",
            "\n",
            "Sincerely,\n",
            "[Your Name]\n",
            "[Your Position]\n",
            "[Your Contact Information]\n",
            "\n",
            "Follow-up Actions:\n",
            "Schedule a call with user jsmith and note down his response and any actions taken during the call to ensure system security. Continue to monitor any unusual activity associated with IP address 192.168.1.100.\n"
          ]
        }
      ]
    },
    {
      "cell_type": "markdown",
      "source": [
        "# deeplearning ai: multi agent systems\n",
        "\n",
        "---\n",
        "\n",
        "with crew ai 🤖\n",
        "[course notebook](https://learn.deeplearning.ai/courses/multi-ai-agent-systems-with-crewai/lesson/16/build-a-crew-to-trailor-job-applications-(code)"
      ],
      "metadata": {
        "id": "XZhtpqNn8zA2"
      }
    },
    {
      "cell_type": "code",
      "source": [
        "# Warning control\n",
        "import warnings\n",
        "warnings.filterwarnings('ignore')"
      ],
      "metadata": {
        "id": "VoS0PhTaJoMJ"
      },
      "execution_count": 5,
      "outputs": []
    },
    {
      "cell_type": "code",
      "source": [
        "from crewai import Agent, Task, Crew"
      ],
      "metadata": {
        "id": "VgHzCj7o9evB"
      },
      "execution_count": 6,
      "outputs": []
    },
    {
      "cell_type": "code",
      "source": [
        "from crewai_tools import (\n",
        "  FileReadTool,\n",
        "  ScrapeWebsiteTool,\n",
        "  MDXSearchTool,\n",
        "  SerperDevTool\n",
        ")\n",
        "\n",
        "search_tool = SerperDevTool()\n",
        "scrape_tool = ScrapeWebsiteTool()\n",
        "read_resume = FileReadTool(file_path='./fake_resume.md') #\n",
        "semantic_search_resume = MDXSearchTool(mdx='./fake_resume.md') #"
      ],
      "metadata": {
        "id": "KYb3mn_N9jv5"
      },
      "execution_count": null,
      "outputs": []
    },
    {
      "cell_type": "code",
      "source": [
        "# Agent 1: Researcher\n",
        "researcher = Agent(\n",
        "    role=\"Tech Job Researcher\",\n",
        "    goal=\"Make sure to do amazing analysis on \"\n",
        "         \"job posting to help job applicants\",\n",
        "    tools = [scrape_tool, search_tool],\n",
        "    verbose=True,\n",
        "    backstory=(\n",
        "        \"As a Job Researcher, your prowess in \"\n",
        "        \"navigating and extracting critical \"\n",
        "        \"information from job postings is unmatched.\"\n",
        "        \"Your skills help pinpoint the necessary \"\n",
        "        \"qualifications and skills sought \"\n",
        "        \"by employers, forming the foundation for \"\n",
        "        \"effective application tailoring.\"\n",
        "    )\n",
        ")"
      ],
      "metadata": {
        "id": "mJUgTHw89ovM"
      },
      "execution_count": null,
      "outputs": []
    },
    {
      "cell_type": "code",
      "source": [
        "# Agent 2: Profiler\n",
        "profiler = Agent(\n",
        "    role=\"Personal Profiler for Engineers\",\n",
        "    goal=\"Do increditble research on job applicants \"\n",
        "         \"to help them stand out in the job market\",\n",
        "    tools = [scrape_tool, search_tool,\n",
        "             read_resume, semantic_search_resume],\n",
        "    verbose=True,\n",
        "    backstory=(\n",
        "        \"Equipped with analytical prowess, you dissect \"\n",
        "        \"and synthesize information \"\n",
        "        \"from diverse sources to craft comprehensive \"\n",
        "        \"personal and professional profiles, laying the \"\n",
        "        \"groundwork for personalized resume enhancements.\"\n",
        "    )\n",
        ")"
      ],
      "metadata": {
        "id": "jK2gD1f29olZ"
      },
      "execution_count": null,
      "outputs": []
    },
    {
      "cell_type": "code",
      "source": [
        "# Agent 3: Resume Strategist\n",
        "resume_strategist = Agent(\n",
        "    role=\"Resume Strategist for Engineers\",\n",
        "    goal=\"Find all the best ways to make a \"\n",
        "         \"resume stand out in the job market.\",\n",
        "    tools = [scrape_tool, search_tool,\n",
        "             read_resume, semantic_search_resume],\n",
        "    verbose=True,\n",
        "    backstory=(\n",
        "        \"With a strategic mind and an eye for detail, you \"\n",
        "        \"excel at refining resumes to highlight the most \"\n",
        "        \"relevant skills and experiences, ensuring they \"\n",
        "        \"resonate perfectly with the job's requirements.\"\n",
        "    )\n",
        ")"
      ],
      "metadata": {
        "id": "01Zt8ZfR9tYD"
      },
      "execution_count": null,
      "outputs": []
    },
    {
      "cell_type": "code",
      "source": [
        "# Agent 4: Interview Preparer\n",
        "interview_preparer = Agent(\n",
        "    role=\"Engineering Interview Preparer\",\n",
        "    goal=\"Create interview questions and talking points \"\n",
        "         \"based on the resume and job requirements\",\n",
        "    tools = [scrape_tool, search_tool,\n",
        "             read_resume, semantic_search_resume],\n",
        "    verbose=True,\n",
        "    backstory=(\n",
        "        \"Your role is crucial in anticipating the dynamics of \"\n",
        "        \"interviews. With your ability to formulate key questions \"\n",
        "        \"and talking points, you prepare candidates for success, \"\n",
        "        \"ensuring they can confidently address all aspects of the \"\n",
        "        \"job they are applying for.\"\n",
        "    )\n",
        ")"
      ],
      "metadata": {
        "id": "GUa-S3o49vS4"
      },
      "execution_count": null,
      "outputs": []
    },
    {
      "cell_type": "code",
      "source": [
        "# Task for Researcher Agent: Extract Job Requirements\n",
        "research_task = Task(\n",
        "    description=(\n",
        "        \"Analyze the job posting URL provided ({job_posting_url}) \"\n",
        "        \"to extract key skills, experiences, and qualifications \"\n",
        "        \"required. Use the tools to gather content and identify \"\n",
        "        \"and categorize the requirements.\"\n",
        "    ),\n",
        "    expected_output=(\n",
        "        \"A structured list of job requirements, including necessary \"\n",
        "        \"skills, qualifications, and experiences.\"\n",
        "    ),\n",
        "    agent=researcher,\n",
        "    async_execution=True\n",
        ")\n"
      ],
      "metadata": {
        "id": "Rmf0ijzt9xQu"
      },
      "execution_count": null,
      "outputs": []
    },
    {
      "cell_type": "code",
      "source": [
        "# Task for Profiler Agent: Compile Comprehensive Profile\n",
        "profile_task = Task(\n",
        "    description=(\n",
        "        \"Compile a detailed personal and professional profile \"\n",
        "        \"using the GitHub ({github_url}) URLs, and personal write-up \"\n",
        "        \"({personal_writeup}). Utilize tools to extract and \"\n",
        "        \"synthesize information from these sources.\"\n",
        "    ),\n",
        "    expected_output=(\n",
        "        \"A comprehensive profile document that includes skills, \"\n",
        "        \"project experiences, contributions, interests, and \"\n",
        "        \"communication style.\"\n",
        "    ),\n",
        "    agent=profiler,\n",
        "    async_execution=True\n",
        ")"
      ],
      "metadata": {
        "id": "lRlwEHse90jJ"
      },
      "execution_count": null,
      "outputs": []
    },
    {
      "cell_type": "code",
      "source": [
        "# Task for Resume Strategist Agent: Align Resume with Job Requirements\n",
        "resume_strategy_task = Task(\n",
        "    description=(\n",
        "        \"Using the profile and job requirements obtained from \"\n",
        "        \"previous tasks, tailor the resume to highlight the most \"\n",
        "        \"relevant areas. Employ tools to adjust and enhance the \"\n",
        "        \"resume content. Make sure this is the best resume even but \"\n",
        "        \"don't make up any information. Update every section, \"\n",
        "        \"inlcuding the initial summary, work experience, skills, \"\n",
        "        \"and education. All to better reflrect the candidates \"\n",
        "        \"abilities and how it matches the job posting.\"\n",
        "    ),\n",
        "    expected_output=(\n",
        "        \"An updated resume that effectively highlights the candidate's \"\n",
        "        \"qualifications and experiences relevant to the job.\"\n",
        "    ),\n",
        "    output_file=\"tailored_resume.md\",\n",
        "    context=[research_task, profile_task],\n",
        "    agent=resume_strategist\n",
        ")"
      ],
      "metadata": {
        "id": "7jGrMwq893NF"
      },
      "execution_count": null,
      "outputs": []
    },
    {
      "cell_type": "code",
      "source": [
        "# Task for Interview Preparer Agent: Develop Interview Materials\n",
        "interview_preparation_task = Task(\n",
        "    description=(\n",
        "        \"Create a set of potential interview questions and talking \"\n",
        "        \"points based on the tailored resume and job requirements. \"\n",
        "        \"Utilize tools to generate relevant questions and discussion \"\n",
        "        \"points. Make sure to use these question and talking points to \"\n",
        "        \"help the candiadte highlight the main points of the resume \"\n",
        "        \"and how it matches the job posting.\"\n",
        "    ),\n",
        "    expected_output=(\n",
        "        \"A document containing key questions and talking points \"\n",
        "        \"that the candidate should prepare for the initial interview.\"\n",
        "    ),\n",
        "    output_file=\"interview_materials.md\",\n",
        "    context=[research_task, profile_task, resume_strategy_task],\n",
        "    agent=interview_preparer\n",
        ")"
      ],
      "metadata": {
        "id": "WXMyZ_Mg93uL"
      },
      "execution_count": null,
      "outputs": []
    },
    {
      "cell_type": "code",
      "source": [
        "job_application_crew = Crew(\n",
        "    agents=[researcher,\n",
        "            profiler,\n",
        "            resume_strategist,\n",
        "            interview_preparer],\n",
        "\n",
        "    tasks=[research_task,\n",
        "           profile_task,\n",
        "           resume_strategy_task,\n",
        "           interview_preparation_task],\n",
        "\n",
        "    verbose=True\n",
        ")"
      ],
      "metadata": {
        "id": "KgNMUYPK96_w"
      },
      "execution_count": null,
      "outputs": []
    },
    {
      "cell_type": "code",
      "source": [
        "job_application_inputs = {\n",
        "    'job_posting_url': 'https://jobs.lever.co/AIFund/6c82e23e-d954-4dd8-a734-c0c2c5ee00f1?lever-origin=applied&lever-source%5B%5D=AI+Fund',\n",
        "    'github_url': 'https://github.com/joaomdmoura',\n",
        "    'personal_writeup': \"\"\"Noah is an accomplished Software\n",
        "    Engineering Leader with 18 years of experience, specializing in\n",
        "    managing remote and in-office teams, and expert in multiple\n",
        "    programming languages and frameworks. He holds an MBA and a strong\n",
        "    background in AI and data science. Noah has successfully led\n",
        "    major tech initiatives and startups, proving his ability to drive\n",
        "    innovation and growth in the tech industry. Ideal for leadership\n",
        "    roles that require a strategic and innovative approach.\"\"\"\n",
        "}"
      ],
      "metadata": {
        "id": "rJYzmg2n9-db"
      },
      "execution_count": null,
      "outputs": []
    },
    {
      "cell_type": "code",
      "source": [
        "### this execution will take a few minutes to run\n",
        "result = job_application_crew.kickoff(inputs=job_application_inputs)"
      ],
      "metadata": {
        "id": "G3JmL0hw-A1c"
      },
      "execution_count": null,
      "outputs": []
    },
    {
      "cell_type": "code",
      "source": [
        "from IPython.display import Markdown, display\n",
        "display(Markdown(\"./tailored_resume.md\"))"
      ],
      "metadata": {
        "id": "rk7Yr5Du-Di9"
      },
      "execution_count": null,
      "outputs": []
    },
    {
      "cell_type": "code",
      "source": [
        "display(Markdown(\"./interview_materials.md\"))"
      ],
      "metadata": {
        "id": "yXW67TSN-FfF"
      },
      "execution_count": null,
      "outputs": []
    },
    {
      "cell_type": "markdown",
      "source": [
        "# re-write multi agent crew\n"
      ],
      "metadata": {
        "id": "Ex3ZJomNHLHk"
      }
    },
    {
      "cell_type": "code",
      "source": [
        "from crewai import Agent, Task, Crew, Process\n"
      ],
      "metadata": {
        "id": "n6fnPWo8Ikth"
      },
      "execution_count": 13,
      "outputs": []
    },
    {
      "cell_type": "code",
      "source": [
        "# Level One Analyst Agent\n",
        "l1_analyst = Agent(\n",
        "    role=\"Level One Analyst\",\n",
        "    goal=\"Evaluate and triage initial alerts, escalating suspicious ones\",\n",
        "    backstory=\"An entry-level cybersecurity analyst trained in basic alert triage and playbook execution.\"\n",
        ")\n",
        "\n",
        "# Level Two Analyst Agent\n",
        "l2_analyst = Agent(\n",
        "    role=\"Level Two Analyst\",\n",
        "    goal=\"Analyze escalated alerts using advanced tools and techniques\",\n",
        "    backstory=\"A mid-level cybersecurity analyst with experience in user behavior analysis and SIEM query execution.\"\n",
        ")\n",
        "\n",
        "# Level Three Analyst Agent\n",
        "l3_analyst = Agent(\n",
        "    role=\"Level Three Analyst\",\n",
        "    goal=\"Investigate complex threats and correlate data from multiple sources\",\n",
        "    backstory=\"A senior-level cybersecurity expert capable of analyzing sophisticated multi-layer cyber threats.\"\n",
        ")\n",
        "\n",
        "# Threat Hunter Analyst Agent\n",
        "threat_hunter = Agent(\n",
        "    role=\"Threat Hunter Analyst\",\n",
        "    goal=\"Proactively search for hidden threats and vulnerabilities\",\n",
        "    backstory=\"An advanced analyst specializing in threat intelligence and uncovering indicators of compromise.\"\n",
        ")\n",
        "\n",
        "# Incident Response Analyst Agent\n",
        "ir_analyst = Agent(\n",
        "    role=\"Incident Response Analyst\",\n",
        "    goal=\"Manage and coordinate the resolution of confirmed security incidents\",\n",
        "    backstory=\"An experienced analyst skilled in incident management, stakeholder communication, and remediation planning.\"\n",
        ")"
      ],
      "metadata": {
        "id": "9gHIpSQVHK25"
      },
      "execution_count": 14,
      "outputs": []
    },
    {
      "cell_type": "code",
      "source": [
        "# Tasks for Level One Analyst\n",
        "task_initial_triage = Task(\n",
        "    description=\"Evaluate incoming phishing alert using predefined playbooks\",\n",
        "    agent=l1_analyst,\n",
        "    expected_output=\"A report detailing the initial analysis of the phishing alert, including whether it's considered suspicious and requires escalation.\"\n",
        ")\n",
        "\n",
        "# Tasks for Level Two Analyst\n",
        "task_advanced_analysis = Task(\n",
        "    description=\"Analyze escalated phishing alert using user behavior analysis and SIEM queries\",\n",
        "    agent=l2_analyst,\n",
        "    expected_output=\"A comprehensive analysis report of the suspicious alert, including user behavior patterns, SIEM query results, and recommendation for further escalation if necessary.\"\n",
        ")\n",
        "\n",
        "# Tasks for Level Three Analyst\n",
        "task_expert_investigation = Task(\n",
        "    description=\"Conduct in-depth analysis of the potential breach, correlating data from multiple sources\",\n",
        "    agent=l3_analyst,\n",
        "    expected_output=\"A detailed investigation report outlining the full scope of the incident, including evidence of lateral movement, privilege escalation, and data exfiltration attempts.\"\n",
        ")\n",
        "\n",
        "# Tasks for Threat Hunter Analyst\n",
        "task_threat_hunting = Task(\n",
        "    description=\"Search for indicators of compromise and potential vulnerabilities in systems\",\n",
        "    agent=threat_hunter,\n",
        "    expected_output=\"A threat hunting report identifying any additional compromises, vulnerable systems (especially the database server), and recommendations for securing the environment.\"\n",
        ")\n",
        "\n",
        "# Tasks for Incident Response Analyst\n",
        "task_incident_management = Task(\n",
        "    description=\"Coordinate response efforts, collaborate with stakeholders, and oversee incident resolution\",\n",
        "    agent=ir_analyst,\n",
        "    expected_output=\"An incident response report detailing the actions taken, stakeholders involved, remediation steps implemented, and recommendations for preventing future incidents.\"\n",
        ")"
      ],
      "metadata": {
        "id": "aMvqcICJH0tD"
      },
      "execution_count": 16,
      "outputs": []
    },
    {
      "cell_type": "code",
      "source": [
        "incident_response_process = Process(\n",
        "    name=\"Phishing Incident Response\",\n",
        "    tasks=[\n",
        "        task_initial_triage,\n",
        "        task_advanced_analysis,\n",
        "        task_expert_investigation,\n",
        "        task_threat_hunting,\n",
        "        task_incident_management\n",
        "    ]\n",
        ")"
      ],
      "metadata": {
        "id": "qWz4lB2tH3m3",
        "outputId": "4b42c960-cc01-432f-c0dd-9f5b53e35d85",
        "colab": {
          "base_uri": "https://localhost:8080/",
          "height": 207
        }
      },
      "execution_count": 17,
      "outputs": [
        {
          "output_type": "error",
          "ename": "TypeError",
          "evalue": "EnumMeta.__call__() got an unexpected keyword argument 'name'",
          "traceback": [
            "\u001b[0;31m---------------------------------------------------------------------------\u001b[0m",
            "\u001b[0;31mTypeError\u001b[0m                                 Traceback (most recent call last)",
            "\u001b[0;32m<ipython-input-17-3f66624e0ebb>\u001b[0m in \u001b[0;36m<cell line: 1>\u001b[0;34m()\u001b[0m\n\u001b[0;32m----> 1\u001b[0;31m incident_response_process = Process(\n\u001b[0m\u001b[1;32m      2\u001b[0m     \u001b[0mname\u001b[0m\u001b[0;34m=\u001b[0m\u001b[0;34m\"Phishing Incident Response\"\u001b[0m\u001b[0;34m,\u001b[0m\u001b[0;34m\u001b[0m\u001b[0;34m\u001b[0m\u001b[0m\n\u001b[1;32m      3\u001b[0m     tasks=[\n\u001b[1;32m      4\u001b[0m         \u001b[0mtask_initial_triage\u001b[0m\u001b[0;34m,\u001b[0m\u001b[0;34m\u001b[0m\u001b[0;34m\u001b[0m\u001b[0m\n\u001b[1;32m      5\u001b[0m         \u001b[0mtask_advanced_analysis\u001b[0m\u001b[0;34m,\u001b[0m\u001b[0;34m\u001b[0m\u001b[0;34m\u001b[0m\u001b[0m\n",
            "\u001b[0;31mTypeError\u001b[0m: EnumMeta.__call__() got an unexpected keyword argument 'name'"
          ]
        }
      ]
    },
    {
      "cell_type": "code",
      "source": [
        "cybersecurity_crew = Crew(\n",
        "    agents=[l1_analyst, l2_analyst, l3_analyst, threat_hunter, ir_analyst],\n",
        "    tasks=[task_initial_triage, task_advanced_analysis, task_expert_investigation, task_threat_hunting, task_incident_management],\n",
        "    processes=[incident_response_process]\n",
        ")"
      ],
      "metadata": {
        "id": "ED9CDfJdH9mD"
      },
      "execution_count": null,
      "outputs": []
    },
    {
      "cell_type": "code",
      "source": [
        "def simulate_incident_response():\n",
        "    print(\"Simulating Phishing Incident Response\")\n",
        "\n",
        "    # Level One Analyst Action\n",
        "    print(\"\\nLevel One Analyst:\")\n",
        "    print(\"- Received phishing alert\")\n",
        "    print(\"- Evaluated alert using playbooks\")\n",
        "    print(\"- Determined alert is suspicious\")\n",
        "    print(\"- Escalated to Level Two Analyst\")\n",
        "\n",
        "    # Level Two Analyst Action\n",
        "    print(\"\\nLevel Two Analyst:\")\n",
        "    print(\"- Analyzed escalated alert\")\n",
        "    print(\"- Used user behavior analysis tools\")\n",
        "    print(\"- Ran complex SIEM queries\")\n",
        "    print(\"- Confirmed suspicious activity\")\n",
        "    print(\"- Escalated to Level Three Analyst\")\n",
        "\n",
        "    # Level Three Analyst Action\n",
        "    print(\"\\nLevel Three Analyst:\")\n",
        "    print(\"- Conducted in-depth analysis\")\n",
        "    print(\"- Correlated data from multiple sources\")\n",
        "    print(\"- Identified signs of lateral movement and privilege escalation\")\n",
        "    print(\"- Confirmed true positive incident\")\n",
        "    print(\"- Activated Incident Response Analyst\")\n",
        "\n",
        "    # Threat Hunter Analyst Action\n",
        "    print(\"\\nThreat Hunter Analyst:\")\n",
        "    print(\"- Searched for additional compromises\")\n",
        "    print(\"- Analyzed system logs and network traffic\")\n",
        "    print(\"- Identified vulnerability in database server\")\n",
        "    print(\"- Reported findings to Incident Response Analyst\")\n",
        "\n",
        "    # Incident Response Analyst Action\n",
        "    print(\"\\nIncident Response Analyst:\")\n",
        "    print(\"- Coordinated response efforts\")\n",
        "    print(\"- Collaborated with affected departments\")\n",
        "    print(\"- Initiated containment procedures\")\n",
        "    print(\"- Oversaw remediation process\")\n",
        "    print(\"- Developed prevention strategies\")\n",
        "    print(\"- Generated incident report\")\n",
        "\n",
        "simulate_incident_response()"
      ],
      "metadata": {
        "id": "s5OPDUtHH-jI"
      },
      "execution_count": null,
      "outputs": []
    }
  ]
}