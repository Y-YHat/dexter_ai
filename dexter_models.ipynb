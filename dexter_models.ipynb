{
  "nbformat": 4,
  "nbformat_minor": 0,
  "metadata": {
    "colab": {
      "provenance": [],
      "authorship_tag": "ABX9TyMaCEXErZMr4rFA37Jerz1h",
      "include_colab_link": true
    },
    "kernelspec": {
      "name": "python3",
      "display_name": "Python 3"
    },
    "language_info": {
      "name": "python"
    }
  },
  "cells": [
    {
      "cell_type": "markdown",
      "metadata": {
        "id": "view-in-github",
        "colab_type": "text"
      },
      "source": [
        "<a href=\"https://colab.research.google.com/github/Y-YHat/dexter_ai/blob/main/dexter_models.ipynb\" target=\"_parent\"><img src=\"https://colab.research.google.com/assets/colab-badge.svg\" alt=\"Open In Colab\"/></a>"
      ]
    },
    {
      "cell_type": "code",
      "execution_count": 15,
      "metadata": {
        "colab": {
          "base_uri": "https://localhost:8080/"
        },
        "id": "L6kpmi1N4Bzc",
        "outputId": "775bc869-330b-4c5a-c9a7-83236c2066a3"
      },
      "outputs": [
        {
          "output_type": "stream",
          "name": "stdout",
          "text": [
            "Requirement already satisfied: openai in /usr/local/lib/python3.11/dist-packages (1.61.1)\n",
            "Requirement already satisfied: requests in /usr/local/lib/python3.11/dist-packages (2.32.3)\n",
            "Requirement already satisfied: anyio<5,>=3.5.0 in /usr/local/lib/python3.11/dist-packages (from openai) (3.7.1)\n",
            "Requirement already satisfied: distro<2,>=1.7.0 in /usr/local/lib/python3.11/dist-packages (from openai) (1.9.0)\n",
            "Requirement already satisfied: httpx<1,>=0.23.0 in /usr/local/lib/python3.11/dist-packages (from openai) (0.28.1)\n",
            "Requirement already satisfied: jiter<1,>=0.4.0 in /usr/local/lib/python3.11/dist-packages (from openai) (0.8.2)\n",
            "Requirement already satisfied: pydantic<3,>=1.9.0 in /usr/local/lib/python3.11/dist-packages (from openai) (2.10.6)\n",
            "Requirement already satisfied: sniffio in /usr/local/lib/python3.11/dist-packages (from openai) (1.3.1)\n",
            "Requirement already satisfied: tqdm>4 in /usr/local/lib/python3.11/dist-packages (from openai) (4.67.1)\n",
            "Requirement already satisfied: typing-extensions<5,>=4.11 in /usr/local/lib/python3.11/dist-packages (from openai) (4.12.2)\n",
            "Requirement already satisfied: charset-normalizer<4,>=2 in /usr/local/lib/python3.11/dist-packages (from requests) (3.4.1)\n",
            "Requirement already satisfied: idna<4,>=2.5 in /usr/local/lib/python3.11/dist-packages (from requests) (3.10)\n",
            "Requirement already satisfied: urllib3<3,>=1.21.1 in /usr/local/lib/python3.11/dist-packages (from requests) (2.3.0)\n",
            "Requirement already satisfied: certifi>=2017.4.17 in /usr/local/lib/python3.11/dist-packages (from requests) (2025.1.31)\n",
            "Requirement already satisfied: httpcore==1.* in /usr/local/lib/python3.11/dist-packages (from httpx<1,>=0.23.0->openai) (1.0.7)\n",
            "Requirement already satisfied: h11<0.15,>=0.13 in /usr/local/lib/python3.11/dist-packages (from httpcore==1.*->httpx<1,>=0.23.0->openai) (0.14.0)\n",
            "Requirement already satisfied: annotated-types>=0.6.0 in /usr/local/lib/python3.11/dist-packages (from pydantic<3,>=1.9.0->openai) (0.7.0)\n",
            "Requirement already satisfied: pydantic-core==2.27.2 in /usr/local/lib/python3.11/dist-packages (from pydantic<3,>=1.9.0->openai) (2.27.2)\n"
          ]
        }
      ],
      "source": [
        "pip install openai requests"
      ]
    },
    {
      "cell_type": "code",
      "source": [
        "import os\n",
        "from google.colab import userdata"
      ],
      "metadata": {
        "id": "9WUVo8KuiORq"
      },
      "execution_count": 16,
      "outputs": []
    },
    {
      "cell_type": "code",
      "source": [
        "os.environ[\"OPENAI_API_KEY\"] = userdata.get('OPENAI_API_KEY') # seems to expect openai_api_key"
      ],
      "metadata": {
        "id": "NBbAu6FwiLVh"
      },
      "execution_count": 17,
      "outputs": []
    },
    {
      "cell_type": "code",
      "source": [
        "from openai import OpenAI\n",
        "client = OpenAI()"
      ],
      "metadata": {
        "id": "HbVHQ9lQQmjc"
      },
      "execution_count": 18,
      "outputs": []
    },
    {
      "cell_type": "code",
      "source": [
        "# Initialize the OpenAI client\n",
        "\n",
        "def query_o3_mini(prompt, reasoning_effort=\"low\"):\n",
        "    response = client.chat.completions.create(\n",
        "        model=\"o1-mini\",\n",
        "        messages=[\n",
        "            {\"role\": \"user\", \"content\": prompt}\n",
        "        ],\n",
        "        # reasoning_effort=reasoning_effort\n",
        "    )\n",
        "    return response.choices[0].message.content\n",
        "\n",
        "# Example usage\n",
        "result = query_o3_mini(\"What is the capital of France?\", reasoning_effort=\"medium\")\n",
        "print(result)\n"
      ],
      "metadata": {
        "colab": {
          "base_uri": "https://localhost:8080/"
        },
        "id": "4dLNH4a4ShE1",
        "outputId": "e5991e61-e557-4c19-d4da-5ffe53c7bf4b"
      },
      "execution_count": 22,
      "outputs": [
        {
          "output_type": "stream",
          "name": "stdout",
          "text": [
            "The capital of France is **Paris**.\n"
          ]
        }
      ]
    },
    {
      "cell_type": "code",
      "source": [
        "def query_o1_mini(prompt):\n",
        "    response = client.chat.completions.create(\n",
        "        model=\"o1-mini\",\n",
        "        messages=[\n",
        "            {\"role\": \"user\", \"content\": prompt}\n",
        "        ]\n",
        "    )\n",
        "    return response\n",
        "\n",
        "# Example usage\n",
        "result = query_o1_mini(\"What is the capital of France? Explain your reasoning\")\n",
        "print(result)\n"
      ],
      "metadata": {
        "colab": {
          "base_uri": "https://localhost:8080/"
        },
        "id": "ze-HOZXCMQh9",
        "outputId": "1e9decbd-16cb-4e7a-d359-4a6caa4fcdd8"
      },
      "execution_count": 30,
      "outputs": [
        {
          "output_type": "stream",
          "name": "stdout",
          "text": [
            "ChatCompletion(id='chatcmpl-B78yx962gdYkX1QdElK9QDLB6SU4z', choices=[Choice(finish_reason='stop', index=0, logprobs=None, message=ChatCompletionMessage(content=\"The capital of France is **Paris**. \\n\\n**Reasoning:**\\n\\n1. **Historical Significance:** Paris has been the political and cultural heart of France for centuries. It became the capital in the 10th century and has remained so through various historical periods, including the Renaissance, the French Revolution, and both World Wars.\\n\\n2. **Political Center:** Paris hosts all major government institutions, including the Élysée Palace (the official residence of the President of France), the French National Assembly, and the Senate. The centralization of political power in Paris reinforces its status as the capital.\\n\\n3. **Economic Hub:** As the largest city in France, Paris is a key economic center not only for the country but also for Europe. It is home to numerous multinational corporations, financial institutions, and major stock exchanges.\\n\\n4. **Cultural Influence:** Paris is renowned for its contributions to art, fashion, gastronomy, and philosophy. Landmarks like the Eiffel Tower, Louvre Museum, and Notre-Dame Cathedral are globally recognized symbols of French culture and heritage.\\n\\n5. **Geographical Location:** Situated in the northern-central part of France, Paris's location has historically made it a strategic center for trade and transportation, further solidifying its role as the capital.\\n\\nAll these factors collectively establish Paris as the capital city of France.\", refusal=None, role='assistant', audio=None, function_call=None, tool_calls=None))], created=1741042523, model='o1-mini-2024-09-12', object='chat.completion', service_tier='default', system_fingerprint='fp_5c373483f1', usage=CompletionUsage(completion_tokens=534, prompt_tokens=18, total_tokens=552, completion_tokens_details=CompletionTokensDetails(accepted_prediction_tokens=0, audio_tokens=0, reasoning_tokens=256, rejected_prediction_tokens=0), prompt_tokens_details=PromptTokensDetails(audio_tokens=0, cached_tokens=0)))\n"
          ]
        }
      ]
    },
    {
      "cell_type": "code",
      "source": [
        "from openai import OpenAI\n",
        "\n",
        "# List available models\n",
        "models = client.models.list()\n",
        "\n",
        "# Print model names\n",
        "print(\"Models you have access to:\")\n",
        "for model in models:\n",
        "    print(model.id)\n"
      ],
      "metadata": {
        "colab": {
          "base_uri": "https://localhost:8080/"
        },
        "id": "NOcfgVVa3jIw",
        "outputId": "a3225fd1-295f-42fd-edcd-8571dc0ad8fe"
      },
      "execution_count": null,
      "outputs": [
        {
          "output_type": "stream",
          "name": "stdout",
          "text": [
            "Models you have access to:\n",
            "gpt-4.5-preview\n",
            "omni-moderation-2024-09-26\n",
            "gpt-4.5-preview-2025-02-27\n",
            "gpt-4o-mini-audio-preview-2024-12-17\n",
            "dall-e-3\n",
            "dall-e-2\n",
            "gpt-4o-audio-preview-2024-10-01\n",
            "gpt-4o-audio-preview\n",
            "gpt-4o-mini-realtime-preview-2024-12-17\n",
            "gpt-4o-mini-realtime-preview\n",
            "o1-mini-2024-09-12\n",
            "o1-preview-2024-09-12\n",
            "o1-mini\n",
            "o1-preview\n",
            "gpt-4o-mini-audio-preview\n",
            "whisper-1\n",
            "gpt-4-turbo\n",
            "gpt-4o-realtime-preview-2024-10-01\n",
            "gpt-4\n",
            "babbage-002\n",
            "chatgpt-4o-latest\n",
            "tts-1-hd-1106\n",
            "gpt-4o-audio-preview-2024-12-17\n",
            "tts-1-hd\n",
            "gpt-4-turbo-preview\n",
            "gpt-4-0125-preview\n",
            "text-embedding-3-large\n",
            "tts-1\n",
            "tts-1-1106\n",
            "gpt-4-turbo-2024-04-09\n",
            "davinci-002\n",
            "gpt-3.5-turbo-1106\n",
            "gpt-3.5-turbo-instruct\n",
            "gpt-4o-2024-11-20\n",
            "gpt-3.5-turbo-instruct-0914\n",
            "gpt-3.5-turbo-0125\n",
            "gpt-4o-realtime-preview-2024-12-17\n",
            "gpt-3.5-turbo\n",
            "gpt-4o-realtime-preview\n",
            "gpt-3.5-turbo-16k\n",
            "text-embedding-3-small\n",
            "gpt-4-1106-preview\n",
            "text-embedding-ada-002\n",
            "gpt-4-0613\n",
            "gpt-4o-mini-2024-07-18\n",
            "gpt-4o-2024-05-13\n",
            "gpt-4o-mini\n",
            "gpt-4o-2024-08-06\n",
            "gpt-4o\n",
            "omni-moderation-latest\n"
          ]
        }
      ]
    },
    {
      "cell_type": "code",
      "source": [],
      "metadata": {
        "id": "doLJEY7nKUwu"
      },
      "execution_count": null,
      "outputs": []
    }
  ]
}