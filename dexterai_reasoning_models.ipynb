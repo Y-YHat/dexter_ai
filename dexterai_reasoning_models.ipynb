{
  "nbformat": 4,
  "nbformat_minor": 0,
  "metadata": {
    "colab": {
      "provenance": [],
      "authorship_tag": "ABX9TyOz13K4+VErAiNyPh5TzEWq",
      "include_colab_link": true
    },
    "kernelspec": {
      "name": "python3",
      "display_name": "Python 3"
    },
    "language_info": {
      "name": "python"
    }
  },
  "cells": [
    {
      "cell_type": "markdown",
      "metadata": {
        "id": "view-in-github",
        "colab_type": "text"
      },
      "source": [
        "<a href=\"https://colab.research.google.com/github/Y-YHat/dexter_ai/blob/main/dexterai_reasoning_models.ipynb\" target=\"_parent\"><img src=\"https://colab.research.google.com/assets/colab-badge.svg\" alt=\"Open In Colab\"/></a>"
      ]
    },
    {
      "cell_type": "markdown",
      "source": [
        "*installs*"
      ],
      "metadata": {
        "id": "2-WEEM5akYYn"
      }
    },
    {
      "cell_type": "code",
      "source": [
        "pip install -U -q openai"
      ],
      "metadata": {
        "id": "YFi-EBV0UHHk",
        "colab": {
          "base_uri": "https://localhost:8080/"
        },
        "outputId": "31588e5b-2457-4903-e2fa-75842bdc41ee"
      },
      "execution_count": 1,
      "outputs": [
        {
          "output_type": "stream",
          "name": "stdout",
          "text": [
            "\u001b[?25l   \u001b[90m━━━━━━━━━━━━━━━━━━━━━━━━━━━━━━━━━━━━━━━━\u001b[0m \u001b[32m0.0/567.4 kB\u001b[0m \u001b[31m?\u001b[0m eta \u001b[36m-:--:--\u001b[0m\r\u001b[2K   \u001b[91m━━━━━━━━━━━━━━━━━━━━━━━━━━━━━━\u001b[0m\u001b[90m╺\u001b[0m\u001b[90m━━━━━━━━━\u001b[0m \u001b[32m430.1/567.4 kB\u001b[0m \u001b[31m12.8 MB/s\u001b[0m eta \u001b[36m0:00:01\u001b[0m\r\u001b[2K   \u001b[90m━━━━━━━━━━━━━━━━━━━━━━━━━━━━━━━━━━━━━━━━\u001b[0m \u001b[32m567.4/567.4 kB\u001b[0m \u001b[31m8.7 MB/s\u001b[0m eta \u001b[36m0:00:00\u001b[0m\n",
            "\u001b[?25h"
          ]
        }
      ]
    },
    {
      "cell_type": "markdown",
      "source": [
        "*imports*"
      ],
      "metadata": {
        "id": "UK_9PGRHkdKO"
      }
    },
    {
      "cell_type": "code",
      "source": [
        "from openai import OpenAI"
      ],
      "metadata": {
        "id": "KPpPdD0BkDCa"
      },
      "execution_count": 2,
      "outputs": []
    },
    {
      "cell_type": "code",
      "source": [
        "import os\n",
        "from google.colab import userdata"
      ],
      "metadata": {
        "id": "9WUVo8KuiORq"
      },
      "execution_count": 3,
      "outputs": []
    },
    {
      "cell_type": "markdown",
      "source": [
        "*api keys*"
      ],
      "metadata": {
        "id": "plmD2muFkf8k"
      }
    },
    {
      "cell_type": "code",
      "source": [
        "deepseek_api_key = userdata.get('DEEPSEEK_API_KEY')\n",
        "openai_api_key = userdata.get('OPENAI_API_KEY')\n",
        "client_deepseek = OpenAI(api_key=deepseek_api_key, base_url=\"https://api.deepseek.com\")\n",
        "client_openai = OpenAI(api_key=openai_api_key)"
      ],
      "metadata": {
        "id": "zI9Ah6FpTs3l"
      },
      "execution_count": 4,
      "outputs": []
    },
    {
      "cell_type": "markdown",
      "source": [
        "*open ai available models list*"
      ],
      "metadata": {
        "id": "UtYL1ZdAlXGb"
      }
    },
    {
      "cell_type": "code",
      "source": [
        "# List available models\n",
        "models = client_openai.models.list()\n",
        "\n",
        "# Print model names\n",
        "print(\"Models you have access to:\")\n",
        "for model in models:\n",
        "    print(model.id)\n"
      ],
      "metadata": {
        "colab": {
          "base_uri": "https://localhost:8080/"
        },
        "id": "NOcfgVVa3jIw",
        "outputId": "482da93b-dd2c-4995-f99e-32dbf9ca76b2"
      },
      "execution_count": null,
      "outputs": [
        {
          "output_type": "stream",
          "name": "stdout",
          "text": [
            "Models you have access to:\n",
            "gpt-4.5-preview\n",
            "gpt-4.5-preview-2025-02-27\n",
            "gpt-4o-mini-audio-preview-2024-12-17\n",
            "dall-e-3\n",
            "dall-e-2\n",
            "gpt-4o-audio-preview-2024-10-01\n",
            "gpt-4o-audio-preview\n",
            "gpt-4o-mini-realtime-preview-2024-12-17\n",
            "gpt-4o-mini-realtime-preview\n",
            "o1-mini-2024-09-12\n",
            "o1-mini\n",
            "gpt-4o-mini-audio-preview\n",
            "whisper-1\n",
            "omni-moderation-latest\n",
            "gpt-4o-2024-05-13\n",
            "omni-moderation-2024-09-26\n",
            "gpt-4o-realtime-preview-2024-10-01\n",
            "babbage-002\n",
            "gpt-4o-2024-08-06\n",
            "chatgpt-4o-latest\n",
            "tts-1-hd-1106\n",
            "text-embedding-3-large\n",
            "gpt-4o-audio-preview-2024-12-17\n",
            "gpt-4o\n",
            "o1\n",
            "gpt-4\n",
            "gpt-4o-2024-11-20\n",
            "o1-2024-12-17\n",
            "tts-1-hd\n",
            "o1-preview\n",
            "o1-preview-2024-09-12\n",
            "gpt-4o-mini\n",
            "tts-1\n",
            "tts-1-1106\n",
            "davinci-002\n",
            "gpt-3.5-turbo-1106\n",
            "gpt-4-turbo\n",
            "gpt-3.5-turbo-instruct\n",
            "gpt-3.5-turbo-instruct-0914\n",
            "gpt-3.5-turbo-0125\n",
            "gpt-4o-realtime-preview-2024-12-17\n",
            "gpt-3.5-turbo\n",
            "gpt-4-turbo-2024-04-09\n",
            "gpt-4o-realtime-preview\n",
            "gpt-3.5-turbo-16k\n",
            "text-embedding-3-small\n",
            "gpt-4-0125-preview\n",
            "gpt-4-1106-preview\n",
            "text-embedding-ada-002\n",
            "gpt-4-0613\n",
            "gpt-4o-mini-2024-07-18\n",
            "gpt-4-turbo-preview\n",
            "o3-mini-2025-01-31\n",
            "o3-mini\n"
          ]
        }
      ]
    },
    {
      "cell_type": "markdown",
      "source": [
        "*apis hello world*"
      ],
      "metadata": {
        "id": "hyVTGjm1lJgQ"
      }
    },
    {
      "cell_type": "code",
      "source": [
        "def query_o1_mini(prompt, reasoning_effort=\"low\"):\n",
        "    response = client_openai.chat.completions.create(\n",
        "        model=\"o1-mini\",\n",
        "        messages=[\n",
        "            {\"role\": \"user\", \"content\": prompt}\n",
        "        ],\n",
        "        # reasoning_effort=reasoning_effort\n",
        "    )\n",
        "    return response.choices[0].message.content\n",
        "\n",
        "# Example usage\n",
        "result = query_o1_mini(\"What is the capital of France?\", reasoning_effort=\"medium\")\n",
        "print(result)\n"
      ],
      "metadata": {
        "colab": {
          "base_uri": "https://localhost:8080/"
        },
        "id": "4dLNH4a4ShE1",
        "outputId": "2a985b25-cf51-4d40-f4a1-3b14d34997a7"
      },
      "execution_count": 5,
      "outputs": [
        {
          "output_type": "stream",
          "name": "stdout",
          "text": [
            "The capital of France is **Paris**.\n"
          ]
        }
      ]
    },
    {
      "cell_type": "code",
      "source": [
        "def query_o1_mini(prompt, reasoning_effort=\"high\"):\n",
        "    # Modify the prompt to ask for step-by-step reasoning\n",
        "    modified_prompt = f\"Please provide step-by-step reasoning for the following question: {prompt}\"\n",
        "\n",
        "    response = client_openai.chat.completions.create(\n",
        "        model=\"o1-mini\",\n",
        "        messages=[\n",
        "            {\"role\": \"user\", \"content\": modified_prompt}\n",
        "        ]\n",
        "    )\n",
        "\n",
        "    return response.choices[0].message.content\n",
        "\n",
        "# Example usage\n",
        "result = query_o1_mini(\"What is the capital of France?\", reasoning_effort=\"high\")\n",
        "print(result)\n"
      ],
      "metadata": {
        "colab": {
          "base_uri": "https://localhost:8080/"
        },
        "id": "o9PkoOGWRHea",
        "outputId": "ea6d8a42-fef1-4ff7-bdaa-d975e7561271"
      },
      "execution_count": 6,
      "outputs": [
        {
          "output_type": "stream",
          "name": "stdout",
          "text": [
            "Certainly! Let's break down the reasoning step-by-step to determine the capital of France.\n",
            "\n",
            "### Step 1: Identify the Country\n",
            "First, we need to confirm the country in question.\n",
            "- **Country:** France\n",
            "\n",
            "### Step 2: Understand What a Capital City Is\n",
            "A capital city serves as the administrative, political, and cultural center of a country. It typically houses the government's main institutions, such as the parliament, president's residence, and key ministries.\n",
            "\n",
            "### Step 3: Recall or Research France's Capital\n",
            "To determine the capital of France, we can use one of the following approaches:\n",
            "- **Prior Knowledge:** Drawing from what we already know about France.\n",
            "- **Research:** Looking up reliable sources to confirm the information.\n",
            "\n",
            "### Step 4: Apply Prior Knowledge\n",
            "From general knowledge:\n",
            "- France is one of the major countries in Europe with a rich history in art, culture, and politics.\n",
            "- The city of **Paris** is internationally recognized as a significant cultural and economic hub.\n",
            "\n",
            "### Step 5: Confirm Through Research (Optional but Recommended)\n",
            "If there's uncertainty, consulting reputable sources can confirm:\n",
            "- **Official Sources:** Government websites, educational institutions, or verified encyclopedias.\n",
            "- **Search Engines:** A quick search for \"capital of France\" will reliably return \"Paris.\"\n",
            "\n",
            "### Step 6: Conclusion\n",
            "Based on the understanding that the capital city is the administrative center and recognizing Paris's role in France, we can conclude:\n",
            "- **Capital of France:** Paris\n",
            "\n",
            "### Summary\n",
            "By identifying the country, understanding the role of a capital city, applying prior knowledge, and optionally confirming through research, we determine that the capital of France is **Paris**.\n"
          ]
        }
      ]
    },
    {
      "cell_type": "code",
      "source": [
        "# Round 1\n",
        "messages = [{\"role\": \"user\", \"content\": \"what is the capital of france?\"}]\n",
        "response = client_deepseek.chat.completions.create(\n",
        "    model=\"deepseek-reasoner\",\n",
        "    messages=messages\n",
        ")\n",
        "\n",
        "reasoning_content = response.choices[0].message.reasoning_content\n",
        "content = response.choices[0].message.content"
      ],
      "metadata": {
        "id": "doLJEY7nKUwu"
      },
      "execution_count": 8,
      "outputs": []
    },
    {
      "cell_type": "code",
      "source": [
        "print(content)"
      ],
      "metadata": {
        "colab": {
          "base_uri": "https://localhost:8080/"
        },
        "id": "1ltB3ofgVmQ7",
        "outputId": "3533ae78-718c-48b8-b6fe-5468d1cdc4ea"
      },
      "execution_count": 9,
      "outputs": [
        {
          "output_type": "stream",
          "name": "stdout",
          "text": [
            "The capital of France is **Paris**. Known for its rich history, iconic landmarks like the Eiffel Tower, and its role as the political and cultural heart of the country, Paris has been the capital since the 10th century. Let me know if you'd like more details! 🇫🇷\n"
          ]
        }
      ]
    },
    {
      "cell_type": "code",
      "source": [
        "# Round 1\n",
        "messages = [{\"role\": \"user\", \"content\": \"what is the capital of france?\"}]\n",
        "response = client_deepseek.chat.completions.create(\n",
        "    model=\"deepseek-reasoner\",\n",
        "    messages=messages\n",
        ")\n",
        "\n",
        "reasoning_content = response.choices[0].message.reasoning_content\n",
        "content = response.choices[0].message.content\n",
        "\n",
        "print(\"Reasoning Content:\", reasoning_content)\n",
        "print(\"Final Answer:\", content)\n"
      ],
      "metadata": {
        "id": "Lee7cOUvWD3m",
        "colab": {
          "base_uri": "https://localhost:8080/"
        },
        "outputId": "743b4c55-4224-4920-a9ab-1c7fa4028eb5"
      },
      "execution_count": 10,
      "outputs": [
        {
          "output_type": "stream",
          "name": "stdout",
          "text": [
            "Reasoning Content: Okay, so the question is asking for the capital of France. Let me start by recalling what I know about France. France is a country in Europe, right? I remember that Paris is a major city there. But wait, is Paris actually the capital? Let me think.\n",
            "\n",
            "I've heard people talk about Paris being the city of love and there's the Eiffel Tower there. Also, major government institutions are probably located in the capital. France's government... does the president live in Paris? I think the presidential palace is there. Also, when I think of French landmarks, the Louvre Museum is in Paris, and maybe the National Assembly. That adds up. \n",
            "\n",
            "But wait, sometimes countries change their capitals. Has France ever changed theirs? I know some countries have moved capitals, like Brazil moved to Brasília. But for France, I don't recall any such change. It's been Paris for a long time. Let me cross-check with historical knowledge. During World War II, when Germany occupied France, the Vichy regime was in control, but I think Paris remained the capital, though the government was based in Vichy temporarily. But post-war, it reverted back. So Paris is the traditional and current capital.\n",
            "\n",
            "Also, in terms of geography, Paris is centrally located in the northern part of France, which makes sense for a capital city. It's a hub for transportation, culture, and economy. The question is straightforward, but I want to make sure I'm not mixing up any details. Maybe some people confuse other cities like Lyon or Marseille, but those are just other major cities, not the capital. Yeah, I'm pretty confident it's Paris. No need to overcomplicate. Just to be thorough, maybe I can think of other sources: in textbooks, Paris is always cited as the capital. Also, in international events like the Olympics, Paris has hosted them, which capitals often do. So all signs point to Paris.\n",
            "Final Answer: The capital of France is **Paris**. Known for its rich history, iconic landmarks such as the Eiffel Tower, Louvre Museum, and Notre-Dame Cathedral, Paris has long been the political, cultural, and economic heart of France. It houses key government institutions, including the official residence of the President (Élysée Palace) and the French Parliament.\n"
          ]
        }
      ]
    },
    {
      "cell_type": "code",
      "source": [
        "def query_deepseek(prompt):\n",
        "    # Modify the prompt to ask for step-by-step reasoning (not necessary for deepseek-reasoner)\n",
        "    modified_prompt = f\"Please provide step-by-step reasoning for the following question: {prompt}\"\n",
        "\n",
        "    # Round 1\n",
        "    messages = [{\"role\": \"user\", \"content\": modified_prompt}]\n",
        "    response = client_deepseek.chat.completions.create(\n",
        "        model=\"deepseek-reasoner\",\n",
        "        messages=messages\n",
        "    )\n",
        "\n",
        "    # reasoning_content = response.choices[0].message.reasoning_content\n",
        "    content = response.choices[0].message.content\n",
        "\n",
        "    return reasoning_content, content\n",
        "\n",
        "# Example usage\n",
        "# reasoning_content,\n",
        "content = query_deepseek(\"What is the capital of France?\")\n",
        "# print(\"Reasoning Content:\", reasoning_content)\n",
        "print(\"Final Answer:\", content)\n"
      ],
      "metadata": {
        "colab": {
          "base_uri": "https://localhost:8080/"
        },
        "id": "_ZrLq4SIVUWX",
        "outputId": "15932e4a-a7ca-428d-966c-bfe428ae58e3"
      },
      "execution_count": 11,
      "outputs": [
        {
          "output_type": "stream",
          "name": "stdout",
          "text": [
            "Final Answer: (\"Okay, so the question is asking for the capital of France. Let me start by recalling what I know about France. France is a country in Europe, right? I remember that Paris is a major city there. But wait, is Paris actually the capital? Let me think.\\n\\nI've heard people talk about Paris being the city of love and there's the Eiffel Tower there. Also, major government institutions are probably located in the capital. France's government... does the president live in Paris? I think the presidential palace is there. Also, when I think of French landmarks, the Louvre Museum is in Paris, and maybe the National Assembly. That adds up. \\n\\nBut wait, sometimes countries change their capitals. Has France ever changed theirs? I know some countries have moved capitals, like Brazil moved to Brasília. But for France, I don't recall any such change. It's been Paris for a long time. Let me cross-check with historical knowledge. During World War II, when Germany occupied France, the Vichy regime was in control, but I think Paris remained the capital, though the government was based in Vichy temporarily. But post-war, it reverted back. So Paris is the traditional and current capital.\\n\\nAlso, in terms of geography, Paris is centrally located in the northern part of France, which makes sense for a capital city. It's a hub for transportation, culture, and economy. The question is straightforward, but I want to make sure I'm not mixing up any details. Maybe some people confuse other cities like Lyon or Marseille, but those are just other major cities, not the capital. Yeah, I'm pretty confident it's Paris. No need to overcomplicate. Just to be thorough, maybe I can think of other sources: in textbooks, Paris is always cited as the capital. Also, in international events like the Olympics, Paris has hosted them, which capitals often do. So all signs point to Paris.\", \"The capital of France is Paris. Here's the step-by-step reasoning:\\n\\n1. **Identify the Country**: France is a country located in Western Europe.\\n2. **Understand Capitals**: A capital city typically houses the government's main offices and institutions.\\n3. **Recall Major Cities**: Paris is the most well-known city in France, recognized for landmarks like the Eiffel Tower and the Louvre.\\n4. **Government Affiliation**: Key government structures, such as the French President's residence (Élysée Palace) and Parliament, are situated in Paris.\\n5. **Historical Context**: Paris has been France's historic and cultural center for centuries, including during events like the French Revolution.\\n6. **Eliminate Alternatives**: Other major cities (e.g., Lyon, Marseille) are significant but not political capitals.\\n7. **Confirm Consistency**: France has not changed its capital in modern history, solidifying Paris's status.\\n\\n**Answer**: Paris.\")\n"
          ]
        }
      ]
    },
    {
      "cell_type": "code",
      "source": [],
      "metadata": {
        "id": "tX5GPG4CVqPO"
      },
      "execution_count": null,
      "outputs": []
    }
  ]
}