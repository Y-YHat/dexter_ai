{
  "nbformat": 4,
  "nbformat_minor": 0,
  "metadata": {
    "colab": {
      "provenance": [],
      "authorship_tag": "ABX9TyP5dAPhpO7iVuh2NCzmXLGI",
      "include_colab_link": true
    },
    "kernelspec": {
      "name": "python3",
      "display_name": "Python 3"
    },
    "language_info": {
      "name": "python"
    }
  },
  "cells": [
    {
      "cell_type": "markdown",
      "metadata": {
        "id": "view-in-github",
        "colab_type": "text"
      },
      "source": [
        "<a href=\"https://colab.research.google.com/github/Y-YHat/dexter_ai/blob/main/dexterai_reasoning_models.ipynb\" target=\"_parent\"><img src=\"https://colab.research.google.com/assets/colab-badge.svg\" alt=\"Open In Colab\"/></a>"
      ]
    },
    {
      "cell_type": "markdown",
      "source": [
        "*installs*"
      ],
      "metadata": {
        "id": "2-WEEM5akYYn"
      }
    },
    {
      "cell_type": "code",
      "source": [
        "pip install -U -q openai"
      ],
      "metadata": {
        "id": "YFi-EBV0UHHk"
      },
      "execution_count": 3,
      "outputs": []
    },
    {
      "cell_type": "markdown",
      "source": [
        "*imports*"
      ],
      "metadata": {
        "id": "UK_9PGRHkdKO"
      }
    },
    {
      "cell_type": "code",
      "source": [
        "from openai import OpenAI"
      ],
      "metadata": {
        "id": "KPpPdD0BkDCa"
      },
      "execution_count": 4,
      "outputs": []
    },
    {
      "cell_type": "code",
      "source": [
        "import os\n",
        "from google.colab import userdata"
      ],
      "metadata": {
        "id": "9WUVo8KuiORq"
      },
      "execution_count": 5,
      "outputs": []
    },
    {
      "cell_type": "markdown",
      "source": [
        "*api keys*"
      ],
      "metadata": {
        "id": "plmD2muFkf8k"
      }
    },
    {
      "cell_type": "code",
      "source": [
        "deepseek_api_key = userdata.get('DEEPSEEK_API_KEY')\n",
        "openai_api_key = userdata.get('OPENAI_API_KEY')\n",
        "client_deepseek = OpenAI(api_key=deepseek_api_key, base_url=\"https://api.deepseek.com\")\n",
        "client_openai = OpenAI(api_key=openai_api_key)"
      ],
      "metadata": {
        "id": "zI9Ah6FpTs3l"
      },
      "execution_count": 6,
      "outputs": []
    },
    {
      "cell_type": "markdown",
      "source": [
        "*open ai available models list*"
      ],
      "metadata": {
        "id": "UtYL1ZdAlXGb"
      }
    },
    {
      "cell_type": "code",
      "source": [
        "# List available models\n",
        "models = client_openai.models.list()\n",
        "\n",
        "# Print model names\n",
        "print(\"Models you have access to:\")\n",
        "for model in models:\n",
        "    print(model.id)\n"
      ],
      "metadata": {
        "colab": {
          "base_uri": "https://localhost:8080/"
        },
        "id": "NOcfgVVa3jIw",
        "outputId": "482da93b-dd2c-4995-f99e-32dbf9ca76b2"
      },
      "execution_count": 7,
      "outputs": [
        {
          "output_type": "stream",
          "name": "stdout",
          "text": [
            "Models you have access to:\n",
            "gpt-4.5-preview\n",
            "gpt-4.5-preview-2025-02-27\n",
            "gpt-4o-mini-audio-preview-2024-12-17\n",
            "dall-e-3\n",
            "dall-e-2\n",
            "gpt-4o-audio-preview-2024-10-01\n",
            "gpt-4o-audio-preview\n",
            "gpt-4o-mini-realtime-preview-2024-12-17\n",
            "gpt-4o-mini-realtime-preview\n",
            "o1-mini-2024-09-12\n",
            "o1-mini\n",
            "gpt-4o-mini-audio-preview\n",
            "whisper-1\n",
            "omni-moderation-latest\n",
            "gpt-4o-2024-05-13\n",
            "omni-moderation-2024-09-26\n",
            "gpt-4o-realtime-preview-2024-10-01\n",
            "babbage-002\n",
            "gpt-4o-2024-08-06\n",
            "chatgpt-4o-latest\n",
            "tts-1-hd-1106\n",
            "text-embedding-3-large\n",
            "gpt-4o-audio-preview-2024-12-17\n",
            "gpt-4o\n",
            "o1\n",
            "gpt-4\n",
            "gpt-4o-2024-11-20\n",
            "o1-2024-12-17\n",
            "tts-1-hd\n",
            "o1-preview\n",
            "o1-preview-2024-09-12\n",
            "gpt-4o-mini\n",
            "tts-1\n",
            "tts-1-1106\n",
            "davinci-002\n",
            "gpt-3.5-turbo-1106\n",
            "gpt-4-turbo\n",
            "gpt-3.5-turbo-instruct\n",
            "gpt-3.5-turbo-instruct-0914\n",
            "gpt-3.5-turbo-0125\n",
            "gpt-4o-realtime-preview-2024-12-17\n",
            "gpt-3.5-turbo\n",
            "gpt-4-turbo-2024-04-09\n",
            "gpt-4o-realtime-preview\n",
            "gpt-3.5-turbo-16k\n",
            "text-embedding-3-small\n",
            "gpt-4-0125-preview\n",
            "gpt-4-1106-preview\n",
            "text-embedding-ada-002\n",
            "gpt-4-0613\n",
            "gpt-4o-mini-2024-07-18\n",
            "gpt-4-turbo-preview\n",
            "o3-mini-2025-01-31\n",
            "o3-mini\n"
          ]
        }
      ]
    },
    {
      "cell_type": "markdown",
      "source": [
        "*apis hello world*"
      ],
      "metadata": {
        "id": "hyVTGjm1lJgQ"
      }
    },
    {
      "cell_type": "code",
      "source": [
        "\n",
        "def query_o1_mini(prompt, reasoning_effort=\"low\"):\n",
        "    response = client_openai.chat.completions.create(\n",
        "        model=\"o1-mini\",\n",
        "        messages=[\n",
        "            {\"role\": \"user\", \"content\": prompt}\n",
        "        ],\n",
        "        # reasoning_effort=reasoning_effort\n",
        "    )\n",
        "    return response.choices[0].message.content\n",
        "\n",
        "# Example usage\n",
        "result = query_o1_mini(\"What is the capital of France?\", reasoning_effort=\"medium\")\n",
        "print(result)\n"
      ],
      "metadata": {
        "colab": {
          "base_uri": "https://localhost:8080/"
        },
        "id": "4dLNH4a4ShE1",
        "outputId": "16a43c8b-e54b-44bf-e9cc-e7090e0467f5"
      },
      "execution_count": 8,
      "outputs": [
        {
          "output_type": "stream",
          "name": "stdout",
          "text": [
            "The capital of France is **Paris**.\n"
          ]
        }
      ]
    },
    {
      "cell_type": "code",
      "source": [
        "# Round 1\n",
        "messages = [{\"role\": \"user\", \"content\": \"what is the capital of france?\"}]\n",
        "response = client_deepseek.chat.completions.create(\n",
        "    model=\"deepseek-reasoner\",\n",
        "    messages=messages\n",
        ")\n",
        "\n",
        "reasoning_content = response.choices[0].message.reasoning_content\n",
        "content = response.choices[0].message.content"
      ],
      "metadata": {
        "id": "doLJEY7nKUwu"
      },
      "execution_count": 9,
      "outputs": []
    },
    {
      "cell_type": "code",
      "source": [
        "print(content)"
      ],
      "metadata": {
        "colab": {
          "base_uri": "https://localhost:8080/"
        },
        "id": "1ltB3ofgVmQ7",
        "outputId": "1e4eb6a3-e65d-4826-88be-7dad2374d19f"
      },
      "execution_count": 10,
      "outputs": [
        {
          "output_type": "stream",
          "name": "stdout",
          "text": [
            "The capital of France is **Paris**. It is renowned for its cultural landmarks, such as the Eiffel Tower, Louvre Museum, and Notre-Dame Cathedral, and serves as the political, economic, and cultural heart of the country.\n"
          ]
        }
      ]
    },
    {
      "cell_type": "code",
      "source": [],
      "metadata": {
        "id": "Lee7cOUvWD3m"
      },
      "execution_count": null,
      "outputs": []
    }
  ]
}