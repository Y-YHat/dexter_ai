{
  "nbformat": 4,
  "nbformat_minor": 0,
  "metadata": {
    "colab": {
      "provenance": [],
      "authorship_tag": "ABX9TyMAfeGbFSAfUkFLqYVgXXjX",
      "include_colab_link": true
    },
    "kernelspec": {
      "name": "python3",
      "display_name": "Python 3"
    },
    "language_info": {
      "name": "python"
    }
  },
  "cells": [
    {
      "cell_type": "markdown",
      "metadata": {
        "id": "view-in-github",
        "colab_type": "text"
      },
      "source": [
        "<a href=\"https://colab.research.google.com/github/Y-YHat/dexter_ai/blob/main/dexterai_reasoning_models.ipynb\" target=\"_parent\"><img src=\"https://colab.research.google.com/assets/colab-badge.svg\" alt=\"Open In Colab\"/></a>"
      ]
    },
    {
      "cell_type": "markdown",
      "source": [
        "*installs*"
      ],
      "metadata": {
        "id": "2-WEEM5akYYn"
      }
    },
    {
      "cell_type": "code",
      "source": [
        "pip install -U -q openai"
      ],
      "metadata": {
        "id": "YFi-EBV0UHHk",
        "colab": {
          "base_uri": "https://localhost:8080/"
        },
        "outputId": "4c43da10-a9e7-41f3-e56a-a80ff52c06ed"
      },
      "execution_count": 1,
      "outputs": [
        {
          "output_type": "stream",
          "name": "stdout",
          "text": [
            "\u001b[?25l   \u001b[90m━━━━━━━━━━━━━━━━━━━━━━━━━━━━━━━━━━━━━━━━\u001b[0m \u001b[32m0.0/567.4 kB\u001b[0m \u001b[31m?\u001b[0m eta \u001b[36m-:--:--\u001b[0m\r\u001b[2K   \u001b[91m━━━━━━━━━━━━━━━━━━━━━━━━━━━━━━━━━━━━━━━\u001b[0m\u001b[91m╸\u001b[0m \u001b[32m563.2/567.4 kB\u001b[0m \u001b[31m18.8 MB/s\u001b[0m eta \u001b[36m0:00:01\u001b[0m\r\u001b[2K   \u001b[90m━━━━━━━━━━━━━━━━━━━━━━━━━━━━━━━━━━━━━━━━\u001b[0m \u001b[32m567.4/567.4 kB\u001b[0m \u001b[31m10.4 MB/s\u001b[0m eta \u001b[36m0:00:00\u001b[0m\n",
            "\u001b[?25h"
          ]
        }
      ]
    },
    {
      "cell_type": "markdown",
      "source": [
        "*imports*"
      ],
      "metadata": {
        "id": "UK_9PGRHkdKO"
      }
    },
    {
      "cell_type": "code",
      "source": [
        "from openai import OpenAI"
      ],
      "metadata": {
        "id": "KPpPdD0BkDCa"
      },
      "execution_count": 2,
      "outputs": []
    },
    {
      "cell_type": "code",
      "source": [
        "import os\n",
        "from google.colab import userdata"
      ],
      "metadata": {
        "id": "9WUVo8KuiORq"
      },
      "execution_count": 3,
      "outputs": []
    },
    {
      "cell_type": "markdown",
      "source": [
        "*api keys*"
      ],
      "metadata": {
        "id": "plmD2muFkf8k"
      }
    },
    {
      "cell_type": "code",
      "source": [
        "deepseek_api_key = userdata.get('DEEPSEEK_API_KEY')\n",
        "openai_api_key = userdata.get('OPENAI_API_KEY')\n",
        "client_deepseek = OpenAI(api_key=deepseek_api_key, base_url=\"https://api.deepseek.com\")\n",
        "client_openai = OpenAI(api_key=openai_api_key)"
      ],
      "metadata": {
        "id": "zI9Ah6FpTs3l"
      },
      "execution_count": 4,
      "outputs": []
    },
    {
      "cell_type": "markdown",
      "source": [
        "*open ai available models list*"
      ],
      "metadata": {
        "id": "UtYL1ZdAlXGb"
      }
    },
    {
      "cell_type": "code",
      "source": [
        "# List available models\n",
        "models = client_openai.models.list()\n",
        "\n",
        "# Print model names\n",
        "print(\"Models you have access to:\")\n",
        "for model in models:\n",
        "    print(model.id)\n"
      ],
      "metadata": {
        "colab": {
          "base_uri": "https://localhost:8080/"
        },
        "id": "NOcfgVVa3jIw",
        "outputId": "482da93b-dd2c-4995-f99e-32dbf9ca76b2"
      },
      "execution_count": null,
      "outputs": [
        {
          "output_type": "stream",
          "name": "stdout",
          "text": [
            "Models you have access to:\n",
            "gpt-4.5-preview\n",
            "gpt-4.5-preview-2025-02-27\n",
            "gpt-4o-mini-audio-preview-2024-12-17\n",
            "dall-e-3\n",
            "dall-e-2\n",
            "gpt-4o-audio-preview-2024-10-01\n",
            "gpt-4o-audio-preview\n",
            "gpt-4o-mini-realtime-preview-2024-12-17\n",
            "gpt-4o-mini-realtime-preview\n",
            "o1-mini-2024-09-12\n",
            "o1-mini\n",
            "gpt-4o-mini-audio-preview\n",
            "whisper-1\n",
            "omni-moderation-latest\n",
            "gpt-4o-2024-05-13\n",
            "omni-moderation-2024-09-26\n",
            "gpt-4o-realtime-preview-2024-10-01\n",
            "babbage-002\n",
            "gpt-4o-2024-08-06\n",
            "chatgpt-4o-latest\n",
            "tts-1-hd-1106\n",
            "text-embedding-3-large\n",
            "gpt-4o-audio-preview-2024-12-17\n",
            "gpt-4o\n",
            "o1\n",
            "gpt-4\n",
            "gpt-4o-2024-11-20\n",
            "o1-2024-12-17\n",
            "tts-1-hd\n",
            "o1-preview\n",
            "o1-preview-2024-09-12\n",
            "gpt-4o-mini\n",
            "tts-1\n",
            "tts-1-1106\n",
            "davinci-002\n",
            "gpt-3.5-turbo-1106\n",
            "gpt-4-turbo\n",
            "gpt-3.5-turbo-instruct\n",
            "gpt-3.5-turbo-instruct-0914\n",
            "gpt-3.5-turbo-0125\n",
            "gpt-4o-realtime-preview-2024-12-17\n",
            "gpt-3.5-turbo\n",
            "gpt-4-turbo-2024-04-09\n",
            "gpt-4o-realtime-preview\n",
            "gpt-3.5-turbo-16k\n",
            "text-embedding-3-small\n",
            "gpt-4-0125-preview\n",
            "gpt-4-1106-preview\n",
            "text-embedding-ada-002\n",
            "gpt-4-0613\n",
            "gpt-4o-mini-2024-07-18\n",
            "gpt-4-turbo-preview\n",
            "o3-mini-2025-01-31\n",
            "o3-mini\n"
          ]
        }
      ]
    },
    {
      "cell_type": "markdown",
      "source": [
        "*apis hello world*"
      ],
      "metadata": {
        "id": "hyVTGjm1lJgQ"
      }
    },
    {
      "cell_type": "code",
      "source": [
        "def query_o1_mini(prompt, reasoning_effort=\"low\"):\n",
        "    response = client_openai.chat.completions.create(\n",
        "        model=\"o1-mini\",\n",
        "        messages=[\n",
        "            {\"role\": \"user\", \"content\": prompt}\n",
        "        ],\n",
        "        # reasoning_effort=reasoning_effort\n",
        "    )\n",
        "    return response.choices[0].message.content\n",
        "\n",
        "# Example usage\n",
        "result = query_o1_mini(\"What is the capital of France?\", reasoning_effort=\"medium\")\n",
        "print(result)\n"
      ],
      "metadata": {
        "colab": {
          "base_uri": "https://localhost:8080/"
        },
        "id": "4dLNH4a4ShE1",
        "outputId": "ee6e9a6d-955a-46f5-f6a9-95ea0cef309a"
      },
      "execution_count": 5,
      "outputs": [
        {
          "output_type": "stream",
          "name": "stdout",
          "text": [
            "The capital of France is **Paris**.\n"
          ]
        }
      ]
    },
    {
      "cell_type": "code",
      "source": [
        "def query_o1_mini(prompt, reasoning_effort=\"high\"):\n",
        "    # Modify the prompt to ask for step-by-step reasoning\n",
        "    modified_prompt = f\"Please provide step-by-step reasoning for the following question: {prompt}\"\n",
        "\n",
        "    response = client_openai.chat.completions.create(\n",
        "        model=\"o1-mini\",\n",
        "        messages=[\n",
        "            {\"role\": \"user\", \"content\": modified_prompt}\n",
        "        ]\n",
        "    )\n",
        "\n",
        "    return response.choices[0].message.content\n",
        "\n",
        "# Example usage\n",
        "result = query_o1_mini(\"What is the capital of France?\", reasoning_effort=\"high\")\n",
        "print(result)\n"
      ],
      "metadata": {
        "colab": {
          "base_uri": "https://localhost:8080/"
        },
        "id": "o9PkoOGWRHea",
        "outputId": "ea6d8a42-fef1-4ff7-bdaa-d975e7561271"
      },
      "execution_count": null,
      "outputs": [
        {
          "output_type": "stream",
          "name": "stdout",
          "text": [
            "Certainly! Let's break down the reasoning step-by-step to determine the capital of France.\n",
            "\n",
            "### Step 1: Identify the Country\n",
            "First, we need to confirm the country in question.\n",
            "- **Country:** France\n",
            "\n",
            "### Step 2: Understand What a Capital City Is\n",
            "A capital city serves as the administrative, political, and cultural center of a country. It typically houses the government's main institutions, such as the parliament, president's residence, and key ministries.\n",
            "\n",
            "### Step 3: Recall or Research France's Capital\n",
            "To determine the capital of France, we can use one of the following approaches:\n",
            "- **Prior Knowledge:** Drawing from what we already know about France.\n",
            "- **Research:** Looking up reliable sources to confirm the information.\n",
            "\n",
            "### Step 4: Apply Prior Knowledge\n",
            "From general knowledge:\n",
            "- France is one of the major countries in Europe with a rich history in art, culture, and politics.\n",
            "- The city of **Paris** is internationally recognized as a significant cultural and economic hub.\n",
            "\n",
            "### Step 5: Confirm Through Research (Optional but Recommended)\n",
            "If there's uncertainty, consulting reputable sources can confirm:\n",
            "- **Official Sources:** Government websites, educational institutions, or verified encyclopedias.\n",
            "- **Search Engines:** A quick search for \"capital of France\" will reliably return \"Paris.\"\n",
            "\n",
            "### Step 6: Conclusion\n",
            "Based on the understanding that the capital city is the administrative center and recognizing Paris's role in France, we can conclude:\n",
            "- **Capital of France:** Paris\n",
            "\n",
            "### Summary\n",
            "By identifying the country, understanding the role of a capital city, applying prior knowledge, and optionally confirming through research, we determine that the capital of France is **Paris**.\n"
          ]
        }
      ]
    },
    {
      "cell_type": "code",
      "source": [
        "# Round 1\n",
        "messages = [{\"role\": \"user\", \"content\": \"what is the capital of france?\"}]\n",
        "response = client_deepseek.chat.completions.create(\n",
        "    model=\"deepseek-reasoner\",\n",
        "    messages=messages\n",
        ")\n",
        "\n",
        "reasoning_content = response.choices[0].message.reasoning_content\n",
        "content = response.choices[0].message.content"
      ],
      "metadata": {
        "id": "doLJEY7nKUwu"
      },
      "execution_count": null,
      "outputs": []
    },
    {
      "cell_type": "code",
      "source": [
        "print(content)"
      ],
      "metadata": {
        "colab": {
          "base_uri": "https://localhost:8080/"
        },
        "id": "1ltB3ofgVmQ7",
        "outputId": "3533ae78-718c-48b8-b6fe-5468d1cdc4ea"
      },
      "execution_count": null,
      "outputs": [
        {
          "output_type": "stream",
          "name": "stdout",
          "text": [
            "The capital of France is **Paris**. Known for its rich history, iconic landmarks like the Eiffel Tower, and its role as the political and cultural heart of the country, Paris has been the capital since the 10th century. Let me know if you'd like more details! 🇫🇷\n"
          ]
        }
      ]
    },
    {
      "cell_type": "code",
      "source": [
        "# Round 1\n",
        "messages = [{\"role\": \"user\", \"content\": \"what is the capital of france?\"}]\n",
        "response = client_deepseek.chat.completions.create(\n",
        "    model=\"deepseek-reasoner\",\n",
        "    messages=messages\n",
        ")\n",
        "\n",
        "reasoning_content = response.choices[0].message.reasoning_content\n",
        "content = response.choices[0].message.content\n",
        "\n",
        "print(\"Reasoning Content:\", reasoning_content)\n",
        "print(\"Final Answer:\", content)\n"
      ],
      "metadata": {
        "id": "Lee7cOUvWD3m",
        "colab": {
          "base_uri": "https://localhost:8080/"
        },
        "outputId": "743b4c55-4224-4920-a9ab-1c7fa4028eb5"
      },
      "execution_count": null,
      "outputs": [
        {
          "output_type": "stream",
          "name": "stdout",
          "text": [
            "Reasoning Content: Okay, so the question is asking for the capital of France. Let me start by recalling what I know about France. France is a country in Europe, right? I remember that Paris is a major city there. But wait, is Paris actually the capital? Let me think.\n",
            "\n",
            "I've heard people talk about Paris being the city of love and there's the Eiffel Tower there. Also, major government institutions are probably located in the capital. France's government... does the president live in Paris? I think the presidential palace is there. Also, when I think of French landmarks, the Louvre Museum is in Paris, and maybe the National Assembly. That adds up. \n",
            "\n",
            "But wait, sometimes countries change their capitals. Has France ever changed theirs? I know some countries have moved capitals, like Brazil moved to Brasília. But for France, I don't recall any such change. It's been Paris for a long time. Let me cross-check with historical knowledge. During World War II, when Germany occupied France, the Vichy regime was in control, but I think Paris remained the capital, though the government was based in Vichy temporarily. But post-war, it reverted back. So Paris is the traditional and current capital.\n",
            "\n",
            "Also, in terms of geography, Paris is centrally located in the northern part of France, which makes sense for a capital city. It's a hub for transportation, culture, and economy. The question is straightforward, but I want to make sure I'm not mixing up any details. Maybe some people confuse other cities like Lyon or Marseille, but those are just other major cities, not the capital. Yeah, I'm pretty confident it's Paris. No need to overcomplicate. Just to be thorough, maybe I can think of other sources: in textbooks, Paris is always cited as the capital. Also, in international events like the Olympics, Paris has hosted them, which capitals often do. So all signs point to Paris.\n",
            "Final Answer: The capital of France is **Paris**. Known for its rich history, iconic landmarks such as the Eiffel Tower, Louvre Museum, and Notre-Dame Cathedral, Paris has long been the political, cultural, and economic heart of France. It houses key government institutions, including the official residence of the President (Élysée Palace) and the French Parliament.\n"
          ]
        }
      ]
    },
    {
      "cell_type": "code",
      "source": [
        "def query_deepseek(prompt):\n",
        "    # Modify the prompt to ask for step-by-step reasoning (not necessary for deepseek-reasoner)\n",
        "    modified_prompt = f\"Please provide step-by-step reasoning for the following question: {prompt}\"\n",
        "\n",
        "    # Round 1\n",
        "    messages = [{\"role\": \"user\", \"content\": modified_prompt}]\n",
        "    response = client_deepseek.chat.completions.create(\n",
        "        model=\"deepseek-reasoner\",\n",
        "        messages=messages\n",
        "    )\n",
        "\n",
        "    # reasoning_content = response.choices[0].message.reasoning_content\n",
        "    content = response.choices[0].message.content\n",
        "\n",
        "    return reasoning_content, content\n",
        "\n",
        "# Example usage\n",
        "# reasoning_content,\n",
        "content = query_deepseek(\"What is the capital of France?\")\n",
        "# print(\"Reasoning Content:\", reasoning_content)\n",
        "print(\"Final Answer:\", content)\n"
      ],
      "metadata": {
        "colab": {
          "base_uri": "https://localhost:8080/"
        },
        "id": "_ZrLq4SIVUWX",
        "outputId": "15932e4a-a7ca-428d-966c-bfe428ae58e3"
      },
      "execution_count": null,
      "outputs": [
        {
          "output_type": "stream",
          "name": "stdout",
          "text": [
            "Final Answer: (\"Okay, so the question is asking for the capital of France. Let me start by recalling what I know about France. France is a country in Europe, right? I remember that Paris is a major city there. But wait, is Paris actually the capital? Let me think.\\n\\nI've heard people talk about Paris being the city of love and there's the Eiffel Tower there. Also, major government institutions are probably located in the capital. France's government... does the president live in Paris? I think the presidential palace is there. Also, when I think of French landmarks, the Louvre Museum is in Paris, and maybe the National Assembly. That adds up. \\n\\nBut wait, sometimes countries change their capitals. Has France ever changed theirs? I know some countries have moved capitals, like Brazil moved to Brasília. But for France, I don't recall any such change. It's been Paris for a long time. Let me cross-check with historical knowledge. During World War II, when Germany occupied France, the Vichy regime was in control, but I think Paris remained the capital, though the government was based in Vichy temporarily. But post-war, it reverted back. So Paris is the traditional and current capital.\\n\\nAlso, in terms of geography, Paris is centrally located in the northern part of France, which makes sense for a capital city. It's a hub for transportation, culture, and economy. The question is straightforward, but I want to make sure I'm not mixing up any details. Maybe some people confuse other cities like Lyon or Marseille, but those are just other major cities, not the capital. Yeah, I'm pretty confident it's Paris. No need to overcomplicate. Just to be thorough, maybe I can think of other sources: in textbooks, Paris is always cited as the capital. Also, in international events like the Olympics, Paris has hosted them, which capitals often do. So all signs point to Paris.\", \"The capital of France is Paris. Here's the step-by-step reasoning:\\n\\n1. **Identify the Country**: France is a country located in Western Europe.\\n2. **Understand Capitals**: A capital city typically houses the government's main offices and institutions.\\n3. **Recall Major Cities**: Paris is the most well-known city in France, recognized for landmarks like the Eiffel Tower and the Louvre.\\n4. **Government Affiliation**: Key government structures, such as the French President's residence (Élysée Palace) and Parliament, are situated in Paris.\\n5. **Historical Context**: Paris has been France's historic and cultural center for centuries, including during events like the French Revolution.\\n6. **Eliminate Alternatives**: Other major cities (e.g., Lyon, Marseille) are significant but not political capitals.\\n7. **Confirm Consistency**: France has not changed its capital in modern history, solidifying Paris's status.\\n\\n**Answer**: Paris.\")\n"
          ]
        }
      ]
    },
    {
      "cell_type": "markdown",
      "source": [
        "Benchmarking Cyber"
      ],
      "metadata": {
        "id": "y58QLVt4xWx3"
      }
    },
    {
      "cell_type": "code",
      "source": [
        "def query_o1_mini(prompt):\n",
        "    # Modify the prompt to ask for step-by-step reasoning\n",
        "    modified_prompt = f\"Please provide step-by-step reasoning for the following scenario: {prompt}\"\n",
        "\n",
        "    response = client_openai.chat.completions.create(\n",
        "        model=\"o1-mini\",\n",
        "        messages=[\n",
        "            {\"role\": \"user\", \"content\": modified_prompt}\n",
        "        ]\n",
        "    )\n",
        "\n",
        "    return response.choices[0].message.content\n",
        "\n",
        "# Benchmark Scenario Prompt (same as above)\n",
        "prompt = \"\"\"\n",
        "A healthcare organization discovers that their patient records database is inaccessible. System logs show the following events occurred between 2:00 AM and 4:30 AM:\n",
        "\n",
        "1. Multiple failed login attempts to the VPN using valid usernames but incorrect passwords\n",
        "2. Successful VPN login at 2:17 AM using the credentials of a system administrator who is currently on vacation\n",
        "3. PowerShell commands executed to disable Windows Defender and stop backup services\n",
        "4. Large outbound data transfer (2.3 GB) to an IP address in Eastern Europe\n",
        "5. Creation of new admin account \"backup_svc_admin\"\n",
        "6. Encryption of database files with .locked extension\n",
        "7. A ransom note (readme.txt) demanding payment of 25 Bitcoin for decryption keys\n",
        "\n",
        "Additional Information:\n",
        "- The organization uses multi-factor authentication for VPN access, but the admin had an exception due to frequent travel\n",
        "- Recent phishing emails targeting IT staff were reported but dismissed as low risk\n",
        "- Backups are stored on a network-attached storage device that is always connected\n",
        "- Security audit from last month flagged \"excessive admin privileges\" as a concern\n",
        "\n",
        "Please analyze this scenario and provide the following:\n",
        "1. Incident Classification\n",
        "2. Attack Vector Analysis\n",
        "3. Containment Strategy\n",
        "4. Evidence Preservation\n",
        "5. Remediation Plan\n",
        "6. Future Prevention\n",
        "\n",
        "Provide step-by-step reasoning for each point.\n",
        "\"\"\"\n",
        "\n",
        "# Example usage\n",
        "result = query_o1_mini(prompt)\n",
        "print(result)\n"
      ],
      "metadata": {
        "id": "tX5GPG4CVqPO",
        "colab": {
          "base_uri": "https://localhost:8080/"
        },
        "outputId": "6b2a5452-3f91-4b56-ec7e-561fc8e85a58"
      },
      "execution_count": 6,
      "outputs": [
        {
          "output_type": "stream",
          "name": "stdout",
          "text": [
            "Certainly, let's analyze the provided scenario step-by-step, addressing each of the requested points:\n",
            "\n",
            "---\n",
            "\n",
            "### **1. Incident Classification**\n",
            "\n",
            "**Step-by-Step Reasoning:**\n",
            "\n",
            "- **Identifying the Nature of the Incident:**\n",
            "  - **Encryption of Files:** The database files were encrypted with a `.locked` extension.\n",
            "  - **Ransom Demand:** A ransom note requests payment in Bitcoin for decryption keys.\n",
            "  - **Data Exfiltration:** Large outbound data transfer to an external IP address suggests data theft.\n",
            "\n",
            "- **Categorizing the Incident:**\n",
            "  - **Ransomware Attack:** The encryption of files coupled with a ransom demand is characteristic of ransomware.\n",
            "  - **Data Breach:** The exfiltration of 2.3 GB of data indicates a data breach component.\n",
            "\n",
            "- **Impact Assessment:**\n",
            "  - **Operational Disruption:** Inaccessibility of patient records disrupts healthcare services.\n",
            "  - **Data Confidentiality and Integrity Compromised:** Patient data is both unavailable and potentially exposed.\n",
            "\n",
            "**Conclusion:** The incident is best classified as a **Ransomware Attack with Data Exfiltration**, involving unauthorized access, encryption of critical data, and extortion.\n",
            "\n",
            "---\n",
            "\n",
            "### **2. Attack Vector Analysis**\n",
            "\n",
            "**Step-by-Step Reasoning:**\n",
            "\n",
            "- **Examining the Sequence of Events:**\n",
            "  1. **Multiple Failed VPN Login Attempts:** Suggests a brute-force attempt.\n",
            "  2. **Successful Admin VPN Login:** Indicates credential compromise.\n",
            "  3. **Execution of PowerShell Commands:** Used to disable defenses and backups.\n",
            "  4. **Data Exfiltration:** Large data transfer to an external IP.\n",
            "  5. **Creation of New Admin Account:** Establishes persistent access.\n",
            "  6. **Encryption of Database Files:** Ransomware payload deployment.\n",
            "  7. **Ransom Note Delivery:** Completion of the ransomware attack.\n",
            "\n",
            "- **Potential Entry Points:**\n",
            "  - **VPN Vulnerability:** Despite MFA, the admin account had an exception, making it a weak point.\n",
            "  - **Credential Compromise:** The admin's credentials were likely obtained through earlier failed attempts or potentially via phishing (given the reported emails).\n",
            "\n",
            "- **Leveraging Privileged Access:**\n",
            "  - **Admin Privileges Misuse:** The attacker used high-level privileges to disable security measures and backups.\n",
            "  - **Privilege Escalation:** Creation of a new admin account indicates maintaining access.\n",
            "\n",
            "- **Use of Legitimate Tools:**\n",
            "  - **PowerShell Commands:** Commonly used in living-off-the-land attacks to avoid detection.\n",
            "\n",
            "**Conclusion:** The primary attack vector was **Compromised Admin Credentials via VPN**, exploited due to an exception in MFA and existing excessive admin privileges.\n",
            "\n",
            "---\n",
            "\n",
            "### **3. Containment Strategy**\n",
            "\n",
            "**Step-by-Step Reasoning:**\n",
            "\n",
            "- **Immediate Actions:**\n",
            "  1. **Isolate Affected Systems:** Disconnect the patient records database and affected servers from the network to prevent further encryption and data exfiltration.\n",
            "  2. **Disable Compromised Accounts:** Temporarily disable the compromised system administrator account and any newly created admin accounts (`backup_svc_admin`).\n",
            "  3. **Block Malicious IP Addresses:** Identify and block the Eastern European IP address involved in data exfiltration.\n",
            "\n",
            "- **Network Segmentation:**\n",
            "  - **Restrict Access:** Ensure that sensitive systems are segmented and access is tightly controlled to limit lateral movement.\n",
            "\n",
            "- **Terminate Malicious Processes:**\n",
            "  - **Stop Ongoing Encryption:** Identify and terminate any running processes associated with the ransomware.\n",
            "\n",
            "- **Communicate Internally:**\n",
            "  - **Alert IT and Security Teams:** Inform relevant teams to begin containment and investigation procedures.\n",
            "  - **Notify Stakeholders:** Update management and, if necessary, regulatory bodies about the incident.\n",
            "\n",
            "**Conclusion:** The containment strategy focuses on **isolating affected systems**, **disabling compromised accounts**, **blocking malicious external connections**, and **limiting potential spread** within the network.\n",
            "\n",
            "---\n",
            "\n",
            "### **4. Evidence Preservation**\n",
            "\n",
            "**Step-by-Step Reasoning:**\n",
            "\n",
            "- **Immediate Preservation Steps:**\n",
            "  1. **Secure Logs and System Images:**\n",
            "     - **Collect Logs:** Gather VPN logs, system logs, and network traffic logs from the time of the incident.\n",
            "     - **Create Forensic Images:** Make exact copies of affected systems' storage for analysis.\n",
            "\n",
            "  2. **Preserve Volatile Data:**\n",
            "     - **RAM Snapshot:** Capture the current state of the memory to retrieve running processes and potential malware.\n",
            "  \n",
            "- **Chain of Custody:**\n",
            "  - **Document Handling:** Keep detailed records of who accesses the evidence and when to maintain integrity.\n",
            "  \n",
            "- **Avoid Alterations:**\n",
            "  - **Prevent System Changes:** Ensure that infected systems are not modified further to preserve evidence for forensic analysis.\n",
            "\n",
            "- **Identify and Secure All Relevant Data:**\n",
            "  - **Backup Evidence:** Even though backups were disrupted, ensure any unaffected backup copies are secured.\n",
            "\n",
            "**Conclusion:** Effective evidence preservation involves **collecting and securing logs**, **creating forensic images**, **maintaining a strict chain of custody**, and **preventing any alteration** of potential evidence.\n",
            "\n",
            "---\n",
            "\n",
            "### **5. Remediation Plan**\n",
            "\n",
            "**Step-by-Step Reasoning:**\n",
            "\n",
            "- **Eradication of Threat:**\n",
            "  1. **Remove Malware:** Use antivirus and anti-malware tools to eliminate ransomware from all affected systems.\n",
            "  2. **Patch Vulnerabilities:** Address the VPN security exception and any other vulnerabilities exploited during the attack.\n",
            "\n",
            "- **System Restoration:**\n",
            "  1. **Restore from Backups:** Utilize the network-attached storage backups to restore encrypted database files, ensuring backups are free from malware.\n",
            "  2. **Rebuild Compromised Systems:** If backups are compromised, fully rebuild affected systems from clean images.\n",
            "\n",
            "- **Credential Reset:**\n",
            "  - **Change Passwords:** Reset passwords for all admin and user accounts, especially those with elevated privileges.\n",
            "\n",
            "- **Update Security Measures:**\n",
            "  - **Re-enforce MFA:** Remove exceptions and ensure MFA is enforced for all accounts, including admins.\n",
            "  - **Implement Least Privilege:** Adjust user permissions to align with the principle of least privilege.\n",
            "\n",
            "- **Monitor and Validate:**\n",
            "  - **Continuous Monitoring:** Implement enhanced monitoring to detect any residual or new malicious activities.\n",
            "  - **Validate Restored Systems:** Ensure that systems are functioning correctly and data integrity is maintained post-restoration.\n",
            "\n",
            "**Conclusion:** The remediation plan centers on **eliminating the threat**, **restoring systems from secure backups**, **strengthening security controls**, and **ensuring system integrity** through thorough validation and monitoring.\n",
            "\n",
            "---\n",
            "\n",
            "### **6. Future Prevention**\n",
            "\n",
            "**Step-by-Step Reasoning:**\n",
            "\n",
            "- **Strengthen Access Controls:**\n",
            "  1. **Enforce MFA Strictly:** Remove exceptions and ensure all users, especially admins, use multi-factor authentication.\n",
            "  2. **Implement Role-Based Access Control (RBAC):** Assign permissions based on user roles to minimize excessive privileges.\n",
            "\n",
            "- **Enhance Monitoring and Detection:**\n",
            "  - **Deploy Intrusion Detection Systems (IDS):** Monitor for unusual activities, such as multiple failed login attempts and large data transfers.\n",
            "  - **Regular Log Reviews:** Schedule frequent audits of system and network logs to identify suspicious patterns early.\n",
            "\n",
            "- **Regular Security Audits and Assessments:**\n",
            "  - **Address Audit Findings:** Specifically resolve previously flagged issues like \"excessive admin privileges.\"\n",
            "  - **Conduct Penetration Testing:** Regularly test defenses against potential attack vectors.\n",
            "\n",
            "- **Backup Strategy Improvements:**\n",
            "  - **Isolate Backups:** Ensure backups are disconnected or stored in a way that prevents them from being accessible during a breach.\n",
            "  - **Regular Backup Testing:** Periodically test backups to verify their integrity and restoration capability.\n",
            "\n",
            "- **Employee Training and Awareness:**\n",
            "  - **Phishing Simulations:** Conduct regular training to help staff recognize and report phishing attempts effectively.\n",
            "  - **Security Best Practices:** Educate employees on maintaining strong passwords and recognizing suspicious activities.\n",
            "\n",
            "- **Endpoint Protection:**\n",
            "  - **Advanced Threat Protection:** Implement solutions that can detect and block malicious scripts and unauthorized software installations.\n",
            "  - **Limit Use of Administrative Privileges:** Reduce the number of users with admin rights and monitor their activities closely.\n",
            "\n",
            "**Conclusion:** Preventative measures should include **strengthening authentication and access controls**, **enhancing monitoring capabilities**, **regularly addressing security vulnerabilities**, **improving backup strategies**, and **educating employees** to build a robust defense against future attacks.\n",
            "\n",
            "---\n",
            "\n",
            "By systematically addressing each aspect of the incident—from classification and analysis to containment, remediation, and future prevention—the healthcare organization can effectively respond to the current crisis and bolster its defenses against potential future threats.\n"
          ]
        }
      ]
    },
    {
      "cell_type": "code",
      "source": [
        "def query_deepseek(prompt):\n",
        "    # Round 1\n",
        "    messages = [{\"role\": \"user\", \"content\": prompt}]\n",
        "    response = client_deepseek.chat.completions.create(\n",
        "        model=\"deepseek-reasoner\",\n",
        "        messages=messages\n",
        "    )\n",
        "\n",
        "    reasoning_content = response.choices[0].message.reasoning_content\n",
        "    content = response.choices[0].message.content\n",
        "\n",
        "    return reasoning_content, content\n",
        "\n",
        "# Benchmark Scenario Prompt\n",
        "prompt = \"\"\"\n",
        "A healthcare organization discovers that their patient records database is inaccessible. System logs show the following events occurred between 2:00 AM and 4:30 AM:\n",
        "\n",
        "1. Multiple failed login attempts to the VPN using valid usernames but incorrect passwords\n",
        "2. Successful VPN login at 2:17 AM using the credentials of a system administrator who is currently on vacation\n",
        "3. PowerShell commands executed to disable Windows Defender and stop backup services\n",
        "4. Large outbound data transfer (2.3 GB) to an IP address in Eastern Europe\n",
        "5. Creation of new admin account \"backup_svc_admin\"\n",
        "6. Encryption of database files with .locked extension\n",
        "7. A ransom note (readme.txt) demanding payment of 25 Bitcoin for decryption keys\n",
        "\n",
        "Additional Information:\n",
        "- The organization uses multi-factor authentication for VPN access, but the admin had an exception due to frequent travel\n",
        "- Recent phishing emails targeting IT staff were reported but dismissed as low risk\n",
        "- Backups are stored on a network-attached storage device that is always connected\n",
        "- Security audit from last month flagged \"excessive admin privileges\" as a concern\n",
        "\n",
        "Please analyze this scenario and provide the following:\n",
        "1. Incident Classification\n",
        "2. Attack Vector Analysis\n",
        "3. Containment Strategy\n",
        "4. Evidence Preservation\n",
        "5. Remediation Plan\n",
        "6. Future Prevention\n",
        "\n",
        "Provide step-by-step reasoning for each point.\n",
        "\"\"\"\n",
        "\n",
        "# Example usage\n",
        "reasoning_content, content = query_deepseek(prompt)\n",
        "print(\"Reasoning Content:\", reasoning_content)\n",
        "print(\"Final Answer:\", content)\n"
      ],
      "metadata": {
        "colab": {
          "base_uri": "https://localhost:8080/"
        },
        "id": "vFKPhvokyopM",
        "outputId": "37b802ce-46d2-440e-8a42-cb9042968f46"
      },
      "execution_count": 7,
      "outputs": [
        {
          "output_type": "stream",
          "name": "stdout",
          "text": [
            "Reasoning Content: Okay, let's start by trying to figure out how to approach this scenario. The healthcare organization's patient database is inaccessible, and there are several events logged between 2:00 AM and 4:30 AM. I need to classify the incident, analyze the attack vector, come up with containment strategies, evidence preservation steps, a remediation plan, and future prevention measures. \n",
            "\n",
            "First, the incident classification. The database is encrypted with a .locked extension, a ransom note was left, so this looks like ransomware. But there's also a large data transfer to Eastern Europe, which might indicate data exfiltration. So maybe it's a combination of ransomware and a data breach. Ransomware attack with possible data theft?\n",
            "\n",
            "Attack vector analysis. The logs show multiple failed VPN login attempts with valid usernames, then a successful login using a system admin's credentials. The admin was on vacation and had an MFA exception. So the attacker probably phished the admin's credentials, maybe through those reported phishing emails. Once in via VPN, they used PowerShell to disable Defender and backups, then created a new admin account, exfiltrated data, and encrypted files. The attack vector is likely compromised credentials via phishing, exploiting the lack of MFA on that admin account. The VPN was the entry point.\n",
            "\n",
            "Containment strategy. First, isolate the affected systems to prevent spread. Disconnect the NAS that's always connected to prevent backup corruption. Disable the VPN access immediately, especially the compromised admin account and the new \"backup_svc_admin\" account. Block the Eastern European IP at the firewall. Maybe take the database offline. Also, check for other compromised accounts.\n",
            "\n",
            "Evidence preservation. Preserve logs from the VPN, system logs around 2:17 AM, PowerShell command histories, the ransom note, any files related to the new admin account. Memory dumps if possible. Also, the NAS backups might have evidence. Make forensic images of affected systems before attempting recovery.\n",
            "\n",
            "Remediation plan. Need to remove the ransomware, but how? Restore from backups, but since backups were stopped and the NAS is always connected, maybe the backups are encrypted too. If backups are intact, restore after cleaning. Remove the new admin account. Re-enable Windows Defender and update signatures. Reset all admin credentials, enforce MFA for everyone, including admins. Patch any vulnerabilities. Review the excessive privileges mentioned in the audit.\n",
            "\n",
            "Future prevention. Implement MFA for all users, no exceptions. Regular phishing training for staff, especially IT. Network segmentation to protect backups (air-gapped or immutable). Least privilege for admin accounts. Monitor PowerShell usage. Update incident response plans. Maybe invest in better EDR solutions.\n",
            "\n",
            "Wait, the backups were stored on a NAS that's always connected. If the attacker stopped backup services, but the NAS was accessible, maybe the attacker also encrypted the backups. That's a problem. So the organization might not have good backups. That complicates remediation. They might need to look for offline backups or previous versions.\n",
            "\n",
            "Also, the PowerShell commands to disable Defender and backups suggest the attacker wanted to ensure the ransomware could run and that backups were unusable. The data exfiltration might mean double extortion: pay or we leak the data.\n",
            "\n",
            "In the containment phase, they should also check lateral movement. The attacker had admin access, so maybe other systems are compromised. Need to contain the entire network.\n",
            "\n",
            "For evidence, preserving the exact state of the encrypted files and ransom note is crucial for investigation and possibly legal action. Collecting network traffic logs related to the outbound transfer.\n",
            "\n",
            "In remediation, if backups are gone, they might have to negotiate or find other decryption methods, but paying the ransom is risky. They might need to rebuild systems from scratch if no backups exist.\n",
            "\n",
            "Future prevention should address the security audit's concerns about excessive privileges. Implementing least privilege and just-in-time access. Regular audits of user accounts and permissions.\n",
            "\n",
            "Also, considering the phishing emails that were dismissed, better email filtering and user awareness training could prevent credential theft in the future.\n",
            "\n",
            "So putting all this together step by step.\n",
            "Final Answer: ### 1. **Incident Classification**  \n",
            "**Ransomware Attack with Data Exfiltration**  \n",
            "- **Reasoning**:  \n",
            "  - **Ransomware**: Encryption of files (.locked extension) and ransom note confirm ransomware.  \n",
            "  - **Data Exfiltration**: The 2.3 GB outbound transfer to Eastern Europe suggests stolen data (common in \"double extortion\" attacks).  \n",
            "  - **Unauthorized Access**: Use of a compromised admin account and creation of a new admin account indicate a credential-based breach.  \n",
            "\n",
            "---\n",
            "\n",
            "### 2. **Attack Vector Analysis**  \n",
            "**Phishing → Credential Compromise → VPN Access → Privilege Escalation → Ransomware Deployment**  \n",
            "- **Step-by-Step**:  \n",
            "  1. **Initial Access**: Phishing emails targeting IT staff likely harvested the system admin’s credentials. The admin’s MFA exception allowed attackers to bypass multi-factor authentication.  \n",
            "  2. **VPN Compromise**: Successful login at 2:17 AM using the admin’s credentials.  \n",
            "  3. **Lateral Movement/Persistence**: PowerShell commands disabled defenses (Windows Defender) and backups. A new admin account (“backup_svc_admin”) was created for persistence.  \n",
            "  4. **Data Exfiltration & Encryption**: Stolen data was transferred out, followed by file encryption.  \n",
            "\n",
            "---\n",
            "\n",
            "### 3. **Containment Strategy**  \n",
            "**Immediate Actions**:  \n",
            "- **Isolate Systems**: Disconnect infected servers, databases, and the NAS from the network to prevent ransomware spread.  \n",
            "- **Block Network Traffic**: Restrict outbound connections to the Eastern European IP via firewall rules.  \n",
            "- **Disable Compromised Accounts**: Revoke VPN access for the breached admin account and delete “backup_svc_admin”.  \n",
            "- **Temporarily Shut Down VPN**: Prevent further unauthorized access while investigating.  \n",
            "\n",
            "---\n",
            "\n",
            "### 4. **Evidence Preservation**  \n",
            "**Critical Evidence to Collect**:  \n",
            "- **Logs**: VPN logs (failed/successful logins), PowerShell command history, Windows Event logs (2:00–4:30 AM).  \n",
            "- **Network Traffic**: Capture details of the 2.3 GB transfer (source/destination IPs, timestamps).  \n",
            "- **Malware Artifacts**: Ransom note (readme.txt), encrypted files, memory dumps from affected systems.  \n",
            "- **Forensic Imaging**: Create backups of infected systems and the NAS (even if encrypted) for analysis.  \n",
            "\n",
            "---\n",
            "\n",
            "### 5. **Remediation Plan**  \n",
            "**Step-by-Step Recovery**:  \n",
            "1. **Eradicate Malware**: Use antivirus/EDR tools to remove ransomware and close backdoors.  \n",
            "2. **Restore Systems**:  \n",
            "   - If backups are intact (verify NAS backups were not encrypted), restore clean data.  \n",
            "   - If backups are compromised, rebuild systems from offline/immutable backups.  \n",
            "3. **Credential Reset**: Force password resets for all admin accounts and enforce MFA universally.  \n",
            "4. **Patch Vulnerabilities**: Update VPN software, PowerShell configurations, and OS vulnerabilities.  \n",
            "5. **Monitor**: Deploy network traffic analysis to detect residual threats.  \n",
            "\n",
            "---\n",
            "\n",
            "### 6. **Future Prevention**  \n",
            "**Mitigation Strategies**:  \n",
            "- **Eliminate MFA Exceptions**: Enforce MFA for all users, including admins.  \n",
            "- **Phishing Defense**: Regular training for IT staff and advanced email filtering (e.g., DMARC, sandboxing).  \n",
            "- **Backup Hygiene**: Use air-gapped/immutable backups and test restoration weekly.  \n",
            "- **Least Privilege**: Revoke excessive admin rights (as flagged in the audit); use role-based access.  \n",
            "- **PowerShell Restrictions**: Limit PowerShell usage to specific users and log all executions.  \n",
            "- **Network Segmentation**: Isolate critical systems (e.g., databases, backups) from general networks.  \n",
            "\n",
            "**Long-Term**:  \n",
            "- Conduct a post-incident review to update the incident response plan.  \n",
            "- Implement 24/7 threat monitoring and endpoint detection (EDR/XDR).  \n",
            "- Engage third-party cybersecurity firms for penetration testing.  \n",
            "\n",
            "---\n",
            "\n",
            "**Final Notes**: This attack exploited human (phishing) and technical (MFA exception, excessive privileges) weaknesses. Recovery hinges on backup integrity, while future prevention requires layered security and cultural changes (e.g., prioritizing audit findings).\n"
          ]
        }
      ]
    },
    {
      "cell_type": "code",
      "source": [],
      "metadata": {
        "id": "z4ItQRFuzqEW"
      },
      "execution_count": null,
      "outputs": []
    }
  ]
}