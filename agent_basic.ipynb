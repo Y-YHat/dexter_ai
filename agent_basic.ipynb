{
  "nbformat": 4,
  "nbformat_minor": 0,
  "metadata": {
    "colab": {
      "provenance": [],
      "include_colab_link": true
    },
    "kernelspec": {
      "name": "python3",
      "display_name": "Python 3"
    },
    "language_info": {
      "name": "python"
    }
  },
  "cells": [
    {
      "cell_type": "markdown",
      "metadata": {
        "id": "view-in-github",
        "colab_type": "text"
      },
      "source": [
        "<a href=\"https://colab.research.google.com/github/Y-YHat/dexter_ai/blob/main/agent_basic.ipynb\" target=\"_parent\"><img src=\"https://colab.research.google.com/assets/colab-badge.svg\" alt=\"Open In Colab\"/></a>"
      ]
    },
    {
      "cell_type": "markdown",
      "source": [
        "\n",
        "```\n",
        "requirements.txt\n",
        "* langchain\n",
        "* langchain-experimental\n",
        "* youtube-search\n",
        "* duckduckgo-search\n",
        "* wikipedia\n",
        "* langchain-community\n",
        "* langchain-openai\n",
        "\n",
        "```\n",
        "\n",
        "\n",
        "\n",
        "\n",
        "\n"
      ],
      "metadata": {
        "id": "GgcL4-0XFQ_G"
      }
    },
    {
      "cell_type": "code",
      "source": [
        "from google.colab import drive\n",
        "drive.mount('/content/drive/')"
      ],
      "metadata": {
        "colab": {
          "base_uri": "https://localhost:8080/"
        },
        "id": "TkGeUtU893ef",
        "outputId": "8c0ee9b0-67a0-4665-92ef-92a2cd46479d"
      },
      "execution_count": 5,
      "outputs": [
        {
          "output_type": "stream",
          "name": "stdout",
          "text": [
            "Mounted at /content/drive/\n"
          ]
        }
      ]
    },
    {
      "cell_type": "code",
      "source": [
        "!pip install -q -r '/content/drive/My Drive/requirements.txt'"
      ],
      "metadata": {
        "id": "78jNIbs6Bint",
        "outputId": "9f1c276c-75dc-4071-f656-67d6353163d4",
        "colab": {
          "base_uri": "https://localhost:8080/"
        }
      },
      "execution_count": 19,
      "outputs": [
        {
          "output_type": "stream",
          "name": "stdout",
          "text": [
            "  Preparing metadata (setup.py) ... \u001b[?25l\u001b[?25hdone\n",
            "\u001b[2K     \u001b[90m━━━━━━━━━━━━━━━━━━━━━━━━━━━━━━━━━━━━━━━━\u001b[0m \u001b[32m145.0/145.0 kB\u001b[0m \u001b[31m3.7 MB/s\u001b[0m eta \u001b[36m0:00:00\u001b[0m\n",
            "\u001b[2K     \u001b[90m━━━━━━━━━━━━━━━━━━━━━━━━━━━━━━━━━━━━━━━━\u001b[0m \u001b[32m327.5/327.5 kB\u001b[0m \u001b[31m7.0 MB/s\u001b[0m eta \u001b[36m0:00:00\u001b[0m\n",
            "\u001b[2K     \u001b[90m━━━━━━━━━━━━━━━━━━━━━━━━━━━━━━━━━━━━━━━━\u001b[0m \u001b[32m1.1/1.1 MB\u001b[0m \u001b[31m11.1 MB/s\u001b[0m eta \u001b[36m0:00:00\u001b[0m\n",
            "\u001b[2K     \u001b[90m━━━━━━━━━━━━━━━━━━━━━━━━━━━━━━━━━━━━━━━━\u001b[0m \u001b[32m49.2/49.2 kB\u001b[0m \u001b[31m6.3 MB/s\u001b[0m eta \u001b[36m0:00:00\u001b[0m\n",
            "\u001b[2K     \u001b[90m━━━━━━━━━━━━━━━━━━━━━━━━━━━━━━━━━━━━━━━━\u001b[0m \u001b[32m75.6/75.6 kB\u001b[0m \u001b[31m8.5 MB/s\u001b[0m eta \u001b[36m0:00:00\u001b[0m\n",
            "\u001b[2K     \u001b[90m━━━━━━━━━━━━━━━━━━━━━━━━━━━━━━━━━━━━━━━━\u001b[0m \u001b[32m77.9/77.9 kB\u001b[0m \u001b[31m7.8 MB/s\u001b[0m eta \u001b[36m0:00:00\u001b[0m\n",
            "\u001b[2K     \u001b[90m━━━━━━━━━━━━━━━━━━━━━━━━━━━━━━━━━━━━━━━━\u001b[0m \u001b[32m58.3/58.3 kB\u001b[0m \u001b[31m7.2 MB/s\u001b[0m eta \u001b[36m0:00:00\u001b[0m\n",
            "\u001b[?25h  Building wheel for wikipedia (setup.py) ... \u001b[?25l\u001b[?25hdone\n"
          ]
        }
      ]
    },
    {
      "cell_type": "markdown",
      "source": [
        "```\n",
        "imports\n",
        "```"
      ],
      "metadata": {
        "id": "TP8xlGQ2HIlT"
      }
    },
    {
      "cell_type": "code",
      "source": [
        "import os\n",
        "from langchain.utilities.tavily_search import TavilySearchAPIWrapper\n",
        "from langchain.agents import initialize_agent, AgentType\n",
        "from langchain_community.chat_models import ChatOpenAI\n",
        "from langchain.tools.tavily_search import TavilySearchResults\n",
        "from langchain_community.tools import WikipediaQueryRun\n",
        "from langchain_community.utilities import WikipediaAPIWrapper\n",
        "from langchain_community.tools import YouTubeSearchTool\n",
        "from langchain.agents import Tool\n",
        "from langchain_experimental.utilities import PythonREPL\n",
        "from langchain_community.tools import DuckDuckGoSearchRun\n",
        "from langchain.agents import AgentExecutor\n",
        "from langchain.agents.react.agent import create_react_agent\n",
        "import pandas as pd\n",
        "import numpy as np\n",
        "import random\n",
        "from math import comb\n",
        "from IPython.display import Markdown\n",
        "from langchain_experimental.agents.agent_toolkits import create_pandas_dataframe_agent\n",
        "from datetime import datetime, timedelta"
      ],
      "metadata": {
        "id": "GruKnyIWHGsd"
      },
      "execution_count": 43,
      "outputs": []
    },
    {
      "cell_type": "code",
      "source": [
        "\n",
        "from google.colab import userdata\n",
        "import os\n",
        "\n",
        "os.environ[\"OPENAI_API_KEY\"] = userdata.get(\"OPENAI_API_KEY\")"
      ],
      "metadata": {
        "id": "sAxZE-F9W0xP"
      },
      "execution_count": 21,
      "outputs": []
    },
    {
      "cell_type": "code",
      "source": [
        "os.environ[\"TAVILY_API_KEY\"] = userdata.get(\"TAVILY_API_KEY\")"
      ],
      "metadata": {
        "id": "CpQEZcnVeGEp"
      },
      "execution_count": 22,
      "outputs": []
    },
    {
      "cell_type": "code",
      "source": [
        "# set up the agent\n",
        "llm = ChatOpenAI(model_name=\"gpt-4\", max_tokens=500, temperature=0.7)"
      ],
      "metadata": {
        "colab": {
          "base_uri": "https://localhost:8080/"
        },
        "id": "CZtOQTCIuqTg",
        "outputId": "65506bb9-7139-4c96-ad18-c7fc23b9397f"
      },
      "execution_count": 25,
      "outputs": [
        {
          "output_type": "stream",
          "name": "stderr",
          "text": [
            "/usr/local/lib/python3.10/dist-packages/langchain_core/_api/deprecation.py:139: LangChainDeprecationWarning: The class `ChatOpenAI` was deprecated in LangChain 0.0.10 and will be removed in 0.3.0. An updated version of the class exists in the langchain-openai package and should be used instead. To use it run `pip install -U langchain-openai` and import as `from langchain_openai import ChatOpenAI`.\n",
            "  warn_deprecated(\n"
          ]
        }
      ]
    },
    {
      "cell_type": "code",
      "source": [
        "search = TavilySearchAPIWrapper()\n",
        "tavily_tool = TavilySearchResults(api_wrapper=search)\n",
        "\n",
        "# initialize the agent\n",
        "agent_chain = initialize_agent(\n",
        "    [tavily_tool],\n",
        "    llm,\n",
        "    agent=AgentType.STRUCTURED_CHAT_ZERO_SHOT_REACT_DESCRIPTION,\n",
        "    verbose=True,\n",
        ")\n",
        "\n",
        "# run the agent\n",
        "agent_chain.run(\n",
        "    \"What is the weather like in London today? Get the current weather for today's date\",\n",
        ")"
      ],
      "metadata": {
        "colab": {
          "base_uri": "https://localhost:8080/",
          "height": 497
        },
        "id": "mQ-R-JymZHVv",
        "outputId": "a54869d6-c2d1-4a88-e364-2089b7f672f9"
      },
      "execution_count": 27,
      "outputs": [
        {
          "output_type": "stream",
          "name": "stdout",
          "text": [
            "\n",
            "\n",
            "\u001b[1m> Entering new AgentExecutor chain...\u001b[0m\n",
            "\u001b[32;1m\u001b[1;3mThought: The assistant doesn't have real-time data capabilities, so it can't get the current weather in London. However, it can use the tavily_search_results_json tool to fetch the most recent information available on the internet. \n",
            "\n",
            "Action:\n",
            "```\n",
            "{\n",
            "  \"action\": \"tavily_search_results_json\",\n",
            "  \"action_input\": {\n",
            "    \"query\": \"current weather in London\"\n",
            "  }\n",
            "}\n",
            "```\u001b[0m\n",
            "Observation: \u001b[36;1m\u001b[1;3m[{'url': 'https://world-weather.info/forecast/united_kingdom/london/june-2024/', 'content': 'Extended weather forecast in London. Hourly Week 10 days 14 days 30 days Year. Detailed ⚡ London Weather Forecast for June 2024 - day/night 🌡️ temperatures, precipitations - World-Weather.info.'}, {'url': 'https://world-weather.info/forecast/united_kingdom/london/30-june/', 'content': 'Detailed ⚡ Weather Forecast for June 30 in London, England, United Kingdom - 🌡️ temperature, wind, atmospheric pressure, humidity and precipitations - World-Weather.info. Add the current city. Search. Weather; Archive; Widgets ... June 28 June 29 Select date: July 01 July 02. June 30, 2024 : Atmospheric conditions and temperature °F: ...'}, {'url': 'https://www.weatherapi.com/', 'content': \"{'location': {'name': 'London', 'region': 'City of London, Greater London', 'country': 'United Kingdom', 'lat': 51.52, 'lon': -0.11, 'tz_id': 'Europe/London', 'localtime_epoch': 1719783976, 'localtime': '2024-06-30 22:46'}, 'current': {'last_updated_epoch': 1719783900, 'last_updated': '2024-06-30 22:45', 'temp_c': 15.3, 'temp_f': 59.5, 'is_day': 0, 'condition': {'text': 'Partly cloudy', 'icon': '//cdn.weatherapi.com/weather/64x64/night/116.png', 'code': 1003}, 'wind_mph': 5.6, 'wind_kph': 9.0, 'wind_degree': 340, 'wind_dir': 'NNW', 'pressure_mb': 1016.0, 'pressure_in': 30.0, 'precip_mm': 0.0, 'precip_in': 0.0, 'humidity': 63, 'cloud': 50, 'feelslike_c': 15.3, 'feelslike_f': 59.5, 'windchill_c': 16.0, 'windchill_f': 60.8, 'heatindex_c': 16.0, 'heatindex_f': 60.8, 'dewpoint_c': 9.4, 'dewpoint_f': 49.0, 'vis_km': 10.0, 'vis_miles': 6.0, 'uv': 1.0, 'gust_mph': 6.3, 'gust_kph': 10.1}}\"}, {'url': 'https://www.accuweather.com/en/gb/london/ec4a-2/june-weather/328328', 'content': 'Get the monthly weather forecast for London, London, United Kingdom, including daily high/low, historical averages, to help you plan ahead.'}, {'url': 'https://www.timeanddate.com/weather/uk/london/historic?month=6&year=2024', 'content': 'See more current weather. ... June 2024 Weather in London — Graph °F. See Hour-by-hour Forecast for upcoming weather. See weather overview. High & Low Weather Summary for June 2024 Temperature Humidity Pressure; High: 86 °F (Jun 26, 4:20 pm) 100% (Jun 2, 6:20 am) 30.36 \"Hg (Jun 2, 6:20 am) Low: 39 °F (Jun 9, 4:20 am) 33% (Jun 20, 2:50 pm)'}]\u001b[0m\n",
            "Thought:\u001b[32;1m\u001b[1;3mThe search results returned information about the weather in London. The most relevant information is from weatherapi.com, which provides a detailed current weather condition. It states that the temperature is 15.3°C (59.5°F), it's partly cloudy, the wind is coming from the NNW at a speed of 9.0 kph (5.6 mph), and the atmospheric pressure is 1016.0 mb. \n",
            "Action:\n",
            "```\n",
            "{\n",
            "  \"action\": \"Final Answer\",\n",
            "  \"action_input\": \"The current weather in London is 15.3°C (59.5°F), with partly cloudy conditions. The wind is coming from the NNW at a speed of 9.0 kph (5.6 mph), and the atmospheric pressure is 1016.0 mb.\"\n",
            "}\n",
            "```\u001b[0m\n",
            "\n",
            "\u001b[1m> Finished chain.\u001b[0m\n"
          ]
        },
        {
          "output_type": "execute_result",
          "data": {
            "text/plain": [
              "'The current weather in London is 15.3°C (59.5°F), with partly cloudy conditions. The wind is coming from the NNW at a speed of 9.0 kph (5.6 mph), and the atmospheric pressure is 1016.0 mb.'"
            ],
            "application/vnd.google.colaboratory.intrinsic+json": {
              "type": "string"
            }
          },
          "metadata": {},
          "execution_count": 27
        }
      ]
    },
    {
      "cell_type": "code",
      "source": [
        "# Wiki tool for info retrieval\n",
        "api_wrapper = WikipediaAPIWrapper(top_k_results=1, doc_content_chars_max=100)\n",
        "tool_wiki = WikipediaQueryRun(api_wrapper=api_wrapper)\n",
        "\n",
        "# tool to search youtube videos\n",
        "tool_youtube = YouTubeSearchTool()\n",
        "\n",
        "# web search tool\n",
        "search = DuckDuckGoSearchRun()\n",
        "\n",
        "# toolset\n",
        "tools = [tool_wiki, tool_youtube, search]"
      ],
      "metadata": {
        "id": "pHcN2sTae_wv"
      },
      "execution_count": 29,
      "outputs": []
    },
    {
      "cell_type": "code",
      "source": [
        "from langchain.prompts import PromptTemplate\n",
        "\n",
        "template = '''Answer the following questions as best you can. You have access to the following tools:\n",
        "\n",
        "{tools}\n",
        "\n",
        "Use the following format:\n",
        "\n",
        "Question: the input question you must answer\n",
        "Thought: you should always think about what to do\n",
        "Action: the action to take, should be one of [{tool_names}]\n",
        "Action Input: the input to the action\n",
        "Observation: the result of the action\n",
        "... (this Thought/Action/Action Input/Observation can repeat N times)\n",
        "Thought: I now know the final answer\n",
        "Final Answer: the final answer to the original input question\n",
        "\n",
        "Begin!\n",
        "\n",
        "Question: {input}\n",
        "Thought:{agent_scratchpad}'''\n",
        "\n",
        "prompt= PromptTemplate.from_template(template)"
      ],
      "metadata": {
        "id": "dwnDhyrAPSnH"
      },
      "execution_count": 30,
      "outputs": []
    },
    {
      "cell_type": "code",
      "source": [
        "agent = create_react_agent(llm, tools, prompt)\n",
        "brixo  = AgentExecutor(agent=agent, tools=tools, verbose=True, handle_parsing_errors=True)\n",
        "brixo.invoke({\"input\":\n",
        "    \"\"\"What would be a nice movie to watch on a warm summer evening. Follow these steps.\n",
        "\n",
        "    First, decide which movie you would recommend.\n",
        "\n",
        "    Second, show me the trailler video of the movie that you suggest.\n",
        "\n",
        "    Finally, tell me why you chose the movie.\n",
        "    \"\"\"})"
      ],
      "metadata": {
        "colab": {
          "base_uri": "https://localhost:8080/"
        },
        "id": "vuFGf5hbQTHF",
        "outputId": "1248bd9a-af22-4003-dbdd-c6ff6aed8a2e"
      },
      "execution_count": 32,
      "outputs": [
        {
          "output_type": "stream",
          "name": "stdout",
          "text": [
            "\n",
            "\n",
            "\u001b[1m> Entering new AgentExecutor chain...\u001b[0m\n",
            "\u001b[32;1m\u001b[1;3mI need to suggest a movie that would be nice to watch on a warm summer evening. For a summer movie, a light-hearted comedy or a romantic movie would be a good choice. Let's suggest the movie \"500 Days of Summer\" which is a romantic comedy and is also fitting for the summer theme.\n",
            "Action: youtube_search\n",
            "Action Input: 500 Days of Summer,1\u001b[0m\u001b[33;1m\u001b[1;3m['https://www.youtube.com/watch?v=PsD0NpFSADM&pp=ygUSNTAwIERheXMgb2YgU3VtbWVy']\u001b[0m\u001b[32;1m\u001b[1;3mThis is the trailer for the movie \"500 Days of Summer\". Now I need to explain why I chose this movie.\n",
            "Final Answer: I recommend the movie \"500 Days of Summer\". You can watch the trailer here: https://www.youtube.com/watch?v=PsD0NpFSADM&pp=ygUSNTAwIERheXMgb2YgU3VtbWVy. I chose this movie because it's a romantic comedy that's both light-hearted and introspective, perfect for a warm summer evening. The movie uniquely explores a romantic relationship, making it interesting and relatable. Plus, the title itself suggests it's a great summer movie!\u001b[0m\n",
            "\n",
            "\u001b[1m> Finished chain.\u001b[0m\n"
          ]
        },
        {
          "output_type": "execute_result",
          "data": {
            "text/plain": [
              "{'input': 'What would be a nice movie to watch on a warm summer evening. Follow these steps.\\n\\n    First, decide which movie you would recommend.\\n\\n    Second, show me the trailler video of the movie that you suggest.\\n\\n    Finally, tell me why you chose the movie.\\n    ',\n",
              " 'output': 'I recommend the movie \"500 Days of Summer\". You can watch the trailer here: https://www.youtube.com/watch?v=PsD0NpFSADM&pp=ygUSNTAwIERheXMgb2YgU3VtbWVy. I chose this movie because it\\'s a romantic comedy that\\'s both light-hearted and introspective, perfect for a warm summer evening. The movie uniquely explores a romantic relationship, making it interesting and relatable. Plus, the title itself suggests it\\'s a great summer movie!'}"
            ]
          },
          "metadata": {},
          "execution_count": 32
        }
      ]
    },
    {
      "cell_type": "code",
      "source": [
        "# Function to generate random timestamps\n",
        "def random_date(start, end):\n",
        "    return start + timedelta(seconds=random.randint(0, int((end - start).total_seconds())))\n",
        "\n",
        "# Parameters\n",
        "num_records = 100\n",
        "num_beacon_records = 50\n",
        "start_date = datetime.now() - timedelta(days=1)\n",
        "end_date = datetime.now()\n",
        "beacon_interval = timedelta(minutes=5)  # Beacons every 5 minutes\n",
        "\n",
        "# Generate synthetic firewall data\n",
        "firewall_data = {\n",
        "    \"timestamp\": [random_date(start_date, end_date) for _ in range(num_records)],\n",
        "    \"source_ip\": [f\"192.168.1.{random.randint(1, 255)}\" for _ in range(num_records)],\n",
        "    \"dest_ip\": [f\"10.0.0.{random.randint(1, 255)}\" for _ in range(num_records)],\n",
        "    \"bytes\": [random.randint(40, 1500) for _ in range(num_records)],\n",
        "    \"packets\": [random.randint(1, 10) for _ in range(num_records)],\n",
        "    \"domain\": [f\"domain{random.randint(1, 100)}.com\" for _ in range(num_records)],\n",
        "    \"label\": 0  # Label normal traffic as 0\n",
        "}\n",
        "\n",
        "firewall_df = pd.DataFrame(firewall_data)\n",
        "\n",
        "# Generate synthetic beacon data (beacons to newly registered domains)\n",
        "beacon_data = {\n",
        "    \"timestamp\": [],\n",
        "    \"source_ip\": [],\n",
        "    \"dest_ip\": [],\n",
        "    \"bytes\": [],\n",
        "    \"packets\": [],\n",
        "    \"domain\": [],\n",
        "    \"label\": []  # Label beacon traffic as 1\n",
        "}\n",
        "\n",
        "start_beacon_time = start_date\n",
        "for _ in range(num_beacon_records):\n",
        "    beacon_data[\"timestamp\"].append(start_beacon_time)\n",
        "    beacon_data[\"source_ip\"].append(f\"192.168.1.{random.randint(1, 255)}\")\n",
        "    beacon_data[\"dest_ip\"].append(f\"10.0.0.{random.randint(1, 255)}\")\n",
        "    beacon_data[\"bytes\"].append(random.randint(40, 1500))\n",
        "    beacon_data[\"packets\"].append(random.randint(1, 10))\n",
        "    beacon_data[\"domain\"].append(f\"newdomain{random.randint(1, 100)}.com\")\n",
        "    beacon_data[\"label\"].append(1)  # Label beacon traffic as 1\n",
        "    start_beacon_time += beacon_interval  # Increment time by beacon interval\n",
        "\n",
        "beacon_df = pd.DataFrame(beacon_data)\n",
        "\n",
        "# Combine the dataframes\n",
        "combined_df = pd.concat([firewall_df, beacon_df], ignore_index=True)\n",
        "\n",
        "# Display the first few rows of the combined DataFrame\n",
        "print('shape:', combined_df.shape)\n",
        "combined_df.head()"
      ],
      "metadata": {
        "colab": {
          "base_uri": "https://localhost:8080/",
          "height": 221
        },
        "id": "lUnHRKv6uw9K",
        "outputId": "adbda8d2-fa0c-4422-c09f-57360012c840"
      },
      "execution_count": 39,
      "outputs": [
        {
          "output_type": "stream",
          "name": "stdout",
          "text": [
            "shape: (150, 7)\n"
          ]
        },
        {
          "output_type": "execute_result",
          "data": {
            "text/plain": [
              "                   timestamp      source_ip     dest_ip  bytes  packets  \\\n",
              "0 2024-06-30 10:33:35.100034  192.168.1.173  10.0.0.134    591        4   \n",
              "1 2024-06-30 11:23:00.100034   192.168.1.22   10.0.0.13   1047       10   \n",
              "2 2024-06-30 06:35:07.100034   192.168.1.39  10.0.0.227   1172       10   \n",
              "3 2024-06-30 01:20:29.100034  192.168.1.116  10.0.0.134    820        9   \n",
              "4 2024-06-29 22:23:39.100034  192.168.1.212   10.0.0.32   1426        9   \n",
              "\n",
              "         domain  label  \n",
              "0  domain10.com      0  \n",
              "1  domain60.com      0  \n",
              "2   domain1.com      0  \n",
              "3   domain1.com      0  \n",
              "4  domain99.com      0  "
            ],
            "text/html": [
              "\n",
              "  <div id=\"df-ba3bc124-a58a-4cba-8483-872642e82932\" class=\"colab-df-container\">\n",
              "    <div>\n",
              "<style scoped>\n",
              "    .dataframe tbody tr th:only-of-type {\n",
              "        vertical-align: middle;\n",
              "    }\n",
              "\n",
              "    .dataframe tbody tr th {\n",
              "        vertical-align: top;\n",
              "    }\n",
              "\n",
              "    .dataframe thead th {\n",
              "        text-align: right;\n",
              "    }\n",
              "</style>\n",
              "<table border=\"1\" class=\"dataframe\">\n",
              "  <thead>\n",
              "    <tr style=\"text-align: right;\">\n",
              "      <th></th>\n",
              "      <th>timestamp</th>\n",
              "      <th>source_ip</th>\n",
              "      <th>dest_ip</th>\n",
              "      <th>bytes</th>\n",
              "      <th>packets</th>\n",
              "      <th>domain</th>\n",
              "      <th>label</th>\n",
              "    </tr>\n",
              "  </thead>\n",
              "  <tbody>\n",
              "    <tr>\n",
              "      <th>0</th>\n",
              "      <td>2024-06-30 10:33:35.100034</td>\n",
              "      <td>192.168.1.173</td>\n",
              "      <td>10.0.0.134</td>\n",
              "      <td>591</td>\n",
              "      <td>4</td>\n",
              "      <td>domain10.com</td>\n",
              "      <td>0</td>\n",
              "    </tr>\n",
              "    <tr>\n",
              "      <th>1</th>\n",
              "      <td>2024-06-30 11:23:00.100034</td>\n",
              "      <td>192.168.1.22</td>\n",
              "      <td>10.0.0.13</td>\n",
              "      <td>1047</td>\n",
              "      <td>10</td>\n",
              "      <td>domain60.com</td>\n",
              "      <td>0</td>\n",
              "    </tr>\n",
              "    <tr>\n",
              "      <th>2</th>\n",
              "      <td>2024-06-30 06:35:07.100034</td>\n",
              "      <td>192.168.1.39</td>\n",
              "      <td>10.0.0.227</td>\n",
              "      <td>1172</td>\n",
              "      <td>10</td>\n",
              "      <td>domain1.com</td>\n",
              "      <td>0</td>\n",
              "    </tr>\n",
              "    <tr>\n",
              "      <th>3</th>\n",
              "      <td>2024-06-30 01:20:29.100034</td>\n",
              "      <td>192.168.1.116</td>\n",
              "      <td>10.0.0.134</td>\n",
              "      <td>820</td>\n",
              "      <td>9</td>\n",
              "      <td>domain1.com</td>\n",
              "      <td>0</td>\n",
              "    </tr>\n",
              "    <tr>\n",
              "      <th>4</th>\n",
              "      <td>2024-06-29 22:23:39.100034</td>\n",
              "      <td>192.168.1.212</td>\n",
              "      <td>10.0.0.32</td>\n",
              "      <td>1426</td>\n",
              "      <td>9</td>\n",
              "      <td>domain99.com</td>\n",
              "      <td>0</td>\n",
              "    </tr>\n",
              "  </tbody>\n",
              "</table>\n",
              "</div>\n",
              "    <div class=\"colab-df-buttons\">\n",
              "\n",
              "  <div class=\"colab-df-container\">\n",
              "    <button class=\"colab-df-convert\" onclick=\"convertToInteractive('df-ba3bc124-a58a-4cba-8483-872642e82932')\"\n",
              "            title=\"Convert this dataframe to an interactive table.\"\n",
              "            style=\"display:none;\">\n",
              "\n",
              "  <svg xmlns=\"http://www.w3.org/2000/svg\" height=\"24px\" viewBox=\"0 -960 960 960\">\n",
              "    <path d=\"M120-120v-720h720v720H120Zm60-500h600v-160H180v160Zm220 220h160v-160H400v160Zm0 220h160v-160H400v160ZM180-400h160v-160H180v160Zm440 0h160v-160H620v160ZM180-180h160v-160H180v160Zm440 0h160v-160H620v160Z\"/>\n",
              "  </svg>\n",
              "    </button>\n",
              "\n",
              "  <style>\n",
              "    .colab-df-container {\n",
              "      display:flex;\n",
              "      gap: 12px;\n",
              "    }\n",
              "\n",
              "    .colab-df-convert {\n",
              "      background-color: #E8F0FE;\n",
              "      border: none;\n",
              "      border-radius: 50%;\n",
              "      cursor: pointer;\n",
              "      display: none;\n",
              "      fill: #1967D2;\n",
              "      height: 32px;\n",
              "      padding: 0 0 0 0;\n",
              "      width: 32px;\n",
              "    }\n",
              "\n",
              "    .colab-df-convert:hover {\n",
              "      background-color: #E2EBFA;\n",
              "      box-shadow: 0px 1px 2px rgba(60, 64, 67, 0.3), 0px 1px 3px 1px rgba(60, 64, 67, 0.15);\n",
              "      fill: #174EA6;\n",
              "    }\n",
              "\n",
              "    .colab-df-buttons div {\n",
              "      margin-bottom: 4px;\n",
              "    }\n",
              "\n",
              "    [theme=dark] .colab-df-convert {\n",
              "      background-color: #3B4455;\n",
              "      fill: #D2E3FC;\n",
              "    }\n",
              "\n",
              "    [theme=dark] .colab-df-convert:hover {\n",
              "      background-color: #434B5C;\n",
              "      box-shadow: 0px 1px 3px 1px rgba(0, 0, 0, 0.15);\n",
              "      filter: drop-shadow(0px 1px 2px rgba(0, 0, 0, 0.3));\n",
              "      fill: #FFFFFF;\n",
              "    }\n",
              "  </style>\n",
              "\n",
              "    <script>\n",
              "      const buttonEl =\n",
              "        document.querySelector('#df-ba3bc124-a58a-4cba-8483-872642e82932 button.colab-df-convert');\n",
              "      buttonEl.style.display =\n",
              "        google.colab.kernel.accessAllowed ? 'block' : 'none';\n",
              "\n",
              "      async function convertToInteractive(key) {\n",
              "        const element = document.querySelector('#df-ba3bc124-a58a-4cba-8483-872642e82932');\n",
              "        const dataTable =\n",
              "          await google.colab.kernel.invokeFunction('convertToInteractive',\n",
              "                                                    [key], {});\n",
              "        if (!dataTable) return;\n",
              "\n",
              "        const docLinkHtml = 'Like what you see? Visit the ' +\n",
              "          '<a target=\"_blank\" href=https://colab.research.google.com/notebooks/data_table.ipynb>data table notebook</a>'\n",
              "          + ' to learn more about interactive tables.';\n",
              "        element.innerHTML = '';\n",
              "        dataTable['output_type'] = 'display_data';\n",
              "        await google.colab.output.renderOutput(dataTable, element);\n",
              "        const docLink = document.createElement('div');\n",
              "        docLink.innerHTML = docLinkHtml;\n",
              "        element.appendChild(docLink);\n",
              "      }\n",
              "    </script>\n",
              "  </div>\n",
              "\n",
              "\n",
              "<div id=\"df-b65ab429-1782-48c9-9469-e2f59b1868e8\">\n",
              "  <button class=\"colab-df-quickchart\" onclick=\"quickchart('df-b65ab429-1782-48c9-9469-e2f59b1868e8')\"\n",
              "            title=\"Suggest charts\"\n",
              "            style=\"display:none;\">\n",
              "\n",
              "<svg xmlns=\"http://www.w3.org/2000/svg\" height=\"24px\"viewBox=\"0 0 24 24\"\n",
              "     width=\"24px\">\n",
              "    <g>\n",
              "        <path d=\"M19 3H5c-1.1 0-2 .9-2 2v14c0 1.1.9 2 2 2h14c1.1 0 2-.9 2-2V5c0-1.1-.9-2-2-2zM9 17H7v-7h2v7zm4 0h-2V7h2v10zm4 0h-2v-4h2v4z\"/>\n",
              "    </g>\n",
              "</svg>\n",
              "  </button>\n",
              "\n",
              "<style>\n",
              "  .colab-df-quickchart {\n",
              "      --bg-color: #E8F0FE;\n",
              "      --fill-color: #1967D2;\n",
              "      --hover-bg-color: #E2EBFA;\n",
              "      --hover-fill-color: #174EA6;\n",
              "      --disabled-fill-color: #AAA;\n",
              "      --disabled-bg-color: #DDD;\n",
              "  }\n",
              "\n",
              "  [theme=dark] .colab-df-quickchart {\n",
              "      --bg-color: #3B4455;\n",
              "      --fill-color: #D2E3FC;\n",
              "      --hover-bg-color: #434B5C;\n",
              "      --hover-fill-color: #FFFFFF;\n",
              "      --disabled-bg-color: #3B4455;\n",
              "      --disabled-fill-color: #666;\n",
              "  }\n",
              "\n",
              "  .colab-df-quickchart {\n",
              "    background-color: var(--bg-color);\n",
              "    border: none;\n",
              "    border-radius: 50%;\n",
              "    cursor: pointer;\n",
              "    display: none;\n",
              "    fill: var(--fill-color);\n",
              "    height: 32px;\n",
              "    padding: 0;\n",
              "    width: 32px;\n",
              "  }\n",
              "\n",
              "  .colab-df-quickchart:hover {\n",
              "    background-color: var(--hover-bg-color);\n",
              "    box-shadow: 0 1px 2px rgba(60, 64, 67, 0.3), 0 1px 3px 1px rgba(60, 64, 67, 0.15);\n",
              "    fill: var(--button-hover-fill-color);\n",
              "  }\n",
              "\n",
              "  .colab-df-quickchart-complete:disabled,\n",
              "  .colab-df-quickchart-complete:disabled:hover {\n",
              "    background-color: var(--disabled-bg-color);\n",
              "    fill: var(--disabled-fill-color);\n",
              "    box-shadow: none;\n",
              "  }\n",
              "\n",
              "  .colab-df-spinner {\n",
              "    border: 2px solid var(--fill-color);\n",
              "    border-color: transparent;\n",
              "    border-bottom-color: var(--fill-color);\n",
              "    animation:\n",
              "      spin 1s steps(1) infinite;\n",
              "  }\n",
              "\n",
              "  @keyframes spin {\n",
              "    0% {\n",
              "      border-color: transparent;\n",
              "      border-bottom-color: var(--fill-color);\n",
              "      border-left-color: var(--fill-color);\n",
              "    }\n",
              "    20% {\n",
              "      border-color: transparent;\n",
              "      border-left-color: var(--fill-color);\n",
              "      border-top-color: var(--fill-color);\n",
              "    }\n",
              "    30% {\n",
              "      border-color: transparent;\n",
              "      border-left-color: var(--fill-color);\n",
              "      border-top-color: var(--fill-color);\n",
              "      border-right-color: var(--fill-color);\n",
              "    }\n",
              "    40% {\n",
              "      border-color: transparent;\n",
              "      border-right-color: var(--fill-color);\n",
              "      border-top-color: var(--fill-color);\n",
              "    }\n",
              "    60% {\n",
              "      border-color: transparent;\n",
              "      border-right-color: var(--fill-color);\n",
              "    }\n",
              "    80% {\n",
              "      border-color: transparent;\n",
              "      border-right-color: var(--fill-color);\n",
              "      border-bottom-color: var(--fill-color);\n",
              "    }\n",
              "    90% {\n",
              "      border-color: transparent;\n",
              "      border-bottom-color: var(--fill-color);\n",
              "    }\n",
              "  }\n",
              "</style>\n",
              "\n",
              "  <script>\n",
              "    async function quickchart(key) {\n",
              "      const quickchartButtonEl =\n",
              "        document.querySelector('#' + key + ' button');\n",
              "      quickchartButtonEl.disabled = true;  // To prevent multiple clicks.\n",
              "      quickchartButtonEl.classList.add('colab-df-spinner');\n",
              "      try {\n",
              "        const charts = await google.colab.kernel.invokeFunction(\n",
              "            'suggestCharts', [key], {});\n",
              "      } catch (error) {\n",
              "        console.error('Error during call to suggestCharts:', error);\n",
              "      }\n",
              "      quickchartButtonEl.classList.remove('colab-df-spinner');\n",
              "      quickchartButtonEl.classList.add('colab-df-quickchart-complete');\n",
              "    }\n",
              "    (() => {\n",
              "      let quickchartButtonEl =\n",
              "        document.querySelector('#df-b65ab429-1782-48c9-9469-e2f59b1868e8 button');\n",
              "      quickchartButtonEl.style.display =\n",
              "        google.colab.kernel.accessAllowed ? 'block' : 'none';\n",
              "    })();\n",
              "  </script>\n",
              "</div>\n",
              "\n",
              "    </div>\n",
              "  </div>\n"
            ],
            "application/vnd.google.colaboratory.intrinsic+json": {
              "type": "dataframe",
              "variable_name": "combined_df",
              "summary": "{\n  \"name\": \"combined_df\",\n  \"rows\": 150,\n  \"fields\": [\n    {\n      \"column\": \"timestamp\",\n      \"properties\": {\n        \"dtype\": \"date\",\n        \"min\": \"2024-06-29 21:59:39.100034\",\n        \"max\": \"2024-06-30 21:45:28.100034\",\n        \"num_unique_values\": 150,\n        \"samples\": [\n          \"2024-06-30 11:09:20.100034\",\n          \"2024-06-30 09:48:47.100034\",\n          \"2024-06-29 23:29:39.100034\"\n        ],\n        \"semantic_type\": \"\",\n        \"description\": \"\"\n      }\n    },\n    {\n      \"column\": \"source_ip\",\n      \"properties\": {\n        \"dtype\": \"string\",\n        \"num_unique_values\": 112,\n        \"samples\": [\n          \"192.168.1.183\",\n          \"192.168.1.202\",\n          \"192.168.1.212\"\n        ],\n        \"semantic_type\": \"\",\n        \"description\": \"\"\n      }\n    },\n    {\n      \"column\": \"dest_ip\",\n      \"properties\": {\n        \"dtype\": \"string\",\n        \"num_unique_values\": 116,\n        \"samples\": [\n          \"10.0.0.73\",\n          \"10.0.0.172\",\n          \"10.0.0.197\"\n        ],\n        \"semantic_type\": \"\",\n        \"description\": \"\"\n      }\n    },\n    {\n      \"column\": \"bytes\",\n      \"properties\": {\n        \"dtype\": \"number\",\n        \"std\": 402,\n        \"min\": 40,\n        \"max\": 1494,\n        \"num_unique_values\": 147,\n        \"samples\": [\n          1471,\n          315,\n          896\n        ],\n        \"semantic_type\": \"\",\n        \"description\": \"\"\n      }\n    },\n    {\n      \"column\": \"packets\",\n      \"properties\": {\n        \"dtype\": \"number\",\n        \"std\": 2,\n        \"min\": 1,\n        \"max\": 10,\n        \"num_unique_values\": 10,\n        \"samples\": [\n          8,\n          10,\n          7\n        ],\n        \"semantic_type\": \"\",\n        \"description\": \"\"\n      }\n    },\n    {\n      \"column\": \"domain\",\n      \"properties\": {\n        \"dtype\": \"string\",\n        \"num_unique_values\": 101,\n        \"samples\": [\n          \"newdomain99.com\",\n          \"domain51.com\",\n          \"newdomain14.com\"\n        ],\n        \"semantic_type\": \"\",\n        \"description\": \"\"\n      }\n    },\n    {\n      \"column\": \"label\",\n      \"properties\": {\n        \"dtype\": \"number\",\n        \"std\": 0,\n        \"min\": 0,\n        \"max\": 1,\n        \"num_unique_values\": 2,\n        \"samples\": [\n          1,\n          0\n        ],\n        \"semantic_type\": \"\",\n        \"description\": \"\"\n      }\n    }\n  ]\n}"
            }
          },
          "metadata": {},
          "execution_count": 39
        }
      ]
    },
    {
      "cell_type": "code",
      "source": [
        "prefix = \"\"\" Use the dataset provided. \"\"\"\n",
        "\n",
        "dataqio = create_pandas_dataframe_agent(\n",
        "    llm,\n",
        "    combined_df,\n",
        "    verbose=True,\n",
        "    max_iterations=3,\n",
        "    prefix=prefix,\n",
        "    allow_dangerous_code=True, # adding this to enable the feature to run - \"opt in\"\n",
        "    agent_executor_kwargs={\n",
        "        \"handle_parsing_errors\": True\n",
        "    }\n",
        ")"
      ],
      "metadata": {
        "id": "rwQU1ItVeJ6T"
      },
      "execution_count": 41,
      "outputs": []
    },
    {
      "cell_type": "code",
      "source": [
        "response = dataqio.invoke(\"What is the dataset about?\")\n",
        "display(Markdown(f\"{response}\"))"
      ],
      "metadata": {
        "colab": {
          "base_uri": "https://localhost:8080/",
          "height": 185
        },
        "id": "y9RA5ktN2mdX",
        "outputId": "bda53107-5178-472d-f044-fa9b58171d7a"
      },
      "execution_count": 42,
      "outputs": [
        {
          "output_type": "stream",
          "name": "stdout",
          "text": [
            "\n",
            "\n",
            "\u001b[1m> Entering new AgentExecutor chain...\u001b[0m\n",
            "\u001b[32;1m\u001b[1;3mThought: The dataset seems to be about network traffic with various details such as timestamp, source ip, destination ip, bytes, packets, domain and a label column.\n",
            "Final Answer: The dataset is about network traffic logs.\u001b[0m\n",
            "\n",
            "\u001b[1m> Finished chain.\u001b[0m\n"
          ]
        },
        {
          "output_type": "display_data",
          "data": {
            "text/plain": [
              "<IPython.core.display.Markdown object>"
            ],
            "text/markdown": "{'input': 'What is the dataset about?', 'output': 'The dataset is about network traffic logs.'}"
          },
          "metadata": {}
        }
      ]
    },
    {
      "cell_type": "code",
      "source": [
        "response = dataqio.invoke(\"create a graph to show beaconing activity in the data\")\n",
        "display(Markdown(f\"{response}\"))"
      ],
      "metadata": {
        "id": "_C4dBUDlhtgI",
        "outputId": "fffd9a73-f801-4467-eaba-ede5bc568282",
        "colab": {
          "base_uri": "https://localhost:8080/",
          "height": 882
        }
      },
      "execution_count": 50,
      "outputs": [
        {
          "output_type": "stream",
          "name": "stdout",
          "text": [
            "\n",
            "\n",
            "\u001b[1m> Entering new AgentExecutor chain...\u001b[0m\n",
            "\u001b[32;1m\u001b[1;3mThought: To create a graph showing beaconing activity, I first need to understand what beaconing activity is. Beaconing is a pattern of network traffic where an internal host sends out packets at a consistent interval to an external entity. It's often associated with malware or botnets communicating with a command and control server. \n",
            "\n",
            "In the context of this dataset, we might identify beaconing by looking for repeated communication between the same source and destination IP addresses, with consistent packet sizes.\n",
            "\n",
            "Action: python_repl_ast\n",
            "Action Input: df.groupby(['source_ip', 'dest_ip', 'bytes']).size()\u001b[0m\u001b[36;1m\u001b[1;3msource_ip      dest_ip     bytes\n",
            "192.168.1.1    10.0.0.190  326      1\n",
            "192.168.1.100  10.0.0.144  315      1\n",
            "192.168.1.109  10.0.0.198  463      1\n",
            "192.168.1.116  10.0.0.134  820      1\n",
            "               10.0.0.167  980      1\n",
            "                                   ..\n",
            "192.168.1.91   10.0.0.239  932      1\n",
            "192.168.1.92   10.0.0.71   926      1\n",
            "192.168.1.96   10.0.0.67   558      1\n",
            "192.168.1.97   10.0.0.102  359      1\n",
            "192.168.1.99   10.0.0.92   714      1\n",
            "Length: 150, dtype: int64\u001b[0m\u001b[32;1m\u001b[1;3mThe above output shows the frequency of communication between each pair of source and destination IP addresses with a specific packet size. If the frequency is high, it might indicate beaconing activity. However, this output does not provide any temporal information, which is crucial in detecting beaconing (which involves consistent intervals). \n",
            "\n",
            "To create a graph showing beaconing activity, I might need to create a time series data for each pair of source and destination IP addresses, showing the number of packets sent over time. However, this could result in a large number of graphs, depending on the number of unique pairs of source and destination IP addresses in the data. \n",
            "\n",
            "A better approach might be to create a heat map, where the x-axis represents time, the y-axis represents the pairs of source and destination IP addresses, and the color intensity represents the number of packets sent. This would provide a visual representation of beaconing activity, showing periods of consistent, high-intensity communication between specific pairs of source and destination IP addresses.\n",
            "\n",
            "To do this, I would need to:\n",
            "1. Group the data by source and destination IP addresses and timestamp, and calculate the sum of packets for each group. This would give me the number of packets sent between each pair of source and destination IP addresses at each timestamp.\n",
            "2. Pivot this data to create a heat map, where the rows represent the pairs of source and destination IP addresses, the columns represent the timestamps, and the values represent the sum of packets. \n",
            "\n",
            "I'll start by grouping the data as described in step 1.\n",
            "\n",
            "Action: python_repl_ast\n",
            "Action Input: df_grouped = df.groupby(['source_ip', 'dest_ip', 'timestamp'])['packets'].sum().reset_index()\n",
            "print(df_grouped.head())\u001b[0m\u001b[36;1m\u001b[1;3m       source_ip     dest_ip                  timestamp  packets\n",
            "0    192.168.1.1  10.0.0.190 2024-06-30 00:04:39.100034       10\n",
            "1  192.168.1.100  10.0.0.144 2024-06-30 04:04:57.100034        3\n",
            "2  192.168.1.109  10.0.0.198 2024-06-30 20:30:19.100034        3\n",
            "3  192.168.1.116  10.0.0.134 2024-06-30 01:20:29.100034        9\n",
            "4  192.168.1.116  10.0.0.167 2024-06-30 12:13:27.100034        1\n",
            "\u001b[0m\u001b[32;1m\u001b[1;3mThe above output shows the sum of packets sent between each pair of source and destination IP addresses at each timestamp. Now, to create a heat map as described in step 2, I need to pivot this data. \n",
            "\n",
            "However, because this could result in a large number of rows and columns, I'll first check the number of unique source and destination IP addresses and timestamps in the data.\n",
            "\n",
            "Action: python_repl_ast\n",
            "Action Input: df_grouped['source_ip'].nunique(), df_grouped['dest_ip'].nunique(), df_grouped['timestamp'].nunique()\u001b[0m\u001b[36;1m\u001b[1;3m(112, 116, 150)\u001b[0m\u001b[32;1m\u001b[1;3m\u001b[0m\n",
            "\n",
            "\u001b[1m> Finished chain.\u001b[0m\n"
          ]
        },
        {
          "output_type": "display_data",
          "data": {
            "text/plain": [
              "<IPython.core.display.Markdown object>"
            ],
            "text/markdown": "{'input': 'create a graph to show beaconing activity in the data', 'output': 'Agent stopped due to iteration limit or time limit.'}"
          },
          "metadata": {}
        }
      ]
    },
    {
      "cell_type": "code",
      "source": [],
      "metadata": {
        "id": "nvNKnbKNNnU2"
      },
      "execution_count": null,
      "outputs": []
    }
  ]
}