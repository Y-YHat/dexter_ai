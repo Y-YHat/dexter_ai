{
  "nbformat": 4,
  "nbformat_minor": 0,
  "metadata": {
    "colab": {
      "provenance": [],
      "include_colab_link": true
    },
    "kernelspec": {
      "name": "python3",
      "display_name": "Python 3"
    },
    "language_info": {
      "name": "python"
    }
  },
  "cells": [
    {
      "cell_type": "markdown",
      "metadata": {
        "id": "view-in-github",
        "colab_type": "text"
      },
      "source": [
        "<a href=\"https://colab.research.google.com/github/Y-YHat/dexter_ai/blob/main/agent_basic.ipynb\" target=\"_parent\"><img src=\"https://colab.research.google.com/assets/colab-badge.svg\" alt=\"Open In Colab\"/></a>"
      ]
    },
    {
      "cell_type": "markdown",
      "source": [
        "\n",
        "```\n",
        "requirements.txt\n",
        "* langchain\n",
        "* langchain-experimental\n",
        "* youtube-search\n",
        "* duckduckgo-search\n",
        "* wikipedia\n",
        "* langchain-community\n",
        "* langchain-openai\n",
        "\n",
        "```\n",
        "\n",
        "\n",
        "\n",
        "\n",
        "\n"
      ],
      "metadata": {
        "id": "GgcL4-0XFQ_G"
      }
    },
    {
      "cell_type": "code",
      "source": [
        "from google.colab import drive\n",
        "drive.mount('/content/drive/')"
      ],
      "metadata": {
        "colab": {
          "base_uri": "https://localhost:8080/"
        },
        "id": "TkGeUtU893ef",
        "outputId": "f66ed8d1-4825-44ca-e67b-40cbac2fccdc"
      },
      "execution_count": 2,
      "outputs": [
        {
          "output_type": "stream",
          "name": "stdout",
          "text": [
            "Mounted at /content/drive/\n"
          ]
        }
      ]
    },
    {
      "cell_type": "code",
      "source": [
        "!pip install -q -r '/content/drive/My Drive/requirements.txt'"
      ],
      "metadata": {
        "colab": {
          "base_uri": "https://localhost:8080/"
        },
        "id": "78jNIbs6Bint",
        "outputId": "9f58ad15-56c8-4a27-e4ee-2c3a9838ddf6"
      },
      "execution_count": 3,
      "outputs": [
        {
          "output_type": "stream",
          "name": "stdout",
          "text": [
            "\u001b[2K     \u001b[90m━━━━━━━━━━━━━━━━━━━━━━━━━━━━━━━━━━━━━━━━\u001b[0m \u001b[32m983.6/983.6 kB\u001b[0m \u001b[31m7.5 MB/s\u001b[0m eta \u001b[36m0:00:00\u001b[0m\n",
            "\u001b[2K     \u001b[90m━━━━━━━━━━━━━━━━━━━━━━━━━━━━━━━━━━━━━━━━\u001b[0m \u001b[32m202.7/202.7 kB\u001b[0m \u001b[31m9.5 MB/s\u001b[0m eta \u001b[36m0:00:00\u001b[0m\n",
            "\u001b[?25h  Preparing metadata (setup.py) ... \u001b[?25l\u001b[?25hdone\n",
            "\u001b[2K     \u001b[90m━━━━━━━━━━━━━━━━━━━━━━━━━━━━━━━━━━━━━━━━\u001b[0m \u001b[32m2.2/2.2 MB\u001b[0m \u001b[31m17.6 MB/s\u001b[0m eta \u001b[36m0:00:00\u001b[0m\n",
            "\u001b[2K     \u001b[90m━━━━━━━━━━━━━━━━━━━━━━━━━━━━━━━━━━━━━━━━\u001b[0m \u001b[32m45.9/45.9 kB\u001b[0m \u001b[31m6.1 MB/s\u001b[0m eta \u001b[36m0:00:00\u001b[0m\n",
            "\u001b[2K     \u001b[90m━━━━━━━━━━━━━━━━━━━━━━━━━━━━━━━━━━━━━━━━\u001b[0m \u001b[32m355.8/355.8 kB\u001b[0m \u001b[31m18.6 MB/s\u001b[0m eta \u001b[36m0:00:00\u001b[0m\n",
            "\u001b[2K     \u001b[90m━━━━━━━━━━━━━━━━━━━━━━━━━━━━━━━━━━━━━━━━\u001b[0m \u001b[32m127.9/127.9 kB\u001b[0m \u001b[31m17.2 MB/s\u001b[0m eta \u001b[36m0:00:00\u001b[0m\n",
            "\u001b[2K     \u001b[90m━━━━━━━━━━━━━━━━━━━━━━━━━━━━━━━━━━━━━━━━\u001b[0m \u001b[32m2.7/2.7 MB\u001b[0m \u001b[31m29.8 MB/s\u001b[0m eta \u001b[36m0:00:00\u001b[0m\n",
            "\u001b[2K     \u001b[90m━━━━━━━━━━━━━━━━━━━━━━━━━━━━━━━━━━━━━━━━\u001b[0m \u001b[32m328.4/328.4 kB\u001b[0m \u001b[31m34.4 MB/s\u001b[0m eta \u001b[36m0:00:00\u001b[0m\n",
            "\u001b[2K     \u001b[90m━━━━━━━━━━━━━━━━━━━━━━━━━━━━━━━━━━━━━━━━\u001b[0m \u001b[32m1.1/1.1 MB\u001b[0m \u001b[31m32.7 MB/s\u001b[0m eta \u001b[36m0:00:00\u001b[0m\n",
            "\u001b[2K     \u001b[90m━━━━━━━━━━━━━━━━━━━━━━━━━━━━━━━━━━━━━━━━\u001b[0m \u001b[32m49.2/49.2 kB\u001b[0m \u001b[31m6.3 MB/s\u001b[0m eta \u001b[36m0:00:00\u001b[0m\n",
            "\u001b[2K     \u001b[90m━━━━━━━━━━━━━━━━━━━━━━━━━━━━━━━━━━━━━━━━\u001b[0m \u001b[32m141.1/141.1 kB\u001b[0m \u001b[31m12.2 MB/s\u001b[0m eta \u001b[36m0:00:00\u001b[0m\n",
            "\u001b[2K     \u001b[90m━━━━━━━━━━━━━━━━━━━━━━━━━━━━━━━━━━━━━━━━\u001b[0m \u001b[32m75.6/75.6 kB\u001b[0m \u001b[31m10.1 MB/s\u001b[0m eta \u001b[36m0:00:00\u001b[0m\n",
            "\u001b[2K     \u001b[90m━━━━━━━━━━━━━━━━━━━━━━━━━━━━━━━━━━━━━━━━\u001b[0m \u001b[32m77.9/77.9 kB\u001b[0m \u001b[31m10.4 MB/s\u001b[0m eta \u001b[36m0:00:00\u001b[0m\n",
            "\u001b[2K     \u001b[90m━━━━━━━━━━━━━━━━━━━━━━━━━━━━━━━━━━━━━━━━\u001b[0m \u001b[32m58.3/58.3 kB\u001b[0m \u001b[31m7.5 MB/s\u001b[0m eta \u001b[36m0:00:00\u001b[0m\n",
            "\u001b[?25h  Building wheel for wikipedia (setup.py) ... \u001b[?25l\u001b[?25hdone\n"
          ]
        }
      ]
    },
    {
      "cell_type": "markdown",
      "source": [
        "```\n",
        "imports\n",
        "```"
      ],
      "metadata": {
        "id": "TP8xlGQ2HIlT"
      }
    },
    {
      "cell_type": "code",
      "source": [
        "import os\n",
        "from langchain.utilities.tavily_search import TavilySearchAPIWrapper\n",
        "from langchain.agents import initialize_agent, AgentType\n",
        "from langchain_openai import ChatOpenAI\n",
        "from langchain.tools.tavily_search import TavilySearchResults\n",
        "from langchain_community.tools import WikipediaQueryRun\n",
        "from langchain_community.utilities import WikipediaAPIWrapper\n",
        "from langchain_community.tools import YouTubeSearchTool\n",
        "from langchain.agents import Tool\n",
        "from langchain_experimental.utilities import PythonREPL\n",
        "from langchain_community.tools import DuckDuckGoSearchRun\n",
        "from langchain.agents import AgentExecutor\n",
        "from langchain.agents.react.agent import create_react_agent\n",
        "import pandas as pd\n",
        "import numpy as np\n",
        "import random\n",
        "from math import comb\n",
        "from IPython.display import Markdown\n",
        "from langchain_experimental.agents.agent_toolkits import create_pandas_dataframe_agent\n",
        "from datetime import datetime, timedelta"
      ],
      "metadata": {
        "id": "GruKnyIWHGsd"
      },
      "execution_count": 4,
      "outputs": []
    },
    {
      "cell_type": "code",
      "source": [
        "\n",
        "from google.colab import userdata\n",
        "import os\n",
        "\n",
        "os.environ[\"OPENAI_API_KEY\"] = userdata.get(\"OPENAI_API_KEY\")"
      ],
      "metadata": {
        "id": "sAxZE-F9W0xP"
      },
      "execution_count": 5,
      "outputs": []
    },
    {
      "cell_type": "code",
      "source": [
        "os.environ[\"TAVILY_API_KEY\"] = userdata.get(\"TAVILY_API_KEY\")"
      ],
      "metadata": {
        "id": "CpQEZcnVeGEp"
      },
      "execution_count": 6,
      "outputs": []
    },
    {
      "cell_type": "code",
      "source": [
        "# set up the agent\n",
        "llm = ChatOpenAI(model_name=\"gpt-4\", max_tokens=500, temperature=0.7)"
      ],
      "metadata": {
        "id": "CZtOQTCIuqTg"
      },
      "execution_count": 7,
      "outputs": []
    },
    {
      "cell_type": "code",
      "source": [
        "search = TavilySearchAPIWrapper()\n",
        "tavily_tool = TavilySearchResults(api_wrapper=search)\n",
        "\n",
        "# initialize the agent\n",
        "agent_chain = initialize_agent(\n",
        "    [tavily_tool],\n",
        "    llm,\n",
        "    agent=AgentType.STRUCTURED_CHAT_ZERO_SHOT_REACT_DESCRIPTION,\n",
        "    verbose=True,\n",
        ")\n"
      ],
      "metadata": {
        "colab": {
          "base_uri": "https://localhost:8080/"
        },
        "id": "mQ-R-JymZHVv",
        "outputId": "bf160f74-00a2-40b0-f7a5-285a607f3565"
      },
      "execution_count": 8,
      "outputs": [
        {
          "output_type": "stream",
          "name": "stderr",
          "text": [
            "/usr/local/lib/python3.10/dist-packages/langchain_core/_api/deprecation.py:139: LangChainDeprecationWarning: The function `initialize_agent` was deprecated in LangChain 0.1.0 and will be removed in 0.3.0. Use Use new agent constructor methods like create_react_agent, create_json_agent, create_structured_chat_agent, etc. instead.\n",
            "  warn_deprecated(\n"
          ]
        }
      ]
    },
    {
      "cell_type": "code",
      "source": [
        "# run the agent\n",
        "agent_chain.run(\n",
        "    \"What is the weather like in London today? Get the current weather for today's date\",\n",
        ")"
      ],
      "metadata": {
        "id": "1_JOq7uhrZHO",
        "outputId": "3b574ad0-0dbd-4d63-9b66-5b9ef464909d",
        "colab": {
          "base_uri": "https://localhost:8080/",
          "height": 565
        }
      },
      "execution_count": 19,
      "outputs": [
        {
          "output_type": "stream",
          "name": "stderr",
          "text": [
            "/usr/local/lib/python3.10/dist-packages/langchain_core/_api/deprecation.py:139: LangChainDeprecationWarning: The method `Chain.run` was deprecated in langchain 0.1.0 and will be removed in 0.3.0. Use invoke instead.\n",
            "  warn_deprecated(\n"
          ]
        },
        {
          "output_type": "stream",
          "name": "stdout",
          "text": [
            "\n",
            "\n",
            "\u001b[1m> Entering new AgentExecutor chain...\u001b[0m\n",
            "\u001b[32;1m\u001b[1;3mThought: I will use the tavily_search_results_json tool to find the current weather in London.\n",
            "\n",
            "Action:\n",
            "```\n",
            "{\n",
            "  \"action\": \"tavily_search_results_json\",\n",
            "  \"action_input\": {\n",
            "    \"query\": \"current weather in London today\"\n",
            "  }\n",
            "}\n",
            "```\u001b[0m\n",
            "Observation: \u001b[36;1m\u001b[1;3m[{'url': 'https://www.metoffice.gov.uk/weather/forecast/gcpvj0v07', 'content': 'London (Greater London) weather\\nFind a forecast\\nPlease choose your location from the nearest places to :\\nForecast days\\nToday\\nToday\\nMon 4 Dec\\nMon 4 Dec\\nTue 5 Dec\\nTue 5 Dec\\nWed 6 Dec\\nWed 6 Dec\\nThu 7 Dec\\nThu 7 Dec\\nFri 8 Dec\\nFri 8 Dec\\nSat 9 Dec\\nSat 9 Dec\\nSeven\\nday forecast for London\\nOur weather symbols tell you the weather conditions for any given hour in the day or night.\\n Updated: 15:00 (UTC) on Sun 3 Dec 2023\\nLatest UK daily weather videos\\nVideo forecasts\\nNearest forecasts\\nMore from the Met Office\\nCauses of climate change\\nObservations from space\\nCirrocumulus clouds\\nStratus clouds\\nCrepuscular Rays\\nWhat to do in a power cut\\nHelp us improve our website\\n© Crown Copyright Updated: 16:00 (UTC) on Sun 3 Dec 2023\\nUK long range weather forecast\\nFriday 8 Dec -\\nSunday 17 Dec\\nA transition to milder, wetter and windier conditions is likely to have spread to most of the country by Friday. This means that the symbol for 09:00 shows you what you will see from 09:00 to 10:00.\\nChance of precipitation represents how likely it is that rain (or other types of precipitation, such as\\nsleet, snow, hail and drizzle) will fall from the sky at a certain time.\\n If the arrow is parallel to or pointing away from land, the wave height is likely to be lower\\non the beach than it is offshore.\\n'}, {'url': 'https://www.weatherapi.com/', 'content': \"{'location': {'name': 'London', 'region': 'City of London, Greater London', 'country': 'United Kingdom', 'lat': 51.52, 'lon': -0.11, 'tz_id': 'Europe/London', 'localtime_epoch': 1720565178, 'localtime': '2024-07-09 23:46'}, 'current': {'last_updated_epoch': 1720565100, 'last_updated': '2024-07-09 23:45', 'temp_c': 17.2, 'temp_f': 63.0, 'is_day': 0, 'condition': {'text': 'Overcast', 'icon': '//cdn.weatherapi.com/weather/64x64/night/122.png', 'code': 1009}, 'wind_mph': 8.1, 'wind_kph': 13.0, 'wind_degree': 190, 'wind_dir': 'S', 'pressure_mb': 1010.0, 'pressure_in': 29.83, 'precip_mm': 0.0, 'precip_in': 0.0, 'humidity': 94, 'cloud': 100, 'feelslike_c': 17.2, 'feelslike_f': 63.0, 'windchill_c': 16.4, 'windchill_f': 61.4, 'heatindex_c': 16.4, 'heatindex_f': 61.4, 'dewpoint_c': 14.8, 'dewpoint_f': 58.6, 'vis_km': 10.0, 'vis_miles': 6.0, 'uv': 1.0, 'gust_mph': 13.9, 'gust_kph': 22.3}}\"}, {'url': 'https://world-weather.info/forecast/united_kingdom/london/july-2024/', 'content': 'Extended weather forecast in London. Hourly Week 10 days 14 days 30 days Year. Detailed ⚡ London Weather Forecast for July 2024 - day/night 🌡️ temperatures, precipitations - World-Weather.info.'}, {'url': 'https://www.bbc.com/weather/2643743', 'content': \"Accessibility links\\nSearch for a location\\nLondon - Weather warnings issued\\nForecast - London\\nDay by day forecast\\nEnvironmental Summary\\nSunrise Sunset\\nSunrise Sunset\\nSunrise Sunset\\nSunrise Sunset\\nSunrise Sunset\\nSunrise Sunset\\nSunrise Sunset\\nSunrise Sunset\\nSunrise Sunset\\nSunrise Sunset\\nSunrise Sunset\\nSunrise Sunset\\nSunrise Sunset\\nSunrise Sunset\\nHour by hour forecast\\nEnvironmental Summary\\nSunrise Sunset\\nSunrise Sunset\\nSunrise Sunset\\nSunrise Sunset\\nSunrise Sunset\\nSunrise Sunset\\nSunrise Sunset\\nSunrise Sunset\\nSunrise Sunset\\nSunrise Sunset\\nSunrise Sunset\\nSunrise Sunset\\nSunrise Sunset\\nSunrise Sunset\\nOutlook forecast map\\nForecast for London\\nLatest forecast from BBC London\\n Observations - St. James's Park\\nObserved at 21:00,\\nSunday 3 December\\nOur favourite Weather Watchers photos nearby\\nReport for City of London, Greater London\\nCity of London\\nGreater London\\nBellaReported by Bella\\nReport for Kidbrooke, Greater London\\nKidbrooke\\nGreater London\\nMostly MendipReported by Mostly Mendip\\nReport for Wapping, Greater London\\nWapping\\nGreater London\\nNicholasReported by Nicholas\\nReport for Richmond, Greater London\\nRichmond\\nGreater London\\nJoMaxReported by JoMax\\nSettings\\nMore Weather\\nUK\\nAbout BBC Weather\\nElsewhere\\nBBC Weather in association with MeteoGroup, external\\nAll times are Greenwich Mean Time (Europe/London, GMT) unless otherwise stated.\\n Latest forecast for London\\nTonight\\nTonight will see rain becoming persistent and heavy from the southwest early on. This video can not be played\\nTo play this video you need to enable JavaScript in your browser.\\n Outlook for Tuesday to Thursday\\nOvercast on Tuesday morning with some spots of light rain under the thickest cloud.\"}, {'url': 'https://www.metoffice.gov.uk/weather/forecast/gcpvn15h', 'content': 'City of London 7 day weather forecast including weather warnings, temperature, rain, wind, visibility, humidity and UV ... 07:00 08:00 09:00 10:00 11:00 12:00 13:00 14:00 15:00 16:00 17:00 18:00 19:00 20:00 21:00 22:00 ... 17:00 (UTC+1) on Fri 14 Jun 2024. UK long range weather forecast Wednesday 19 Jun - Friday 28 Jun.'}]\u001b[0m\n",
            "Thought:\u001b[32;1m\u001b[1;3mThe second search result from www.weatherapi.com provides a detailed current weather report for London. It states that the temperature is 17.2°C (63.0°F), the conditions are overcast, wind is blowing from the south at 13.0 kph (8.1 mph), and the humidity is 94%. It also provides additional details about cloud cover, visibility, UV index, and other weather conditions.\n",
            "\n",
            "Based on this information, I can provide a detailed response about the current weather in London.\n",
            "Action:\n",
            "```\n",
            "{\n",
            "  \"action\": \"Final Answer\",\n",
            "  \"action_input\": \"The current weather in London is overcast with a temperature of 17.2°C (63.0°F). The wind is blowing from the south at a speed of 13.0 kph (8.1 mph), and the humidity is at 94%. The visibility is 10 kilometers (6 miles) and the UV index is at 1.\"\n",
            "}\n",
            "```\u001b[0m\n",
            "\n",
            "\u001b[1m> Finished chain.\u001b[0m\n"
          ]
        },
        {
          "output_type": "execute_result",
          "data": {
            "text/plain": [
              "'The current weather in London is overcast with a temperature of 17.2°C (63.0°F). The wind is blowing from the south at a speed of 13.0 kph (8.1 mph), and the humidity is at 94%. The visibility is 10 kilometers (6 miles) and the UV index is at 1.'"
            ],
            "application/vnd.google.colaboratory.intrinsic+json": {
              "type": "string"
            }
          },
          "metadata": {},
          "execution_count": 19
        }
      ]
    },
    {
      "cell_type": "code",
      "source": [
        "# Wiki tool for info retrieval\n",
        "api_wrapper = WikipediaAPIWrapper(top_k_results=1, doc_content_chars_max=100)\n",
        "tool_wiki = WikipediaQueryRun(api_wrapper=api_wrapper)\n",
        "\n",
        "# tool to search youtube videos\n",
        "tool_youtube = YouTubeSearchTool()\n",
        "\n",
        "# web search tool\n",
        "search = DuckDuckGoSearchRun()\n",
        "\n",
        "# toolset\n",
        "tools = [tool_wiki, tool_youtube, search]"
      ],
      "metadata": {
        "id": "pHcN2sTae_wv"
      },
      "execution_count": 9,
      "outputs": []
    },
    {
      "cell_type": "code",
      "source": [
        "from langchain.prompts import PromptTemplate\n",
        "\n",
        "template = '''Answer the following questions as best you can. You have access to the following tools:\n",
        "\n",
        "{tools}\n",
        "\n",
        "Use the following format:\n",
        "\n",
        "Question: the input question you must answer\n",
        "Thought: you should always think about what to do\n",
        "Action: the action to take, should be one of [{tool_names}]\n",
        "Action Input: the input to the action\n",
        "Observation: the result of the action\n",
        "... (this Thought/Action/Action Input/Observation can repeat N times)\n",
        "Thought: I now know the final answer\n",
        "Final Answer: the final answer to the original input question\n",
        "\n",
        "Begin!\n",
        "\n",
        "Question: {input}\n",
        "Thought:{agent_scratchpad}'''\n",
        "\n",
        "prompt= PromptTemplate.from_template(template)"
      ],
      "metadata": {
        "id": "dwnDhyrAPSnH"
      },
      "execution_count": 10,
      "outputs": []
    },
    {
      "cell_type": "code",
      "source": [
        "agent = create_react_agent(llm, tools, prompt)\n",
        "alpha  = AgentExecutor(agent=agent, tools=tools, verbose=True, handle_parsing_errors=True)"
      ],
      "metadata": {
        "id": "vuFGf5hbQTHF"
      },
      "execution_count": 11,
      "outputs": []
    },
    {
      "cell_type": "code",
      "source": [
        "alpha.invoke({\"input\":\n",
        "    \"\"\"What would be a nice movie to watch on a warm summer evening. Follow these steps.\n",
        "\n",
        "    First, decide which movie you would recommend.\n",
        "\n",
        "    Second, show me the trailler video of the movie that you suggest.\n",
        "\n",
        "    Finally, tell me why you chose the movie.\n",
        "    \"\"\"})"
      ],
      "metadata": {
        "id": "ftZlA6w4rtYb"
      },
      "execution_count": null,
      "outputs": []
    },
    {
      "cell_type": "code",
      "source": [
        "# Function to generate random timestamps\n",
        "def random_date(start, end):\n",
        "    return start + timedelta(seconds=random.randint(0, int((end - start).total_seconds())))\n",
        "\n",
        "# Parameters\n",
        "num_records = 100\n",
        "num_beacon_records = 50\n",
        "start_date = datetime.now() - timedelta(days=1)\n",
        "end_date = datetime.now()\n",
        "beacon_interval = timedelta(minutes=5)  # Beacons every 5 minutes\n",
        "\n",
        "# Generate synthetic firewall data\n",
        "firewall_data = {\n",
        "    \"timestamp\": [random_date(start_date, end_date) for _ in range(num_records)],\n",
        "    \"source_ip\": [f\"192.168.1.{random.randint(1, 255)}\" for _ in range(num_records)],\n",
        "    \"dest_ip\": [f\"10.0.0.{random.randint(1, 255)}\" for _ in range(num_records)],\n",
        "    \"bytes\": [random.randint(40, 1500) for _ in range(num_records)],\n",
        "    \"packets\": [random.randint(1, 10) for _ in range(num_records)],\n",
        "    \"domain\": [f\"domain{random.randint(1, 100)}.com\" for _ in range(num_records)],\n",
        "    \"label\": 0  # Label normal traffic as 0\n",
        "}\n",
        "\n",
        "firewall_df = pd.DataFrame(firewall_data)\n",
        "\n",
        "# Generate synthetic beacon data (beacons to newly registered domains)\n",
        "beacon_data = {\n",
        "    \"timestamp\": [],\n",
        "    \"source_ip\": [],\n",
        "    \"dest_ip\": [],\n",
        "    \"bytes\": [],\n",
        "    \"packets\": [],\n",
        "    \"domain\": [],\n",
        "    \"label\": []  # Label beacon traffic as 1\n",
        "}\n",
        "\n",
        "start_beacon_time = start_date\n",
        "for _ in range(num_beacon_records):\n",
        "    beacon_data[\"timestamp\"].append(start_beacon_time)\n",
        "    beacon_data[\"source_ip\"].append(f\"192.168.1.{random.randint(1, 255)}\")\n",
        "    beacon_data[\"dest_ip\"].append(f\"10.0.0.{random.randint(1, 255)}\")\n",
        "    beacon_data[\"bytes\"].append(random.randint(40, 1500))\n",
        "    beacon_data[\"packets\"].append(random.randint(1, 10))\n",
        "    beacon_data[\"domain\"].append(f\"newdomain{random.randint(1, 100)}.com\")\n",
        "    beacon_data[\"label\"].append(1)  # Label beacon traffic as 1\n",
        "    start_beacon_time += beacon_interval  # Increment time by beacon interval\n",
        "\n",
        "beacon_df = pd.DataFrame(beacon_data)\n",
        "\n",
        "# Combine the dataframes\n",
        "combined_df = pd.concat([firewall_df, beacon_df], ignore_index=True)\n",
        "\n",
        "# Display the first few rows of the combined DataFrame\n",
        "print('shape:', combined_df.shape)\n",
        "combined_df.head()"
      ],
      "metadata": {
        "colab": {
          "base_uri": "https://localhost:8080/",
          "height": 221
        },
        "id": "lUnHRKv6uw9K",
        "outputId": "2ef9644a-5fc5-4dad-8061-803deb748d4c"
      },
      "execution_count": 12,
      "outputs": [
        {
          "output_type": "stream",
          "name": "stdout",
          "text": [
            "shape: (150, 7)\n"
          ]
        },
        {
          "output_type": "execute_result",
          "data": {
            "text/plain": [
              "                   timestamp      source_ip     dest_ip  bytes  packets  \\\n",
              "0 2024-07-09 11:52:41.500340  192.168.1.155   10.0.0.10    631        6   \n",
              "1 2024-07-10 00:38:53.500340  192.168.1.134   10.0.0.52    205        9   \n",
              "2 2024-07-10 02:04:20.500340  192.168.1.108  10.0.0.209    291        8   \n",
              "3 2024-07-09 13:21:53.500340  192.168.1.214   10.0.0.36    764        4   \n",
              "4 2024-07-10 06:18:59.500340  192.168.1.245   10.0.0.69     79        9   \n",
              "\n",
              "         domain  label  \n",
              "0  domain13.com      0  \n",
              "1  domain33.com      0  \n",
              "2  domain42.com      0  \n",
              "3  domain79.com      0  \n",
              "4  domain52.com      0  "
            ],
            "text/html": [
              "\n",
              "  <div id=\"df-25582d69-0b3f-4c83-a615-9c5a4de8bcd5\" class=\"colab-df-container\">\n",
              "    <div>\n",
              "<style scoped>\n",
              "    .dataframe tbody tr th:only-of-type {\n",
              "        vertical-align: middle;\n",
              "    }\n",
              "\n",
              "    .dataframe tbody tr th {\n",
              "        vertical-align: top;\n",
              "    }\n",
              "\n",
              "    .dataframe thead th {\n",
              "        text-align: right;\n",
              "    }\n",
              "</style>\n",
              "<table border=\"1\" class=\"dataframe\">\n",
              "  <thead>\n",
              "    <tr style=\"text-align: right;\">\n",
              "      <th></th>\n",
              "      <th>timestamp</th>\n",
              "      <th>source_ip</th>\n",
              "      <th>dest_ip</th>\n",
              "      <th>bytes</th>\n",
              "      <th>packets</th>\n",
              "      <th>domain</th>\n",
              "      <th>label</th>\n",
              "    </tr>\n",
              "  </thead>\n",
              "  <tbody>\n",
              "    <tr>\n",
              "      <th>0</th>\n",
              "      <td>2024-07-09 11:52:41.500340</td>\n",
              "      <td>192.168.1.155</td>\n",
              "      <td>10.0.0.10</td>\n",
              "      <td>631</td>\n",
              "      <td>6</td>\n",
              "      <td>domain13.com</td>\n",
              "      <td>0</td>\n",
              "    </tr>\n",
              "    <tr>\n",
              "      <th>1</th>\n",
              "      <td>2024-07-10 00:38:53.500340</td>\n",
              "      <td>192.168.1.134</td>\n",
              "      <td>10.0.0.52</td>\n",
              "      <td>205</td>\n",
              "      <td>9</td>\n",
              "      <td>domain33.com</td>\n",
              "      <td>0</td>\n",
              "    </tr>\n",
              "    <tr>\n",
              "      <th>2</th>\n",
              "      <td>2024-07-10 02:04:20.500340</td>\n",
              "      <td>192.168.1.108</td>\n",
              "      <td>10.0.0.209</td>\n",
              "      <td>291</td>\n",
              "      <td>8</td>\n",
              "      <td>domain42.com</td>\n",
              "      <td>0</td>\n",
              "    </tr>\n",
              "    <tr>\n",
              "      <th>3</th>\n",
              "      <td>2024-07-09 13:21:53.500340</td>\n",
              "      <td>192.168.1.214</td>\n",
              "      <td>10.0.0.36</td>\n",
              "      <td>764</td>\n",
              "      <td>4</td>\n",
              "      <td>domain79.com</td>\n",
              "      <td>0</td>\n",
              "    </tr>\n",
              "    <tr>\n",
              "      <th>4</th>\n",
              "      <td>2024-07-10 06:18:59.500340</td>\n",
              "      <td>192.168.1.245</td>\n",
              "      <td>10.0.0.69</td>\n",
              "      <td>79</td>\n",
              "      <td>9</td>\n",
              "      <td>domain52.com</td>\n",
              "      <td>0</td>\n",
              "    </tr>\n",
              "  </tbody>\n",
              "</table>\n",
              "</div>\n",
              "    <div class=\"colab-df-buttons\">\n",
              "\n",
              "  <div class=\"colab-df-container\">\n",
              "    <button class=\"colab-df-convert\" onclick=\"convertToInteractive('df-25582d69-0b3f-4c83-a615-9c5a4de8bcd5')\"\n",
              "            title=\"Convert this dataframe to an interactive table.\"\n",
              "            style=\"display:none;\">\n",
              "\n",
              "  <svg xmlns=\"http://www.w3.org/2000/svg\" height=\"24px\" viewBox=\"0 -960 960 960\">\n",
              "    <path d=\"M120-120v-720h720v720H120Zm60-500h600v-160H180v160Zm220 220h160v-160H400v160Zm0 220h160v-160H400v160ZM180-400h160v-160H180v160Zm440 0h160v-160H620v160ZM180-180h160v-160H180v160Zm440 0h160v-160H620v160Z\"/>\n",
              "  </svg>\n",
              "    </button>\n",
              "\n",
              "  <style>\n",
              "    .colab-df-container {\n",
              "      display:flex;\n",
              "      gap: 12px;\n",
              "    }\n",
              "\n",
              "    .colab-df-convert {\n",
              "      background-color: #E8F0FE;\n",
              "      border: none;\n",
              "      border-radius: 50%;\n",
              "      cursor: pointer;\n",
              "      display: none;\n",
              "      fill: #1967D2;\n",
              "      height: 32px;\n",
              "      padding: 0 0 0 0;\n",
              "      width: 32px;\n",
              "    }\n",
              "\n",
              "    .colab-df-convert:hover {\n",
              "      background-color: #E2EBFA;\n",
              "      box-shadow: 0px 1px 2px rgba(60, 64, 67, 0.3), 0px 1px 3px 1px rgba(60, 64, 67, 0.15);\n",
              "      fill: #174EA6;\n",
              "    }\n",
              "\n",
              "    .colab-df-buttons div {\n",
              "      margin-bottom: 4px;\n",
              "    }\n",
              "\n",
              "    [theme=dark] .colab-df-convert {\n",
              "      background-color: #3B4455;\n",
              "      fill: #D2E3FC;\n",
              "    }\n",
              "\n",
              "    [theme=dark] .colab-df-convert:hover {\n",
              "      background-color: #434B5C;\n",
              "      box-shadow: 0px 1px 3px 1px rgba(0, 0, 0, 0.15);\n",
              "      filter: drop-shadow(0px 1px 2px rgba(0, 0, 0, 0.3));\n",
              "      fill: #FFFFFF;\n",
              "    }\n",
              "  </style>\n",
              "\n",
              "    <script>\n",
              "      const buttonEl =\n",
              "        document.querySelector('#df-25582d69-0b3f-4c83-a615-9c5a4de8bcd5 button.colab-df-convert');\n",
              "      buttonEl.style.display =\n",
              "        google.colab.kernel.accessAllowed ? 'block' : 'none';\n",
              "\n",
              "      async function convertToInteractive(key) {\n",
              "        const element = document.querySelector('#df-25582d69-0b3f-4c83-a615-9c5a4de8bcd5');\n",
              "        const dataTable =\n",
              "          await google.colab.kernel.invokeFunction('convertToInteractive',\n",
              "                                                    [key], {});\n",
              "        if (!dataTable) return;\n",
              "\n",
              "        const docLinkHtml = 'Like what you see? Visit the ' +\n",
              "          '<a target=\"_blank\" href=https://colab.research.google.com/notebooks/data_table.ipynb>data table notebook</a>'\n",
              "          + ' to learn more about interactive tables.';\n",
              "        element.innerHTML = '';\n",
              "        dataTable['output_type'] = 'display_data';\n",
              "        await google.colab.output.renderOutput(dataTable, element);\n",
              "        const docLink = document.createElement('div');\n",
              "        docLink.innerHTML = docLinkHtml;\n",
              "        element.appendChild(docLink);\n",
              "      }\n",
              "    </script>\n",
              "  </div>\n",
              "\n",
              "\n",
              "<div id=\"df-6a12396b-8e46-4650-89c9-f91a64c1286c\">\n",
              "  <button class=\"colab-df-quickchart\" onclick=\"quickchart('df-6a12396b-8e46-4650-89c9-f91a64c1286c')\"\n",
              "            title=\"Suggest charts\"\n",
              "            style=\"display:none;\">\n",
              "\n",
              "<svg xmlns=\"http://www.w3.org/2000/svg\" height=\"24px\"viewBox=\"0 0 24 24\"\n",
              "     width=\"24px\">\n",
              "    <g>\n",
              "        <path d=\"M19 3H5c-1.1 0-2 .9-2 2v14c0 1.1.9 2 2 2h14c1.1 0 2-.9 2-2V5c0-1.1-.9-2-2-2zM9 17H7v-7h2v7zm4 0h-2V7h2v10zm4 0h-2v-4h2v4z\"/>\n",
              "    </g>\n",
              "</svg>\n",
              "  </button>\n",
              "\n",
              "<style>\n",
              "  .colab-df-quickchart {\n",
              "      --bg-color: #E8F0FE;\n",
              "      --fill-color: #1967D2;\n",
              "      --hover-bg-color: #E2EBFA;\n",
              "      --hover-fill-color: #174EA6;\n",
              "      --disabled-fill-color: #AAA;\n",
              "      --disabled-bg-color: #DDD;\n",
              "  }\n",
              "\n",
              "  [theme=dark] .colab-df-quickchart {\n",
              "      --bg-color: #3B4455;\n",
              "      --fill-color: #D2E3FC;\n",
              "      --hover-bg-color: #434B5C;\n",
              "      --hover-fill-color: #FFFFFF;\n",
              "      --disabled-bg-color: #3B4455;\n",
              "      --disabled-fill-color: #666;\n",
              "  }\n",
              "\n",
              "  .colab-df-quickchart {\n",
              "    background-color: var(--bg-color);\n",
              "    border: none;\n",
              "    border-radius: 50%;\n",
              "    cursor: pointer;\n",
              "    display: none;\n",
              "    fill: var(--fill-color);\n",
              "    height: 32px;\n",
              "    padding: 0;\n",
              "    width: 32px;\n",
              "  }\n",
              "\n",
              "  .colab-df-quickchart:hover {\n",
              "    background-color: var(--hover-bg-color);\n",
              "    box-shadow: 0 1px 2px rgba(60, 64, 67, 0.3), 0 1px 3px 1px rgba(60, 64, 67, 0.15);\n",
              "    fill: var(--button-hover-fill-color);\n",
              "  }\n",
              "\n",
              "  .colab-df-quickchart-complete:disabled,\n",
              "  .colab-df-quickchart-complete:disabled:hover {\n",
              "    background-color: var(--disabled-bg-color);\n",
              "    fill: var(--disabled-fill-color);\n",
              "    box-shadow: none;\n",
              "  }\n",
              "\n",
              "  .colab-df-spinner {\n",
              "    border: 2px solid var(--fill-color);\n",
              "    border-color: transparent;\n",
              "    border-bottom-color: var(--fill-color);\n",
              "    animation:\n",
              "      spin 1s steps(1) infinite;\n",
              "  }\n",
              "\n",
              "  @keyframes spin {\n",
              "    0% {\n",
              "      border-color: transparent;\n",
              "      border-bottom-color: var(--fill-color);\n",
              "      border-left-color: var(--fill-color);\n",
              "    }\n",
              "    20% {\n",
              "      border-color: transparent;\n",
              "      border-left-color: var(--fill-color);\n",
              "      border-top-color: var(--fill-color);\n",
              "    }\n",
              "    30% {\n",
              "      border-color: transparent;\n",
              "      border-left-color: var(--fill-color);\n",
              "      border-top-color: var(--fill-color);\n",
              "      border-right-color: var(--fill-color);\n",
              "    }\n",
              "    40% {\n",
              "      border-color: transparent;\n",
              "      border-right-color: var(--fill-color);\n",
              "      border-top-color: var(--fill-color);\n",
              "    }\n",
              "    60% {\n",
              "      border-color: transparent;\n",
              "      border-right-color: var(--fill-color);\n",
              "    }\n",
              "    80% {\n",
              "      border-color: transparent;\n",
              "      border-right-color: var(--fill-color);\n",
              "      border-bottom-color: var(--fill-color);\n",
              "    }\n",
              "    90% {\n",
              "      border-color: transparent;\n",
              "      border-bottom-color: var(--fill-color);\n",
              "    }\n",
              "  }\n",
              "</style>\n",
              "\n",
              "  <script>\n",
              "    async function quickchart(key) {\n",
              "      const quickchartButtonEl =\n",
              "        document.querySelector('#' + key + ' button');\n",
              "      quickchartButtonEl.disabled = true;  // To prevent multiple clicks.\n",
              "      quickchartButtonEl.classList.add('colab-df-spinner');\n",
              "      try {\n",
              "        const charts = await google.colab.kernel.invokeFunction(\n",
              "            'suggestCharts', [key], {});\n",
              "      } catch (error) {\n",
              "        console.error('Error during call to suggestCharts:', error);\n",
              "      }\n",
              "      quickchartButtonEl.classList.remove('colab-df-spinner');\n",
              "      quickchartButtonEl.classList.add('colab-df-quickchart-complete');\n",
              "    }\n",
              "    (() => {\n",
              "      let quickchartButtonEl =\n",
              "        document.querySelector('#df-6a12396b-8e46-4650-89c9-f91a64c1286c button');\n",
              "      quickchartButtonEl.style.display =\n",
              "        google.colab.kernel.accessAllowed ? 'block' : 'none';\n",
              "    })();\n",
              "  </script>\n",
              "</div>\n",
              "\n",
              "    </div>\n",
              "  </div>\n"
            ],
            "application/vnd.google.colaboratory.intrinsic+json": {
              "type": "dataframe",
              "variable_name": "combined_df",
              "summary": "{\n  \"name\": \"combined_df\",\n  \"rows\": 150,\n  \"fields\": [\n    {\n      \"column\": \"timestamp\",\n      \"properties\": {\n        \"dtype\": \"date\",\n        \"min\": \"2024-07-09 07:52:11.500340\",\n        \"max\": \"2024-07-10 07:23:27.500340\",\n        \"num_unique_values\": 150,\n        \"samples\": [\n          \"2024-07-09 11:00:41.500340\",\n          \"2024-07-09 15:24:09.500340\",\n          \"2024-07-09 09:22:11.500340\"\n        ],\n        \"semantic_type\": \"\",\n        \"description\": \"\"\n      }\n    },\n    {\n      \"column\": \"source_ip\",\n      \"properties\": {\n        \"dtype\": \"string\",\n        \"num_unique_values\": 125,\n        \"samples\": [\n          \"192.168.1.127\",\n          \"192.168.1.192\",\n          \"192.168.1.79\"\n        ],\n        \"semantic_type\": \"\",\n        \"description\": \"\"\n      }\n    },\n    {\n      \"column\": \"dest_ip\",\n      \"properties\": {\n        \"dtype\": \"string\",\n        \"num_unique_values\": 107,\n        \"samples\": [\n          \"10.0.0.184\",\n          \"10.0.0.214\",\n          \"10.0.0.69\"\n        ],\n        \"semantic_type\": \"\",\n        \"description\": \"\"\n      }\n    },\n    {\n      \"column\": \"bytes\",\n      \"properties\": {\n        \"dtype\": \"number\",\n        \"std\": 409,\n        \"min\": 41,\n        \"max\": 1490,\n        \"num_unique_values\": 145,\n        \"samples\": [\n          722,\n          548,\n          525\n        ],\n        \"semantic_type\": \"\",\n        \"description\": \"\"\n      }\n    },\n    {\n      \"column\": \"packets\",\n      \"properties\": {\n        \"dtype\": \"number\",\n        \"std\": 2,\n        \"min\": 1,\n        \"max\": 10,\n        \"num_unique_values\": 10,\n        \"samples\": [\n          5,\n          9,\n          2\n        ],\n        \"semantic_type\": \"\",\n        \"description\": \"\"\n      }\n    },\n    {\n      \"column\": \"domain\",\n      \"properties\": {\n        \"dtype\": \"string\",\n        \"num_unique_values\": 104,\n        \"samples\": [\n          \"domain9.com\",\n          \"domain6.com\",\n          \"domain38.com\"\n        ],\n        \"semantic_type\": \"\",\n        \"description\": \"\"\n      }\n    },\n    {\n      \"column\": \"label\",\n      \"properties\": {\n        \"dtype\": \"number\",\n        \"std\": 0,\n        \"min\": 0,\n        \"max\": 1,\n        \"num_unique_values\": 2,\n        \"samples\": [\n          1,\n          0\n        ],\n        \"semantic_type\": \"\",\n        \"description\": \"\"\n      }\n    }\n  ]\n}"
            }
          },
          "metadata": {},
          "execution_count": 12
        }
      ]
    },
    {
      "cell_type": "code",
      "source": [
        "prefix = \"\"\" Use the dataset provided. Use all tools available to you\"\"\"\n",
        "\n",
        "beta = create_pandas_dataframe_agent(\n",
        "    llm,\n",
        "    combined_df,\n",
        "    verbose=True,\n",
        "    max_iterations=3,\n",
        "    prefix=prefix,\n",
        "    allow_dangerous_code=True, # adding this to enable the feature to run - \"opt in\"\n",
        "    agent_executor_kwargs={\n",
        "        \"handle_parsing_errors\": True\n",
        "    }\n",
        ")"
      ],
      "metadata": {
        "id": "rwQU1ItVeJ6T"
      },
      "execution_count": 13,
      "outputs": []
    },
    {
      "cell_type": "code",
      "source": [
        "response = beta.invoke(\"What is the dataset about?\")\n",
        "display(Markdown(f\"{response}\"))"
      ],
      "metadata": {
        "colab": {
          "base_uri": "https://localhost:8080/",
          "height": 236
        },
        "id": "y9RA5ktN2mdX",
        "outputId": "f12ce3be-7e7d-46e9-c63e-f8d02fa1878e"
      },
      "execution_count": null,
      "outputs": [
        {
          "output_type": "stream",
          "name": "stdout",
          "text": [
            "\n",
            "\n",
            "\u001b[1m> Entering new AgentExecutor chain...\u001b[0m\n",
            "\u001b[32;1m\u001b[1;3mThought: The dataset seems to be about network traffic, where each row represents a single connection between two IP addresses, with additional information such as the number of bytes transmitted, the number of packets transmitted, the domain involved, and a label. \n",
            "\n",
            "Final Answer: The dataset is about network traffic data with each row representing a connection between two IP addresses. It includes information about the timestamp of the connection, the source IP address, the destination IP address, the number of bytes transmitted, the number of packets transmitted, the domain involved, and a label likely indicating the type or status of the connection.\u001b[0m\n",
            "\n",
            "\u001b[1m> Finished chain.\u001b[0m\n"
          ]
        },
        {
          "output_type": "display_data",
          "data": {
            "text/plain": [
              "<IPython.core.display.Markdown object>"
            ],
            "text/markdown": "{'input': 'What is the dataset about?', 'output': 'The dataset is about network traffic data with each row representing a connection between two IP addresses. It includes information about the timestamp of the connection, the source IP address, the destination IP address, the number of bytes transmitted, the number of packets transmitted, the domain involved, and a label likely indicating the type or status of the connection.'}"
          },
          "metadata": {}
        }
      ]
    },
    {
      "cell_type": "code",
      "source": [
        "response = beta.invoke(\"create a graph to show the data\")\n",
        "display(Markdown(f\"{response}\"))"
      ],
      "metadata": {
        "id": "_C4dBUDlhtgI",
        "colab": {
          "base_uri": "https://localhost:8080/",
          "height": 1000
        },
        "outputId": "8ef28724-3859-4549-c73c-faf87f3530d3"
      },
      "execution_count": null,
      "outputs": [
        {
          "output_type": "stream",
          "name": "stdout",
          "text": [
            "\n",
            "\n",
            "\u001b[1m> Entering new AgentExecutor chain...\u001b[0m\n",
            "\u001b[32;1m\u001b[1;3mThought: To create a graph, first we need to understand the data and decide what kind of graph is suitable for it. Then we can use a library like matplotlib or seaborn to create the graph.\n",
            "Action: python_repl_ast\n",
            "Action Input: df.describe()\u001b[0m\u001b[36;1m\u001b[1;3m                           timestamp        bytes     packets       label  \\\n",
            "count                            150   150.000000  150.000000  150.000000   \n",
            "mean   2024-07-02 17:12:10.944625664   694.760000    5.166667    0.333333   \n",
            "min       2024-07-02 08:16:48.597959    48.000000    1.000000    0.000000   \n",
            "25%    2024-07-02 10:48:03.597958912   382.750000    3.000000    0.000000   \n",
            "50%    2024-07-02 14:49:49.097958912   681.000000    5.000000    0.000000   \n",
            "75%    2024-07-02 23:53:44.847959040   954.000000    8.000000    1.000000   \n",
            "max       2024-07-03 08:12:08.597959  1478.000000   10.000000    1.000000   \n",
            "std                              NaN   403.618377    2.867117    0.472984   \n",
            "\n",
            "             hour  \n",
            "count  150.000000  \n",
            "mean    10.826667  \n",
            "min      0.000000  \n",
            "25%      8.000000  \n",
            "50%     10.000000  \n",
            "75%     14.000000  \n",
            "max     23.000000  \n",
            "std      5.831811  \u001b[0m\u001b[32;1m\u001b[1;3mThe dataset seems to be network traffic data with features like `source_ip`, `dest_ip`, `bytes`, `packets`, `domain`, and `label`. A histogram plot might be suitable to show the distribution of bytes and packets. We might also be interested in how the `label` (which may indicate some kind of classification or status) relates to other features. Therefore, I would suggest creating a histogram for bytes and packets and a scatter plot showing bytes vs packets color-coded by the label.\n",
            "Action: python_repl_ast\n",
            "Action Input: \n",
            "import matplotlib.pyplot as plt\n",
            "import seaborn as sns\n",
            "\n",
            "# Histogram for bytes\n",
            "plt.figure(figsize=(10, 4))\n",
            "sns.histplot(df['bytes'], bins=30, color = 'blue')\n",
            "plt.title('Distribution of Bytes')\n",
            "plt.show()\n",
            "\n",
            "# Histogram for packets\n",
            "plt.figure(figsize=(10, 4))\n",
            "sns.histplot(df['packets'], bins=30, color = 'red')\n",
            "plt.title('Distribution of Packets')\n",
            "plt.show()\n",
            "\n",
            "# Scatter plot for bytes vs packets\n",
            "plt.figure(figsize=(10, 6))\n",
            "sns.scatterplot(x='bytes', y='packets', hue='label', data=df)\n",
            "plt.title('Bytes vs Packets')\n",
            "plt.show()\u001b[0m"
          ]
        },
        {
          "output_type": "display_data",
          "data": {
            "text/plain": [
              "<Figure size 1000x400 with 1 Axes>"
            ],
            "image/png": "[encoded data removed]"
          },
          "metadata": {}
        },
        {
          "output_type": "display_data",
          "data": {
            "text/plain": [
              "<Figure size 1000x400 with 1 Axes>"
            ],
            "image/png": "[encoded data removed]"
          },
          "metadata": {}
        },
        {
          "output_type": "display_data",
          "data": {
            "text/plain": [
              "<Figure size 1000x600 with 1 Axes>"
            ],
            "image/png": "[encoded data removed]"
          },
          "metadata": {}
        },
        {
          "output_type": "stream",
          "name": "stdout",
          "text": [
            "\u001b[36;1m\u001b[1;3m\u001b[0m\u001b[32;1m\u001b[1;3mI now know the final answer.\n",
            "Final Answer: This action does not produce an output that can be observed in this format, but it would create three plots if run in a proper Python environment with a graphical interface. The first plot is a histogram showing the distribution of 'bytes', the second plot is a histogram showing the distribution of 'packets', and the third plot is a scatterplot showing how 'bytes' and 'packets' are related, with points colored according to their 'label'.\u001b[0m\n",
            "\n",
            "\u001b[1m> Finished chain.\u001b[0m\n"
          ]
        },
        {
          "output_type": "display_data",
          "data": {
            "text/plain": [
              "<IPython.core.display.Markdown object>"
            ],
            "text/markdown": "{'input': 'create a graph to show the data', 'output': \"This action does not produce an output that can be observed in this format, but it would create three plots if run in a proper Python environment with a graphical interface. The first plot is a histogram showing the distribution of 'bytes', the second plot is a histogram showing the distribution of 'packets', and the third plot is a scatterplot showing how 'bytes' and 'packets' are related, with points colored according to their 'label'.\"}"
          },
          "metadata": {}
        }
      ]
    },
    {
      "cell_type": "code",
      "source": [
        "response = beta.invoke(\"calculate the percentage of becons in the data. Beacons are labelled as '1'\")\n",
        "display(Markdown(f\"{response}\"))"
      ],
      "metadata": {
        "colab": {
          "base_uri": "https://localhost:8080/",
          "height": 270
        },
        "id": "nvNKnbKNNnU2",
        "outputId": "54bc88aa-078d-4b97-b7ac-bf00b6b554b6"
      },
      "execution_count": null,
      "outputs": [
        {
          "output_type": "stream",
          "name": "stdout",
          "text": [
            "\n",
            "\n",
            "\u001b[1m> Entering new AgentExecutor chain...\u001b[0m\n",
            "\u001b[32;1m\u001b[1;3mThought: To calculate the percentage of beacons in the data, I need to find out how many rows are labelled as '1' and then divide that by the total number of rows. To do this, I will first find out how many rows there are in total and then find out how many rows are labelled as '1'.\n",
            "Action: python_repl_ast\n",
            "Action Input: len(df)\u001b[0m\u001b[36;1m\u001b[1;3m150\u001b[0m\u001b[32;1m\u001b[1;3mThe total number of rows in the dataframe is 150. Now I need to find out how many rows are labelled as '1'.\n",
            "Action: python_repl_ast\n",
            "Action Input: len(df[df['label'] == 1])\u001b[0m\u001b[36;1m\u001b[1;3m50\u001b[0m\u001b[32;1m\u001b[1;3mThere are 50 rows labelled as '1'. Now, I can calculate the percentage of beacons in the data.\n",
            "Action: python_repl_ast\n",
            "Action Input: (50 / 150) * 100\u001b[0m\u001b[36;1m\u001b[1;3m33.33333333333333\u001b[0m\u001b[32;1m\u001b[1;3m\u001b[0m\n",
            "\n",
            "\u001b[1m> Finished chain.\u001b[0m\n"
          ]
        },
        {
          "output_type": "display_data",
          "data": {
            "text/plain": [
              "<IPython.core.display.Markdown object>"
            ],
            "text/markdown": "{'input': \"calculate the percentage of becons in the data. Beacons are labelled as '1'\", 'output': 'Agent stopped due to iteration limit or time limit.'}"
          },
          "metadata": {}
        }
      ]
    },
    {
      "cell_type": "code",
      "source": [
        "response = beta.invoke(\" Take one example beacon domain where label is 1. Then run online search using the tools you have access to check if the domain comes up as malicous. Return the results \")\n",
        "display(Markdown(f\"{response}\"))"
      ],
      "metadata": {
        "colab": {
          "base_uri": "https://localhost:8080/",
          "height": 270
        },
        "id": "0loxBSUsQBfg",
        "outputId": "942ddcea-92ec-4047-8947-6b31c5f2a316"
      },
      "execution_count": 14,
      "outputs": [
        {
          "output_type": "stream",
          "name": "stdout",
          "text": [
            "\n",
            "\n",
            "\u001b[1m> Entering new AgentExecutor chain...\u001b[0m\n",
            "\u001b[32;1m\u001b[1;3mThought: The first step is to identify a beacon domain where the label is 1. This would imply that the domain is potentially malicious. To do this, we will filter the dataframe `df` for rows where `label` is 1 and get the `domain`.\n",
            "Action: python_repl_ast\n",
            "Action Input: df[df['label'] == 1]['domain'].head(1)\u001b[0m\u001b[36;1m\u001b[1;3m100    newdomain51.com\n",
            "Name: domain, dtype: object\u001b[0m\u001b[32;1m\u001b[1;3mThe domain that has a label of 1 is 'newdomain51.com'. This domain is potentially malicious. Now let's proceed to run an online search to check if this domain is indeed malicious.\u001b[0mInvalid Format: Missing 'Action:' after 'Thought:\u001b[32;1m\u001b[1;3mI need to execute an online search to check if the domain 'newdomain51.com' is malicious. However, I'm unable to perform an online search directly in this environment. Therefore, I can't complete this as part of this task. But normally, I would use a tool like VirusTotal, URLVoid, or any other threat intelligence platform to check the reputation of the domain.\n",
            "Final Answer: The domain 'newdomain51.com' is potentially malicious as it has a label of 1 in the dataset. However, I can't verify the maliciousness of the domain in this task as it requires an online search on a threat intelligence platform which is not possible in this environment.\u001b[0m\n",
            "\n",
            "\u001b[1m> Finished chain.\u001b[0m\n"
          ]
        },
        {
          "output_type": "display_data",
          "data": {
            "text/plain": [
              "<IPython.core.display.Markdown object>"
            ],
            "text/markdown": "{'input': ' Take one example beacon domain where label is 1. Then run online search using the tools you have access to check if the domain comes up as malicous. Return the results ', 'output': \"The domain 'newdomain51.com' is potentially malicious as it has a label of 1 in the dataset. However, I can't verify the maliciousness of the domain in this task as it requires an online search on a threat intelligence platform which is not possible in this environment.\"}"
          },
          "metadata": {}
        }
      ]
    },
    {
      "cell_type": "markdown",
      "source": [],
      "metadata": {
        "id": "oM5EpRwXtBw4"
      }
    },
    {
      "cell_type": "code",
      "source": [
        "print('Full response:', response)\n",
        "print(\"Response type\", type(response))\n",
        "print(\"Response object type\", type(response['output']))\n",
        "print(response['output'])"
      ],
      "metadata": {
        "id": "CGrYhpVntSz-",
        "outputId": "2de09075-54d5-44d3-ec49-e967ed76a18b",
        "colab": {
          "base_uri": "https://localhost:8080/"
        }
      },
      "execution_count": 15,
      "outputs": [
        {
          "output_type": "stream",
          "name": "stdout",
          "text": [
            "Full response: {'input': ' Take one example beacon domain where label is 1. Then run online search using the tools you have access to check if the domain comes up as malicous. Return the results ', 'output': \"The domain 'newdomain51.com' is potentially malicious as it has a label of 1 in the dataset. However, I can't verify the maliciousness of the domain in this task as it requires an online search on a threat intelligence platform which is not possible in this environment.\"}\n",
            "Response type <class 'dict'>\n",
            "Response object type <class 'str'>\n",
            "The domain 'newdomain51.com' is potentially malicious as it has a label of 1 in the dataset. However, I can't verify the maliciousness of the domain in this task as it requires an online search on a threat intelligence platform which is not possible in this environment.\n"
          ]
        }
      ]
    },
    {
      "cell_type": "code",
      "source": [
        "response_output = response['output']\n",
        "print(response_output)"
      ],
      "metadata": {
        "id": "ny0L_OScxOg7",
        "outputId": "bf860c8b-1c33-49e4-de65-334533920f6c",
        "colab": {
          "base_uri": "https://localhost:8080/"
        }
      },
      "execution_count": 22,
      "outputs": [
        {
          "output_type": "stream",
          "name": "stdout",
          "text": [
            "The domain 'newdomain51.com' is potentially malicious as it has a label of 1 in the dataset. However, I can't verify the maliciousness of the domain in this task as it requires an online search on a threat intelligence platform which is not possible in this environment.\n"
          ]
        }
      ]
    },
    {
      "cell_type": "code",
      "source": [
        "invoke_input = {\"input\": response_output}\n",
        "print(invoke_input)"
      ],
      "metadata": {
        "id": "C8bgX4Qgqnpx",
        "outputId": "386e73d8-7d9b-4704-e1cf-f01a12bdce4d",
        "colab": {
          "base_uri": "https://localhost:8080/"
        }
      },
      "execution_count": 23,
      "outputs": [
        {
          "output_type": "stream",
          "name": "stdout",
          "text": [
            "{'input': \"The domain 'newdomain51.com' is potentially malicious as it has a label of 1 in the dataset. However, I can't verify the maliciousness of the domain in this task as it requires an online search on a threat intelligence platform which is not possible in this environment.\"}\n"
          ]
        }
      ]
    },
    {
      "cell_type": "code",
      "source": [
        "alpha.invoke(invoke_input)"
      ],
      "metadata": {
        "id": "udl9LaBvhUp2",
        "outputId": "ae0ade5a-3d0d-4e86-b24d-8773da966e53",
        "colab": {
          "base_uri": "https://localhost:8080/"
        }
      },
      "execution_count": 24,
      "outputs": [
        {
          "output_type": "stream",
          "name": "stdout",
          "text": [
            "\n",
            "\n",
            "\u001b[1m> Entering new AgentExecutor chain...\u001b[0m\n",
            "\u001b[32;1m\u001b[1;3mSince an online search on a threat intelligence platform is not possible, there is no action to take.\n",
            "Final Answer: The maliciousness of the domain 'newdomain51.com' cannot be verified in this task as it requires an online search on a threat intelligence platform which is not possible in this environment.\u001b[0m\n",
            "\n",
            "\u001b[1m> Finished chain.\u001b[0m\n"
          ]
        },
        {
          "output_type": "execute_result",
          "data": {
            "text/plain": [
              "{'input': \"The domain 'newdomain51.com' is potentially malicious as it has a label of 1 in the dataset. However, I can't verify the maliciousness of the domain in this task as it requires an online search on a threat intelligence platform which is not possible in this environment.\",\n",
              " 'output': \"The maliciousness of the domain 'newdomain51.com' cannot be verified in this task as it requires an online search on a threat intelligence platform which is not possible in this environment.\"}"
            ]
          },
          "metadata": {},
          "execution_count": 24
        }
      ]
    },
    {
      "cell_type": "code",
      "source": [
        "agent_chain.run(\n",
        "   invoke_input\n",
        ")"
      ],
      "metadata": {
        "id": "i_s2hcjNg-_6",
        "outputId": "0799571c-efc0-491b-ad6a-2f30c4633378",
        "colab": {
          "base_uri": "https://localhost:8080/",
          "height": 293
        }
      },
      "execution_count": 25,
      "outputs": [
        {
          "output_type": "stream",
          "name": "stderr",
          "text": [
            "/usr/local/lib/python3.10/dist-packages/langchain_core/_api/deprecation.py:139: LangChainDeprecationWarning: The method `Chain.run` was deprecated in langchain 0.1.0 and will be removed in 0.3.0. Use invoke instead.\n",
            "  warn_deprecated(\n"
          ]
        },
        {
          "output_type": "stream",
          "name": "stdout",
          "text": [
            "\n",
            "\n",
            "\u001b[1m> Entering new AgentExecutor chain...\u001b[0m\n",
            "\u001b[32;1m\u001b[1;3m{\n",
            "  \"action\": \"Final Answer\",\n",
            "  \"action_input\": \"You're correct. In this environment, we don't have access to real-time threat intelligence platforms. The label of '1' in your dataset likely indicates that 'newdomain51.com' was considered malicious when the data was collected. However, without current, real-time data, we cannot definitively confirm the current status of the domain. It's always best to be cautious with domains labeled as potentially malicious.\"\n",
            "}\u001b[0m\n",
            "\n",
            "\u001b[1m> Finished chain.\u001b[0m\n"
          ]
        },
        {
          "output_type": "execute_result",
          "data": {
            "text/plain": [
              "'{\\n  \"action\": \"Final Answer\",\\n  \"action_input\": \"You\\'re correct. In this environment, we don\\'t have access to real-time threat intelligence platforms. The label of \\'1\\' in your dataset likely indicates that \\'newdomain51.com\\' was considered malicious when the data was collected. However, without current, real-time data, we cannot definitively confirm the current status of the domain. It\\'s always best to be cautious with domains labeled as potentially malicious.\"\\n}'"
            ],
            "application/vnd.google.colaboratory.intrinsic+json": {
              "type": "string"
            }
          },
          "metadata": {},
          "execution_count": 25
        }
      ]
    },
    {
      "cell_type": "code",
      "source": [],
      "metadata": {
        "id": "-X33V0dqfIcW"
      },
      "execution_count": null,
      "outputs": []
    }
  ]
}